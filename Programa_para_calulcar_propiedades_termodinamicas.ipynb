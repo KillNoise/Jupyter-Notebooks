{
  "cells": [
    {
      "cell_type": "markdown",
      "source": [
        "# **Programa para calcular propiedades termodinamicas**\n",
        "By Marlon Viasus"
      ],
      "metadata": {
        "collapsed": false,
        "id": "287c759841d270"
      },
      "id": "287c759841d270"
    },
    {
      "cell_type": "markdown",
      "source": [
        "**CoolProp es una libreria que nos ayuda a calcular propiedades termodinamicas**  \n",
        "http://www.coolprop.org/coolprop/HighLevelAPI.html"
      ],
      "metadata": {
        "collapsed": false,
        "id": "72b5f9e7ae38ce18"
      },
      "id": "72b5f9e7ae38ce18"
    },
    {
      "cell_type": "markdown",
      "source": [
        "**Ejemplos**\n",
        "\n",
        "Agua a 300 K y 1 atm (101325 Pa):\n",
        "    Ingrese la sustancia: water |\n",
        "    Ingrese la temperatura (K): 300 |\n",
        "    Ingrese la presión (Pa): 101325 |  \n",
        "    Ingrese la masa (kg): 1\n",
        "\n",
        "\n",
        "---\n",
        "\n",
        "\n",
        "Nitrógeno a 77 K y 1 atm (101325 Pa):\n",
        "    Ingrese la sustancia: nitrogen |\n",
        "    Ingrese la temperatura (K): 77 |\n",
        "    Ingrese la presión (Pa): 101325 |  \n",
        "    Ingrese la masa (kg): 2\n",
        "\n",
        "\n",
        "---\n",
        "\n",
        "\n",
        "\n",
        "Oxígeno a 200 K y 2 atm (202650 Pa):\n",
        "    Ingrese la sustancia: oxygen |\n",
        "    Ingrese la temperatura (K): 200 |\n",
        "    Ingrese la presión (Pa): 202650 |  \n",
        "    Ingrese la masa (kg): 1.5"
      ],
      "metadata": {
        "collapsed": false,
        "id": "b64a50233df220ed"
      },
      "id": "b64a50233df220ed"
    },
    {
      "cell_type": "markdown",
      "source": [
        "**La lista completa de los fluidos incluidos en CoolProp se encuntran en el siguiente link**\n",
        "http://www.coolprop.org/fluid_properties/PurePseudoPure.html#list-of-fluids"
      ],
      "metadata": {
        "collapsed": false,
        "id": "6a462cd74474b3bb"
      },
      "id": "6a462cd74474b3bb"
    },
    {
      "cell_type": "code",
      "outputs": [
        {
          "output_type": "stream",
          "name": "stdout",
          "text": [
            "Collecting coolprop\n",
            "  Downloading CoolProp-6.6.0-cp310-cp310-manylinux_2_17_x86_64.manylinux2014_x86_64.whl (7.0 MB)\n",
            "\u001b[2K     \u001b[90m━━━━━━━━━━━━━━━━━━━━━━━━━━━━━━━━━━━━━━━━\u001b[0m \u001b[32m7.0/7.0 MB\u001b[0m \u001b[31m14.2 MB/s\u001b[0m eta \u001b[36m0:00:00\u001b[0m\n",
            "\u001b[?25hRequirement already satisfied: ipywidgets in /usr/local/lib/python3.10/dist-packages (7.7.1)\n",
            "Requirement already satisfied: ipykernel>=4.5.1 in /usr/local/lib/python3.10/dist-packages (from ipywidgets) (5.5.6)\n",
            "Requirement already satisfied: ipython-genutils~=0.2.0 in /usr/local/lib/python3.10/dist-packages (from ipywidgets) (0.2.0)\n",
            "Requirement already satisfied: traitlets>=4.3.1 in /usr/local/lib/python3.10/dist-packages (from ipywidgets) (5.7.1)\n",
            "Requirement already satisfied: widgetsnbextension~=3.6.0 in /usr/local/lib/python3.10/dist-packages (from ipywidgets) (3.6.6)\n",
            "Requirement already satisfied: ipython>=4.0.0 in /usr/local/lib/python3.10/dist-packages (from ipywidgets) (7.34.0)\n",
            "Requirement already satisfied: jupyterlab-widgets>=1.0.0 in /usr/local/lib/python3.10/dist-packages (from ipywidgets) (3.0.10)\n",
            "Requirement already satisfied: jupyter-client in /usr/local/lib/python3.10/dist-packages (from ipykernel>=4.5.1->ipywidgets) (6.1.12)\n",
            "Requirement already satisfied: tornado>=4.2 in /usr/local/lib/python3.10/dist-packages (from ipykernel>=4.5.1->ipywidgets) (6.3.3)\n",
            "Requirement already satisfied: setuptools>=18.5 in /usr/local/lib/python3.10/dist-packages (from ipython>=4.0.0->ipywidgets) (67.7.2)\n",
            "Collecting jedi>=0.16 (from ipython>=4.0.0->ipywidgets)\n",
            "  Downloading jedi-0.19.1-py2.py3-none-any.whl (1.6 MB)\n",
            "\u001b[2K     \u001b[90m━━━━━━━━━━━━━━━━━━━━━━━━━━━━━━━━━━━━━━━━\u001b[0m \u001b[32m1.6/1.6 MB\u001b[0m \u001b[31m28.7 MB/s\u001b[0m eta \u001b[36m0:00:00\u001b[0m\n",
            "\u001b[?25hRequirement already satisfied: decorator in /usr/local/lib/python3.10/dist-packages (from ipython>=4.0.0->ipywidgets) (4.4.2)\n",
            "Requirement already satisfied: pickleshare in /usr/local/lib/python3.10/dist-packages (from ipython>=4.0.0->ipywidgets) (0.7.5)\n",
            "Requirement already satisfied: prompt-toolkit!=3.0.0,!=3.0.1,<3.1.0,>=2.0.0 in /usr/local/lib/python3.10/dist-packages (from ipython>=4.0.0->ipywidgets) (3.0.43)\n",
            "Requirement already satisfied: pygments in /usr/local/lib/python3.10/dist-packages (from ipython>=4.0.0->ipywidgets) (2.16.1)\n",
            "Requirement already satisfied: backcall in /usr/local/lib/python3.10/dist-packages (from ipython>=4.0.0->ipywidgets) (0.2.0)\n",
            "Requirement already satisfied: matplotlib-inline in /usr/local/lib/python3.10/dist-packages (from ipython>=4.0.0->ipywidgets) (0.1.6)\n",
            "Requirement already satisfied: pexpect>4.3 in /usr/local/lib/python3.10/dist-packages (from ipython>=4.0.0->ipywidgets) (4.9.0)\n",
            "Requirement already satisfied: notebook>=4.4.1 in /usr/local/lib/python3.10/dist-packages (from widgetsnbextension~=3.6.0->ipywidgets) (6.5.5)\n",
            "Requirement already satisfied: parso<0.9.0,>=0.8.3 in /usr/local/lib/python3.10/dist-packages (from jedi>=0.16->ipython>=4.0.0->ipywidgets) (0.8.3)\n",
            "Requirement already satisfied: jinja2 in /usr/local/lib/python3.10/dist-packages (from notebook>=4.4.1->widgetsnbextension~=3.6.0->ipywidgets) (3.1.3)\n",
            "Requirement already satisfied: pyzmq<25,>=17 in /usr/local/lib/python3.10/dist-packages (from notebook>=4.4.1->widgetsnbextension~=3.6.0->ipywidgets) (23.2.1)\n",
            "Requirement already satisfied: argon2-cffi in /usr/local/lib/python3.10/dist-packages (from notebook>=4.4.1->widgetsnbextension~=3.6.0->ipywidgets) (23.1.0)\n",
            "Requirement already satisfied: jupyter-core>=4.6.1 in /usr/local/lib/python3.10/dist-packages (from notebook>=4.4.1->widgetsnbextension~=3.6.0->ipywidgets) (5.7.2)\n",
            "Requirement already satisfied: nbformat in /usr/local/lib/python3.10/dist-packages (from notebook>=4.4.1->widgetsnbextension~=3.6.0->ipywidgets) (5.10.3)\n",
            "Requirement already satisfied: nbconvert>=5 in /usr/local/lib/python3.10/dist-packages (from notebook>=4.4.1->widgetsnbextension~=3.6.0->ipywidgets) (6.5.4)\n",
            "Requirement already satisfied: nest-asyncio>=1.5 in /usr/local/lib/python3.10/dist-packages (from notebook>=4.4.1->widgetsnbextension~=3.6.0->ipywidgets) (1.6.0)\n",
            "Requirement already satisfied: Send2Trash>=1.8.0 in /usr/local/lib/python3.10/dist-packages (from notebook>=4.4.1->widgetsnbextension~=3.6.0->ipywidgets) (1.8.2)\n",
            "Requirement already satisfied: terminado>=0.8.3 in /usr/local/lib/python3.10/dist-packages (from notebook>=4.4.1->widgetsnbextension~=3.6.0->ipywidgets) (0.18.1)\n",
            "Requirement already satisfied: prometheus-client in /usr/local/lib/python3.10/dist-packages (from notebook>=4.4.1->widgetsnbextension~=3.6.0->ipywidgets) (0.20.0)\n",
            "Requirement already satisfied: nbclassic>=0.4.7 in /usr/local/lib/python3.10/dist-packages (from notebook>=4.4.1->widgetsnbextension~=3.6.0->ipywidgets) (1.0.0)\n",
            "Requirement already satisfied: python-dateutil>=2.1 in /usr/local/lib/python3.10/dist-packages (from jupyter-client->ipykernel>=4.5.1->ipywidgets) (2.8.2)\n",
            "Requirement already satisfied: ptyprocess>=0.5 in /usr/local/lib/python3.10/dist-packages (from pexpect>4.3->ipython>=4.0.0->ipywidgets) (0.7.0)\n",
            "Requirement already satisfied: wcwidth in /usr/local/lib/python3.10/dist-packages (from prompt-toolkit!=3.0.0,!=3.0.1,<3.1.0,>=2.0.0->ipython>=4.0.0->ipywidgets) (0.2.13)\n",
            "Requirement already satisfied: platformdirs>=2.5 in /usr/local/lib/python3.10/dist-packages (from jupyter-core>=4.6.1->notebook>=4.4.1->widgetsnbextension~=3.6.0->ipywidgets) (4.2.0)\n",
            "Requirement already satisfied: jupyter-server>=1.8 in /usr/local/lib/python3.10/dist-packages (from nbclassic>=0.4.7->notebook>=4.4.1->widgetsnbextension~=3.6.0->ipywidgets) (1.24.0)\n",
            "Requirement already satisfied: notebook-shim>=0.2.3 in /usr/local/lib/python3.10/dist-packages (from nbclassic>=0.4.7->notebook>=4.4.1->widgetsnbextension~=3.6.0->ipywidgets) (0.2.4)\n",
            "Requirement already satisfied: lxml in /usr/local/lib/python3.10/dist-packages (from nbconvert>=5->notebook>=4.4.1->widgetsnbextension~=3.6.0->ipywidgets) (4.9.4)\n",
            "Requirement already satisfied: beautifulsoup4 in /usr/local/lib/python3.10/dist-packages (from nbconvert>=5->notebook>=4.4.1->widgetsnbextension~=3.6.0->ipywidgets) (4.12.3)\n",
            "Requirement already satisfied: bleach in /usr/local/lib/python3.10/dist-packages (from nbconvert>=5->notebook>=4.4.1->widgetsnbextension~=3.6.0->ipywidgets) (6.1.0)\n",
            "Requirement already satisfied: defusedxml in /usr/local/lib/python3.10/dist-packages (from nbconvert>=5->notebook>=4.4.1->widgetsnbextension~=3.6.0->ipywidgets) (0.7.1)\n",
            "Requirement already satisfied: entrypoints>=0.2.2 in /usr/local/lib/python3.10/dist-packages (from nbconvert>=5->notebook>=4.4.1->widgetsnbextension~=3.6.0->ipywidgets) (0.4)\n",
            "Requirement already satisfied: jupyterlab-pygments in /usr/local/lib/python3.10/dist-packages (from nbconvert>=5->notebook>=4.4.1->widgetsnbextension~=3.6.0->ipywidgets) (0.3.0)\n",
            "Requirement already satisfied: MarkupSafe>=2.0 in /usr/local/lib/python3.10/dist-packages (from nbconvert>=5->notebook>=4.4.1->widgetsnbextension~=3.6.0->ipywidgets) (2.1.5)\n",
            "Requirement already satisfied: mistune<2,>=0.8.1 in /usr/local/lib/python3.10/dist-packages (from nbconvert>=5->notebook>=4.4.1->widgetsnbextension~=3.6.0->ipywidgets) (0.8.4)\n",
            "Requirement already satisfied: nbclient>=0.5.0 in /usr/local/lib/python3.10/dist-packages (from nbconvert>=5->notebook>=4.4.1->widgetsnbextension~=3.6.0->ipywidgets) (0.10.0)\n",
            "Requirement already satisfied: packaging in /usr/local/lib/python3.10/dist-packages (from nbconvert>=5->notebook>=4.4.1->widgetsnbextension~=3.6.0->ipywidgets) (24.0)\n",
            "Requirement already satisfied: pandocfilters>=1.4.1 in /usr/local/lib/python3.10/dist-packages (from nbconvert>=5->notebook>=4.4.1->widgetsnbextension~=3.6.0->ipywidgets) (1.5.1)\n",
            "Requirement already satisfied: tinycss2 in /usr/local/lib/python3.10/dist-packages (from nbconvert>=5->notebook>=4.4.1->widgetsnbextension~=3.6.0->ipywidgets) (1.2.1)\n",
            "Requirement already satisfied: fastjsonschema in /usr/local/lib/python3.10/dist-packages (from nbformat->notebook>=4.4.1->widgetsnbextension~=3.6.0->ipywidgets) (2.19.1)\n",
            "Requirement already satisfied: jsonschema>=2.6 in /usr/local/lib/python3.10/dist-packages (from nbformat->notebook>=4.4.1->widgetsnbextension~=3.6.0->ipywidgets) (4.19.2)\n",
            "Requirement already satisfied: six>=1.5 in /usr/local/lib/python3.10/dist-packages (from python-dateutil>=2.1->jupyter-client->ipykernel>=4.5.1->ipywidgets) (1.16.0)\n",
            "Requirement already satisfied: argon2-cffi-bindings in /usr/local/lib/python3.10/dist-packages (from argon2-cffi->notebook>=4.4.1->widgetsnbextension~=3.6.0->ipywidgets) (21.2.0)\n",
            "Requirement already satisfied: attrs>=22.2.0 in /usr/local/lib/python3.10/dist-packages (from jsonschema>=2.6->nbformat->notebook>=4.4.1->widgetsnbextension~=3.6.0->ipywidgets) (23.2.0)\n",
            "Requirement already satisfied: jsonschema-specifications>=2023.03.6 in /usr/local/lib/python3.10/dist-packages (from jsonschema>=2.6->nbformat->notebook>=4.4.1->widgetsnbextension~=3.6.0->ipywidgets) (2023.12.1)\n",
            "Requirement already satisfied: referencing>=0.28.4 in /usr/local/lib/python3.10/dist-packages (from jsonschema>=2.6->nbformat->notebook>=4.4.1->widgetsnbextension~=3.6.0->ipywidgets) (0.34.0)\n",
            "Requirement already satisfied: rpds-py>=0.7.1 in /usr/local/lib/python3.10/dist-packages (from jsonschema>=2.6->nbformat->notebook>=4.4.1->widgetsnbextension~=3.6.0->ipywidgets) (0.18.0)\n",
            "Requirement already satisfied: anyio<4,>=3.1.0 in /usr/local/lib/python3.10/dist-packages (from jupyter-server>=1.8->nbclassic>=0.4.7->notebook>=4.4.1->widgetsnbextension~=3.6.0->ipywidgets) (3.7.1)\n",
            "Requirement already satisfied: websocket-client in /usr/local/lib/python3.10/dist-packages (from jupyter-server>=1.8->nbclassic>=0.4.7->notebook>=4.4.1->widgetsnbextension~=3.6.0->ipywidgets) (1.7.0)\n",
            "Requirement already satisfied: cffi>=1.0.1 in /usr/local/lib/python3.10/dist-packages (from argon2-cffi-bindings->argon2-cffi->notebook>=4.4.1->widgetsnbextension~=3.6.0->ipywidgets) (1.16.0)\n",
            "Requirement already satisfied: soupsieve>1.2 in /usr/local/lib/python3.10/dist-packages (from beautifulsoup4->nbconvert>=5->notebook>=4.4.1->widgetsnbextension~=3.6.0->ipywidgets) (2.5)\n",
            "Requirement already satisfied: webencodings in /usr/local/lib/python3.10/dist-packages (from bleach->nbconvert>=5->notebook>=4.4.1->widgetsnbextension~=3.6.0->ipywidgets) (0.5.1)\n",
            "Requirement already satisfied: idna>=2.8 in /usr/local/lib/python3.10/dist-packages (from anyio<4,>=3.1.0->jupyter-server>=1.8->nbclassic>=0.4.7->notebook>=4.4.1->widgetsnbextension~=3.6.0->ipywidgets) (3.6)\n",
            "Requirement already satisfied: sniffio>=1.1 in /usr/local/lib/python3.10/dist-packages (from anyio<4,>=3.1.0->jupyter-server>=1.8->nbclassic>=0.4.7->notebook>=4.4.1->widgetsnbextension~=3.6.0->ipywidgets) (1.3.1)\n",
            "Requirement already satisfied: exceptiongroup in /usr/local/lib/python3.10/dist-packages (from anyio<4,>=3.1.0->jupyter-server>=1.8->nbclassic>=0.4.7->notebook>=4.4.1->widgetsnbextension~=3.6.0->ipywidgets) (1.2.0)\n",
            "Requirement already satisfied: pycparser in /usr/local/lib/python3.10/dist-packages (from cffi>=1.0.1->argon2-cffi-bindings->argon2-cffi->notebook>=4.4.1->widgetsnbextension~=3.6.0->ipywidgets) (2.22)\n",
            "Installing collected packages: coolprop, jedi\n",
            "Successfully installed coolprop-6.6.0 jedi-0.19.1\n"
          ]
        }
      ],
      "source": [
        "!pip install coolprop ipywidgets"
      ],
      "metadata": {
        "ExecuteTime": {
          "end_time": "2024-04-05T20:38:52.418901Z",
          "start_time": "2024-04-05T20:38:48.894296Z"
        },
        "id": "752610f891593678",
        "colab": {
          "base_uri": "https://localhost:8080/"
        },
        "outputId": "43fbae2b-2d99-4254-84c5-523838ba67f5"
      },
      "id": "752610f891593678",
      "execution_count": null
    },
    {
      "cell_type": "markdown",
      "source": [
        "# **Programa base**\n",
        "\n",
        "\n"
      ],
      "metadata": {
        "collapsed": false,
        "id": "de471cbb81c83443"
      },
      "id": "de471cbb81c83443"
    },
    {
      "cell_type": "code",
      "outputs": [
        {
          "output_type": "stream",
          "name": "stdout",
          "text": [
            "Calculadora de Propiedades Termodinámicas\n",
            "Ingrese la sustancia con la que desea trabajar: water\n",
            "Ingrese la temperatura (K): 300\n",
            "Ingrese la presión (Pa): 101325\n",
            "Ingrese la masa de la sustancia (kg): 1\n",
            "A continuación se muestra el cálculo de las propiedades termodinámicas de la sustancia: water, a una temperatura de 300.0 K y una presión de 101325.0 Pa.\n",
            "Entalpía (J/kg): 112654.9\n",
            "Entropía (J/kg*K): 393.06\n",
            "Energía Interna (J/kg): 112553.22\n",
            "Capacidad calorífica a presión constante (J/kg*K): 4180.64\n",
            "Capacidad calorífica a volumen constante (J/kg*K): 4130.17\n",
            "Calor específico a presión constante (J/kg*K): 4180.64\n",
            "Calor específico a volumen constante (J/kg*K): 4130.17\n"
          ]
        }
      ],
      "source": [
        "import CoolProp.CoolProp as CP\n",
        "\n",
        "#Creamos función que va a calcular las propiedades\n",
        "def calcular_propiedades():\n",
        "    try:\n",
        "        #Creamos inputs\n",
        "        sustancia = input(\"Ingrese la sustancia con la que desea trabajar: \")\n",
        "        temp = float(input(\"Ingrese la temperatura (K): \"))\n",
        "        presion = float(input(\"Ingrese la presión (Pa): \"))\n",
        "        masa = float(input(\"Ingrese la masa de la sustancia (kg): \"))\n",
        "\n",
        "        #'H' para entalpía, 'S' para entropía y 'U' para energía interna.\n",
        "        #'T': Indica que estamos proporcionando la temperatura como un argumento.\n",
        "        #'P': Indica que estamos proporcionando la presion como un argumento.\n",
        "        entalpia = CP.PropsSI('H', 'T', temp, 'P', presion, sustancia)\n",
        "        entropia = CP.PropsSI('S', 'T', temp, 'P', presion, sustancia)\n",
        "        energia_interna = CP.PropsSI('U', 'T', temp, 'P', presion, sustancia)\n",
        "\n",
        "        # Cálculo de la capacidad calorífica a presión constante (Cp)\n",
        "        cp = CP.PropsSI('C', 'T', temp, 'P', presion, sustancia)\n",
        "\n",
        "        # Cálculo de la capacidad calorífica a volumen constante (Cv)\n",
        "        cv = CP.PropsSI('CVMASS', 'T', temp, 'P', presion, sustancia)\n",
        "\n",
        "        # Cálculo del calor específico a presión constante (cp)\n",
        "        cp_specific = cp / masa\n",
        "\n",
        "        # Cálculo del calor específico a volumen constante (cv)\n",
        "        cv_specific = cv / masa\n",
        "\n",
        "        #Procedemos a imprimir los resultados\n",
        "        print(f\"A continuación se muestra el cálculo de las propiedades termodinámicas de la sustancia: {sustancia}, a una temperatura de {temp} K y una presión de {presion} Pa.\")\n",
        "        print(f\"Entalpía (J/kg): {round(entalpia, 2)}\")\n",
        "        print(f\"Entropía (J/kg*K): {round(entropia, 2)}\")\n",
        "        print(f\"Energía Interna (J/kg): {round(energia_interna, 2)}\")\n",
        "        print(f\"Capacidad calorífica a presión constante (J/kg*K): {round(cp, 2)}\")\n",
        "        print(f\"Capacidad calorífica a volumen constante (J/kg*K): {round(cv, 2)}\")\n",
        "        print(f\"Calor específico a presión constante (J/kg*K): {round(cp_specific, 2)}\")\n",
        "        print(f\"Calor específico a volumen constante (J/kg*K): {round(cv_specific, 2)}\")\n",
        "\n",
        "    #Aqui termina el try para lanzar la excepcion al error de que se ingresen datos no correspondientes\n",
        "    except ValueError:\n",
        "        print(\"¡Error! Por favor, ingrese nombre de sustancia y valores numéricos válidos.\")\n",
        "\n",
        "#Condicion para verificar si el script proviene del modulo main\n",
        "if __name__ == \"__main__\":\n",
        "    print('Calculadora de Propiedades Termodinámicas')\n",
        "    calcular_propiedades()"
      ],
      "metadata": {
        "ExecuteTime": {
          "end_time": "2024-04-05T20:39:10.850284Z",
          "start_time": "2024-04-05T20:38:52.423507Z"
        },
        "colab": {
          "base_uri": "https://localhost:8080/"
        },
        "id": "b8c12ccf9f71845f",
        "outputId": "717c7392-214f-49cf-f45e-6ddc5cdb030b"
      },
      "id": "b8c12ccf9f71845f",
      "execution_count": null
    },
    {
      "cell_type": "markdown",
      "source": [
        "**Utilizando libreria Ipywidgets (dropdown)**  \n",
        "Creamos un dropdown que nos permita seleccionar cual propiedad queremos ver (o si queremos ver todas)"
      ],
      "metadata": {
        "collapsed": false,
        "id": "a5a74dc649e9ded7"
      },
      "id": "a5a74dc649e9ded7"
    },
    {
      "cell_type": "code",
      "outputs": [
        {
          "name": "stdout",
          "output_type": "stream",
          "text": [
            "Calculadora de Propiedades Termodinámicas\n",
            "Ingrese la sustancia con la que desea trabajar: water\n",
            "Ingrese la temperatura (K): 300\n",
            "Ingrese la presión (Pa): 101325\n",
            "Ingrese la masa de la sustancia (kg): 1\n"
          ]
        },
        {
          "output_type": "display_data",
          "data": {
            "text/plain": [
              "interactive(children=(Dropdown(description='Propiedad:', options=('Entalpía', 'Entropía', 'Energía Interna', '…"
            ],
            "application/vnd.jupyter.widget-view+json": {
              "version_major": 2,
              "version_minor": 0,
              "model_id": "e79ef49116454ddd847667379adf9c9d"
            }
          },
          "metadata": {}
        }
      ],
      "source": [
        "import numpy as np\n",
        "import matplotlib.pyplot as plt\n",
        "import CoolProp.CoolProp as CP\n",
        "import ipywidgets as widgets\n",
        "from ipywidgets import interact, Layout\n",
        "\n",
        "def calcular_propiedades(sustancia, temp, presion, masa, propiedad):\n",
        "    try:\n",
        "        propiedades = {}\n",
        "\n",
        "        #Creamos condicinales para poderlos mostrar uno a uno\n",
        "        if propiedad == 'Entalpía':\n",
        "            propiedades['Entalpía'] = CP.PropsSI('H', 'T', temp, 'P', presion, sustancia)\n",
        "        elif propiedad == 'Entropía':\n",
        "            propiedades['Entropía'] = CP.PropsSI('S', 'T', temp, 'P', presion, sustancia)\n",
        "        elif propiedad == 'Energía Interna':\n",
        "            propiedades['Energía Interna'] = CP.PropsSI('U', 'T', temp, 'P', presion, sustancia)\n",
        "        elif propiedad == 'Capacidad Calorífica a Presión Constante':\n",
        "            propiedades['Capacidad Calorífica a Presión Constante'] = CP.PropsSI('C', 'T', temp, 'P', presion, sustancia)\n",
        "        elif propiedad == 'Capacidad Calorífica a Volumen Constante':\n",
        "            propiedades['Capacidad Calorífica a Volumen Constante'] = CP.PropsSI('CVMASS', 'T', temp, 'P', presion, sustancia)\n",
        "        elif propiedad == 'Calor Específico a Presión Constante':\n",
        "            cp = CP.PropsSI('C', 'T', temp, 'P', presion, sustancia)\n",
        "            propiedades['Calor Específico a Presión Constante'] = cp / masa\n",
        "        elif propiedad == 'Calor Específico a Volumen Constante':\n",
        "            cv = CP.PropsSI('CVMASS', 'T', temp, 'P', presion, sustancia)\n",
        "            propiedades['Calor Específico a Volumen Constante'] = cv / masa\n",
        "\n",
        "        #Condicional para que muestre todas\n",
        "        elif propiedad == 'Todas':\n",
        "            propiedades['Entalpía'] = CP.PropsSI('H', 'T', temp, 'P', presion, sustancia)\n",
        "            propiedades['Entropía'] = CP.PropsSI('S', 'T', temp, 'P', presion, sustancia)\n",
        "            propiedades['Energía Interna'] = CP.PropsSI('U', 'T', temp, 'P', presion, sustancia)\n",
        "            propiedades['Capacidad Calorífica a Presión Constante'] = CP.PropsSI('C', 'T', temp, 'P', presion, sustancia)\n",
        "            propiedades['Capacidad Calorífica a Volumen Constante'] = CP.PropsSI('CVMASS', 'T', temp, 'P', presion, sustancia)\n",
        "            cp = CP.PropsSI('C', 'T', temp, 'P', presion, sustancia)\n",
        "            cv = CP.PropsSI('CVMASS', 'T', temp, 'P', presion, sustancia)\n",
        "            propiedades['Calor Específico a Presión Constante'] = cp / masa\n",
        "            propiedades['Calor Específico a Volumen Constante'] = cv / masa\n",
        "\n",
        "        resultado = \"\"\n",
        "        for prop, valor in propiedades.items():\n",
        "            resultado += f\"{prop}: {round(valor, 2)}\\n\"\n",
        "\n",
        "        return resultado\n",
        "\n",
        "    except ValueError:\n",
        "        print(\"¡Error! Por favor, ingrese nombre de sustancia y valores numéricos válidos.\")\n",
        "\n",
        "#Creamos funcion para mostrar los resultados\n",
        "def mostrar_resultado(sustancia, temp, presion, masa, propiedad):\n",
        "    resultado = calcular_propiedades(sustancia, temp, presion, masa, propiedad)\n",
        "    print(resultado)\n",
        "\n",
        "if __name__ == \"__main__\":\n",
        "    print('Calculadora de Propiedades Termodinámicas')\n",
        "\n",
        "    #Treamos los input despues debido a que los necesitamos al llamar interact mas abajo\n",
        "    sustancia = input(\"Ingrese la sustancia con la que desea trabajar: \")\n",
        "    temp = float(input(\"Ingrese la temperatura (K): \"))\n",
        "    presion = float(input(\"Ingrese la presión (Pa): \"))\n",
        "    masa = float(input(\"Ingrese la masa de la sustancia (kg): \"))\n",
        "\n",
        "    #Creamos la lsta que definira cada opcion en el dropdown\n",
        "    propiedades = ['Entalpía', 'Entropía', 'Energía Interna', 'Capacidad Calorífica a Presión Constante','Capacidad Calorífica a Volumen Constante', 'Calor Específico a Presión Constante','Calor Específico a Volumen Constante', 'Todas']\n",
        "\n",
        "    #Creamos variable que almacena el dropdown\n",
        "    propiedad_dropdown = widgets.Dropdown(options=propiedades, description='Propiedad:')\n",
        "\n",
        "    #Llamamos la funcion interact para que propiedad_dropdwon pueda interactuar en la funcion que muestra los resultados\n",
        "    interact(mostrar_resultado, sustancia=widgets.fixed(sustancia), temp=widgets.fixed(temp),\n",
        "             presion=widgets.fixed(presion), masa=widgets.fixed(masa), propiedad=propiedad_dropdown)"
      ],
      "metadata": {
        "ExecuteTime": {
          "end_time": "2024-04-05T20:39:22.837261Z",
          "start_time": "2024-04-05T20:39:10.853606Z"
        },
        "colab": {
          "base_uri": "https://localhost:8080/",
          "height": 171,
          "referenced_widgets": [
            "e79ef49116454ddd847667379adf9c9d",
            "73ee7676a5c7482888bba035700dd87a",
            "dfcc7b82f41d4b2ebd9822c2f15ef41f",
            "b8ab70eead474ac7b6435bf3f666a67c",
            "19c1d6edd28940c3a6cd40437c749335",
            "04e755f4de474a2199934e0fb28a744f",
            "5a40e7b250234fbf952cb41a5eb74933"
          ]
        },
        "id": "abfe3d4326b73e51",
        "outputId": "dba22319-b3f4-458d-96ae-282ee4942e2b"
      },
      "id": "abfe3d4326b73e51",
      "execution_count": null
    },
    {
      "cell_type": "markdown",
      "source": [
        "#**Graficas**"
      ],
      "metadata": {
        "collapsed": false,
        "id": "321e7a6c53c6c33b"
      },
      "id": "321e7a6c53c6c33b"
    },
    {
      "cell_type": "markdown",
      "source": [
        "**Entalpía (h) VS Temperatura**  \n",
        "La libreria CoolCrop no acepta valores por debajo de los 0 °C (273.15 k), por lo que no podremos ver todas las fases en la grafica (solo se podra evidenciar la evaporación)"
      ],
      "metadata": {
        "collapsed": false,
        "id": "7fa829e8d78c6b55"
      },
      "id": "7fa829e8d78c6b55"
    },
    {
      "cell_type": "code",
      "outputs": [
        {
          "name": "stdout",
          "output_type": "stream",
          "text": [
            "Ingrese la sustancia con la que desea trabajar: water\n"
          ]
        },
        {
          "output_type": "display_data",
          "data": {
            "text/plain": [
              "interactive(children=(FloatSlider(value=101325.0, description='Presión (Pa)', max=250000.0, min=1000.0, step=1…"
            ],
            "application/vnd.jupyter.widget-view+json": {
              "version_major": 2,
              "version_minor": 0,
              "model_id": "01cb07f64572479c99b9cff5e826226e"
            }
          },
          "metadata": {}
        }
      ],
      "source": [
        "import numpy as np\n",
        "import matplotlib.pyplot as plt\n",
        "import CoolProp.CoolProp as CP\n",
        "import ipywidgets as widgets\n",
        "from ipywidgets import interact\n",
        "\n",
        "#Creamos funcion para mostrar la grafica\n",
        "def graficar_entalpia_vs_temperatura(sustancia, presion):\n",
        "\n",
        "    #Generamos un rango de temperaturas\n",
        "    temperaturas = np.linspace(273.16, 700, 200)\n",
        "\n",
        "    #Creamos ciclo que itere en cada presion que seleccionemos\n",
        "    entalpias = [CP.PropsSI('H', 'T', T, 'P', presion, sustancia) for T in temperaturas]\n",
        "\n",
        "    #Definimos la grafica\n",
        "    plt.figure(figsize=(8, 6))\n",
        "    plt.plot(temperaturas, entalpias, label='Entalpía')\n",
        "    plt.title(f'{sustancia}: Entalpía vs. Temperatura')\n",
        "    plt.xlabel('Temperatura (K)')\n",
        "    plt.ylabel('Entalpía (J/kg)')\n",
        "    plt.grid(True)\n",
        "    plt.show()\n",
        "\n",
        "if __name__ == \"__main__\":\n",
        "    sustancia = input(\"Ingrese la sustancia con la que desea trabajar: \")\n",
        "\n",
        "    # Creamos un control deslizante interactivo para la presión\n",
        "    presion_slider = widgets.FloatSlider(value=101325, min=1000, max=250000, step=1000, description='Presión (Pa)')\n",
        "\n",
        "    # Creamos una función interactiva que actualiza la gráfica cuando se cambia la presión\n",
        "    interact(graficar_entalpia_vs_temperatura, sustancia=widgets.fixed(sustancia), presion=presion_slider)"
      ],
      "metadata": {
        "ExecuteTime": {
          "end_time": "2024-04-05T20:39:26.195232Z",
          "start_time": "2024-04-05T20:39:22.839949Z"
        },
        "colab": {
          "base_uri": "https://localhost:8080/",
          "height": 614,
          "referenced_widgets": [
            "01cb07f64572479c99b9cff5e826226e",
            "deca4c69e0e14d00a2944781ec934ddd",
            "203db84ac59641ffb9471cdd9966c96b",
            "38e3bcbfc47f4a719587e3c108708b05",
            "24f35db7bcaf40fd98aae8ce56b19ed5",
            "9bbb0bc323e24f248422f91a9fe7f476",
            "74b8164151f6480da627d09e34223f5c"
          ]
        },
        "id": "d3b681e5174fd222",
        "outputId": "ccc05fb4-dc40-4894-a1e8-fe1e046b72f8"
      },
      "id": "d3b681e5174fd222",
      "execution_count": null
    },
    {
      "cell_type": "markdown",
      "source": [
        "**Punto de ebullicion variando la presion**"
      ],
      "metadata": {
        "collapsed": false,
        "id": "52e673c6fddce331"
      },
      "id": "52e673c6fddce331"
    },
    {
      "cell_type": "code",
      "source": [
        "import numpy as np\n",
        "import matplotlib.pyplot as plt\n",
        "import CoolProp.CoolProp as CP\n",
        "import ipywidgets as widgets\n",
        "from ipywidgets import interact\n",
        "\n",
        "#Creamos funcion para mostrar la grafica\n",
        "def punto_ebullicion(sustancia, presion):\n",
        "\n",
        "    #Calculamos la temperatura de ebullicion\n",
        "    temperatura_ebullicion = CP.PropsSI('T', 'P', presion, 'Q', 1, sustancia)\n",
        "\n",
        "    #Creamos un rango de presiones\n",
        "    presiones = np.linspace(10000, 200000, 100)\n",
        "\n",
        "    #Creamos ciclo que itere en cada presion que seleccionemos\n",
        "    temperaturas_ebullicion = [CP.PropsSI('T', 'P', P, 'Q', 1, sustancia) for P in presiones]\n",
        "\n",
        "    #Definimos la grafica\n",
        "    plt.figure(figsize=(8, 6))\n",
        "    plt.plot(temperaturas_ebullicion, presiones, color='#FFD700', label='Líquido/Vapor')\n",
        "    plt.scatter([temperatura_ebullicion], [presion], color='red', marker='o', label='Punto de Ebullición')\n",
        "    plt.title(f'Punto de ebullición para {sustancia}')\n",
        "    plt.xlabel('Temperatura (K)')\n",
        "    plt.ylabel('Presión (Pa)')\n",
        "    plt.grid(True)\n",
        "    plt.legend()\n",
        "    plt.show()\n",
        "\n",
        "if __name__ == \"__main__\":\n",
        "    sustancia = input(\"Ingrese la sustancia con la que desea trabajar: \")\n",
        "\n",
        "    #Creamos slider que nos deje seleccionar la presion\n",
        "    presion_slider = widgets.FloatSlider(value=101325, min=1000, max=200000, step=1000, description='Presión (Pa)')\n",
        "\n",
        "    # Creamos una función interactiva que actualiza la gráfica cuando se cambia la presión\n",
        "    interact(punto_ebullicion, sustancia=widgets.fixed(sustancia), presion=presion_slider)\n"
      ],
      "metadata": {
        "colab": {
          "base_uri": "https://localhost:8080/",
          "height": 614,
          "referenced_widgets": [
            "c051aaee4d06416f99bf136438ea4725",
            "14e7a96d2cb14644bcdf03bccbdced0d",
            "1fb13c56847d4befabe85c11872ab1ac",
            "12fdf147d465442dbdf96f395bc5d11d",
            "308bcae2661b4173971dc6ad8a16932b",
            "b92d2603c3bd490687787401cb2c33cc",
            "bc594ba5d2a8482db428410e32671176"
          ]
        },
        "id": "EwCH6EHoIjD_",
        "outputId": "dde54038-a03e-4bf2-9430-6ab1079160ee"
      },
      "id": "EwCH6EHoIjD_",
      "execution_count": null,
      "outputs": [
        {
          "name": "stdout",
          "output_type": "stream",
          "text": [
            "Ingrese la sustancia con la que desea trabajar: water\n"
          ]
        },
        {
          "output_type": "display_data",
          "data": {
            "text/plain": [
              "interactive(children=(FloatSlider(value=101325.0, description='Presión (Pa)', max=200000.0, min=1000.0, step=1…"
            ],
            "application/vnd.jupyter.widget-view+json": {
              "version_major": 2,
              "version_minor": 0,
              "model_id": "c051aaee4d06416f99bf136438ea4725"
            }
          },
          "metadata": {}
        }
      ]
    }
  ],
  "metadata": {
    "kernelspec": {
      "display_name": "Python 3",
      "language": "python",
      "name": "python3"
    },
    "language_info": {
      "codemirror_mode": {
        "name": "ipython",
        "version": 2
      },
      "file_extension": ".py",
      "mimetype": "text/x-python",
      "name": "python",
      "nbconvert_exporter": "python",
      "pygments_lexer": "ipython2",
      "version": "2.7.6"
    },
    "colab": {
      "provenance": [],
      "toc_visible": true
    },
    "widgets": {
      "application/vnd.jupyter.widget-state+json": {
        "e79ef49116454ddd847667379adf9c9d": {
          "model_module": "@jupyter-widgets/controls",
          "model_name": "VBoxModel",
          "model_module_version": "1.5.0",
          "state": {
            "_dom_classes": [
              "widget-interact"
            ],
            "_model_module": "@jupyter-widgets/controls",
            "_model_module_version": "1.5.0",
            "_model_name": "VBoxModel",
            "_view_count": null,
            "_view_module": "@jupyter-widgets/controls",
            "_view_module_version": "1.5.0",
            "_view_name": "VBoxView",
            "box_style": "",
            "children": [
              "IPY_MODEL_73ee7676a5c7482888bba035700dd87a",
              "IPY_MODEL_dfcc7b82f41d4b2ebd9822c2f15ef41f"
            ],
            "layout": "IPY_MODEL_b8ab70eead474ac7b6435bf3f666a67c"
          }
        },
        "73ee7676a5c7482888bba035700dd87a": {
          "model_module": "@jupyter-widgets/controls",
          "model_name": "DropdownModel",
          "model_module_version": "1.5.0",
          "state": {
            "_dom_classes": [],
            "_model_module": "@jupyter-widgets/controls",
            "_model_module_version": "1.5.0",
            "_model_name": "DropdownModel",
            "_options_labels": [
              "Entalpía",
              "Entropía",
              "Energía Interna",
              "Capacidad Calorífica a Presión Constante",
              "Capacidad Calorífica a Volumen Constante",
              "Calor Específico a Presión Constante",
              "Calor Específico a Volumen Constante",
              "Todas"
            ],
            "_view_count": null,
            "_view_module": "@jupyter-widgets/controls",
            "_view_module_version": "1.5.0",
            "_view_name": "DropdownView",
            "description": "Propiedad:",
            "description_tooltip": null,
            "disabled": false,
            "index": 0,
            "layout": "IPY_MODEL_19c1d6edd28940c3a6cd40437c749335",
            "style": "IPY_MODEL_04e755f4de474a2199934e0fb28a744f"
          }
        },
        "dfcc7b82f41d4b2ebd9822c2f15ef41f": {
          "model_module": "@jupyter-widgets/output",
          "model_name": "OutputModel",
          "model_module_version": "1.0.0",
          "state": {
            "_dom_classes": [],
            "_model_module": "@jupyter-widgets/output",
            "_model_module_version": "1.0.0",
            "_model_name": "OutputModel",
            "_view_count": null,
            "_view_module": "@jupyter-widgets/output",
            "_view_module_version": "1.0.0",
            "_view_name": "OutputView",
            "layout": "IPY_MODEL_5a40e7b250234fbf952cb41a5eb74933",
            "msg_id": "",
            "outputs": [
              {
                "output_type": "stream",
                "name": "stdout",
                "text": [
                  "Entalpía: 112654.9\n",
                  "\n"
                ]
              }
            ]
          }
        },
        "b8ab70eead474ac7b6435bf3f666a67c": {
          "model_module": "@jupyter-widgets/base",
          "model_name": "LayoutModel",
          "model_module_version": "1.2.0",
          "state": {
            "_model_module": "@jupyter-widgets/base",
            "_model_module_version": "1.2.0",
            "_model_name": "LayoutModel",
            "_view_count": null,
            "_view_module": "@jupyter-widgets/base",
            "_view_module_version": "1.2.0",
            "_view_name": "LayoutView",
            "align_content": null,
            "align_items": null,
            "align_self": null,
            "border": null,
            "bottom": null,
            "display": null,
            "flex": null,
            "flex_flow": null,
            "grid_area": null,
            "grid_auto_columns": null,
            "grid_auto_flow": null,
            "grid_auto_rows": null,
            "grid_column": null,
            "grid_gap": null,
            "grid_row": null,
            "grid_template_areas": null,
            "grid_template_columns": null,
            "grid_template_rows": null,
            "height": null,
            "justify_content": null,
            "justify_items": null,
            "left": null,
            "margin": null,
            "max_height": null,
            "max_width": null,
            "min_height": null,
            "min_width": null,
            "object_fit": null,
            "object_position": null,
            "order": null,
            "overflow": null,
            "overflow_x": null,
            "overflow_y": null,
            "padding": null,
            "right": null,
            "top": null,
            "visibility": null,
            "width": null
          }
        },
        "19c1d6edd28940c3a6cd40437c749335": {
          "model_module": "@jupyter-widgets/base",
          "model_name": "LayoutModel",
          "model_module_version": "1.2.0",
          "state": {
            "_model_module": "@jupyter-widgets/base",
            "_model_module_version": "1.2.0",
            "_model_name": "LayoutModel",
            "_view_count": null,
            "_view_module": "@jupyter-widgets/base",
            "_view_module_version": "1.2.0",
            "_view_name": "LayoutView",
            "align_content": null,
            "align_items": null,
            "align_self": null,
            "border": null,
            "bottom": null,
            "display": null,
            "flex": null,
            "flex_flow": null,
            "grid_area": null,
            "grid_auto_columns": null,
            "grid_auto_flow": null,
            "grid_auto_rows": null,
            "grid_column": null,
            "grid_gap": null,
            "grid_row": null,
            "grid_template_areas": null,
            "grid_template_columns": null,
            "grid_template_rows": null,
            "height": null,
            "justify_content": null,
            "justify_items": null,
            "left": null,
            "margin": null,
            "max_height": null,
            "max_width": null,
            "min_height": null,
            "min_width": null,
            "object_fit": null,
            "object_position": null,
            "order": null,
            "overflow": null,
            "overflow_x": null,
            "overflow_y": null,
            "padding": null,
            "right": null,
            "top": null,
            "visibility": null,
            "width": null
          }
        },
        "04e755f4de474a2199934e0fb28a744f": {
          "model_module": "@jupyter-widgets/controls",
          "model_name": "DescriptionStyleModel",
          "model_module_version": "1.5.0",
          "state": {
            "_model_module": "@jupyter-widgets/controls",
            "_model_module_version": "1.5.0",
            "_model_name": "DescriptionStyleModel",
            "_view_count": null,
            "_view_module": "@jupyter-widgets/base",
            "_view_module_version": "1.2.0",
            "_view_name": "StyleView",
            "description_width": ""
          }
        },
        "5a40e7b250234fbf952cb41a5eb74933": {
          "model_module": "@jupyter-widgets/base",
          "model_name": "LayoutModel",
          "model_module_version": "1.2.0",
          "state": {
            "_model_module": "@jupyter-widgets/base",
            "_model_module_version": "1.2.0",
            "_model_name": "LayoutModel",
            "_view_count": null,
            "_view_module": "@jupyter-widgets/base",
            "_view_module_version": "1.2.0",
            "_view_name": "LayoutView",
            "align_content": null,
            "align_items": null,
            "align_self": null,
            "border": null,
            "bottom": null,
            "display": null,
            "flex": null,
            "flex_flow": null,
            "grid_area": null,
            "grid_auto_columns": null,
            "grid_auto_flow": null,
            "grid_auto_rows": null,
            "grid_column": null,
            "grid_gap": null,
            "grid_row": null,
            "grid_template_areas": null,
            "grid_template_columns": null,
            "grid_template_rows": null,
            "height": null,
            "justify_content": null,
            "justify_items": null,
            "left": null,
            "margin": null,
            "max_height": null,
            "max_width": null,
            "min_height": null,
            "min_width": null,
            "object_fit": null,
            "object_position": null,
            "order": null,
            "overflow": null,
            "overflow_x": null,
            "overflow_y": null,
            "padding": null,
            "right": null,
            "top": null,
            "visibility": null,
            "width": null
          }
        },
        "01cb07f64572479c99b9cff5e826226e": {
          "model_module": "@jupyter-widgets/controls",
          "model_name": "VBoxModel",
          "model_module_version": "1.5.0",
          "state": {
            "_dom_classes": [
              "widget-interact"
            ],
            "_model_module": "@jupyter-widgets/controls",
            "_model_module_version": "1.5.0",
            "_model_name": "VBoxModel",
            "_view_count": null,
            "_view_module": "@jupyter-widgets/controls",
            "_view_module_version": "1.5.0",
            "_view_name": "VBoxView",
            "box_style": "",
            "children": [
              "IPY_MODEL_deca4c69e0e14d00a2944781ec934ddd",
              "IPY_MODEL_203db84ac59641ffb9471cdd9966c96b"
            ],
            "layout": "IPY_MODEL_38e3bcbfc47f4a719587e3c108708b05"
          }
        },
        "deca4c69e0e14d00a2944781ec934ddd": {
          "model_module": "@jupyter-widgets/controls",
          "model_name": "FloatSliderModel",
          "model_module_version": "1.5.0",
          "state": {
            "_dom_classes": [],
            "_model_module": "@jupyter-widgets/controls",
            "_model_module_version": "1.5.0",
            "_model_name": "FloatSliderModel",
            "_view_count": null,
            "_view_module": "@jupyter-widgets/controls",
            "_view_module_version": "1.5.0",
            "_view_name": "FloatSliderView",
            "continuous_update": true,
            "description": "Presión (Pa)",
            "description_tooltip": null,
            "disabled": false,
            "layout": "IPY_MODEL_24f35db7bcaf40fd98aae8ce56b19ed5",
            "max": 250000,
            "min": 1000,
            "orientation": "horizontal",
            "readout": true,
            "readout_format": ".2f",
            "step": 1000,
            "style": "IPY_MODEL_9bbb0bc323e24f248422f91a9fe7f476",
            "value": 24000
          }
        },
        "203db84ac59641ffb9471cdd9966c96b": {
          "model_module": "@jupyter-widgets/output",
          "model_name": "OutputModel",
          "model_module_version": "1.0.0",
          "state": {
            "_dom_classes": [],
            "_model_module": "@jupyter-widgets/output",
            "_model_module_version": "1.0.0",
            "_model_name": "OutputModel",
            "_view_count": null,
            "_view_module": "@jupyter-widgets/output",
            "_view_module_version": "1.0.0",
            "_view_name": "OutputView",
            "layout": "IPY_MODEL_74b8164151f6480da627d09e34223f5c",
            "msg_id": "",
            "outputs": [
              {
                "output_type": "display_data",
                "data": {
                  "text/plain": "<Figure size 800x600 with 1 Axes>",
                  "image/png": "iVBORw0KGgoAAAANSUhEUgAAArMAAAIkCAYAAAANhKPgAAAAOXRFWHRTb2Z0d2FyZQBNYXRwbG90bGliIHZlcnNpb24zLjcuMSwgaHR0cHM6Ly9tYXRwbG90bGliLm9yZy/bCgiHAAAACXBIWXMAAA9hAAAPYQGoP6dpAABjTUlEQVR4nO3deXhU1f3H8c9km+xhCdkgLLKHfRGIitDKKoK4oAVbQIvVKj+1WLVUCyJVcEGwrQIuFaoiiBUURSFFEBAUAVFkU5AQhCTsWSGZzNzfH8kMM1kgCUkml7xfzzNPnTtn5p6bOcZPT879HothGIYAAAAAE/LxdgcAAACAyiLMAgAAwLQIswAAADAtwiwAAABMizALAAAA0yLMAgAAwLQIswAAADAtwiwAAABMizALAF5iGIZmzZqlJUuWeLsrAGBahFkAqKT+/furf//+lX7/a6+9pqlTp6pz585V1ykAqGMIswDKtGjRIs2ZM8fb3dC6detksVjKfCxevLjCn7lp0yY9+eSTOnPmTNV3uByOHDmiRx99VPPnz1f79u290ofKSk5OvuD34f5ITk72dne95plnntHy5cu93Q3gsufn7Q4AqL0WLVqkH374QQ899JC3uyJJeuCBB3TllVeWOJ6YmFjhz9q0aZOmTZum8ePHq169elXQu4q57777dPvtt+uOO+6o8XNfqkaNGumtt97yODZr1iz98ssvmj17dom2ddUzzzyjW2+9VSNHjvR2V4DLGmEWQI1yOBzKz89XYGBghd/bt29f3XrrrdXQq5r34YcfersLlRYSEqLf/va3HscWL16s06dPlzh+ubiUcXs59gOoTVhmAJjU999/L4vFoo8++sh1bNu2bbJYLOrevbtH26FDh6p3796u5x9++KGGDRumuLg4Wa1WtWzZUtOnT5fdbne16d+/vz755BMdOnTI9Sfj5s2bu17Py8vT1KlT1apVK1mtVsXHx+vRRx9VXl6ex7ktFosmTpyod955Rx06dJDVatVnn30mSTpw4IAOHDhQlT8W1/mWL1+ujh07ymq1qkOHDq5zStKTTz6pRx55RJLUokWLEn8Sf/PNN/XrX/9aUVFRslqtSkhI0Ny5cy96budyiCVLluivf/2rYmJiFBISohEjRujw4cMebcePH+/x85SkF154QVdddZUaNmyooKAg9ejRQ++///5Fzztx4kSFhoYqNze3xGujR49WTEyM67vdunWrBg8erMjISAUFBalFixa66667LnqOyqjoGFm6dKkSEhIUFBSkxMRE7dy5U5I0f/58tWrVSoGBgerfv3+JpQv9+/dXx44dtW3bNl111VWu65o3b94l96m0cVue78lisSgnJ0cLFy50ja/x48dLKv27lwrHpcViqdJ+AHUBM7OASXXs2FH16tXT+vXrNWLECEnShg0b5OPjo++++06ZmZkKDw+Xw+HQpk2b9Ic//MH13gULFig0NFSTJk1SaGioPv/8c02ZMkWZmZl6/vnnJUmPP/64MjIyPP50HBoaKqlwdmjEiBHauHGj/vCHP6h9+/bauXOnZs+erR9//LHEOsHPP/9c7733niZOnKjIyEjXf8ivu+46SSr3usqsrCydOHGixPGGDRt6hICNGzfqgw8+0H333aewsDD94x//0C233KKUlBQ1bNhQN998s3788Ue9++67mj17tiIjIyWd/5P43Llz1aFDB40YMUJ+fn5asWKF7rvvPjkcDt1///0X7efTTz8ti8Wixx57TMeOHdOcOXM0YMAA7dixQ0FBQWW+76WXXtKIESN0xx13KD8/X4sXL9aoUaP08ccfa9iwYWW+7/bbb9fLL7+sTz75RKNGjXIdz83N1YoVKzR+/Hj5+vrq2LFjGjRokBo1aqS//OUvqlevnpKTk/XBBx9c9JoqqqJjZMOGDfroo49cP98ZM2bohhtu0KOPPqpXXnlF9913n06fPq3nnntOd911lz7//HOP958+fVrXX3+9brvtNo0ePVrvvfee/vjHPyogIMAV1qtq3Jbne3rrrbc0YcIE9erVy/XvXsuWLSv1s7yUfgB1ggHAtIYNG2b06tXL9fzmm282br75ZsPX19f49NNPDcMwjO3btxuSjA8//NDVLjc3t8Rn3XPPPUZwcLBx7tw5j89v1qxZibZvvfWW4ePjY2zYsMHj+Lx58wxJxpdffuk6Jsnw8fExdu3aVeJzmjVrVurnF7d27VpDUpmP1NRUj/MFBAQY+/fvdx377rvvDEnGP//5T9ex559/3pBkHDx4sMT5Svv5DB482Ljiiis8jvXr18/o169fiX42btzYyMzMdB1/7733DEnGSy+95Do2bty4Etde/Lz5+flGx44djV//+tel/2CKOBwOo3HjxsYtt9zicdx53vXr1xuGYRjLli0zJBnffPPNBT+vMoqPlYqOEavV6vFdzJ8/35BkxMTEePwsJ0+eXOJ769evnyHJmDVrlutYXl6e0bVrVyMqKsrIz8+vVJ/KGrfl/Z5CQkKMcePGlXh/ad+9YRjG1KlTjeL/Wa6KfgCXO5YZACbWt29fbd++XTk5OZIKZySvv/56de3aVRs2bJBUOONlsVh0zTXXuN7nPjvonO3s27evcnNztXfv3oued+nSpWrfvr3atWunEydOuB6//vWvJUlr1671aN+vXz8lJCSU+Jzk5OQK3e0+ZcoUJSUllXg0aNDAo92AAQM8ZsE6d+6s8PBw/fzzz+U6j/vPJyMjQydOnFC/fv30888/KyMj46LvHzt2rMLCwlzPb731VsXGxmrlypXlPu/p06eVkZHh+o4vxGKxaNSoUVq5cqWys7Ndx5csWaLGjRu7vnvnjW4ff/yxbDbbRa/jUlR0jFx33XUef3p3Lou55ZZbPH6WzuPFv0s/Pz/dc889rucBAQG65557dOzYMW3btq1SfSpr3Fb2e6qs2tIPoLZimQFgYn379lVBQYE2b96s+Ph4HTt2TH379tWuXbs8wmxCQoJH4Nu1a5eeeOIJff7558rMzPT4zPKEtZ9++kl79uwp8071Y8eOeTxv0aJFRS+tVJ06ddKAAQMu2q5p06YljtWvX1+nT58u13m+/PJLTZ06VZs3by6xDjUjI0MREREXfH/r1q09nlssFrVq1eqiwf3jjz/W3//+d+3YscNjDWfxdZSluf322zVnzhx99NFHGjNmjLKzs7Vy5Urdc889rvf369dPt9xyi6ZNm6bZs2erf//+GjlypMaMGSOr1XrRc1RERcdI8e/M+TOOj48v9Xjx7zIuLk4hISEex9q0aSOp8P809enTp8rG7aV8T5VRW/oB1FZ1OsyuX79ezz//vLZt26bU1FQtW7aswiVUjKIdfF599VUdOnRIkZGRuu+++/T4449XT6cBNz179lRgYKDWr1+vpk2bKioqSm3atFHfvn31yiuvKC8vTxs2bNBNN93kes+ZM2fUr18/hYeH66mnnlLLli0VGBio7du367HHHpPD4bjoeR0Ohzp16qQXX3yx1NeLB5ALrROtDr6+vqUeNwzjou89cOCArrvuOrVr104vvvii4uPjFRAQoJUrV2r27Nnl+vlUxoYNGzRixAhde+21euWVVxQbGyt/f3+9+eabWrRo0UXf36dPHzVv3lzvvfeexowZoxUrVujs2bO6/fbbXW0sFovef/99ffXVV1qxYoVWrVqlu+66S7NmzdJXX33lWhNdFSo6Rsr6zi7lu7zUPpU2bi/1e5LKDpvuN2DWRD+Ay0WdDrM5OTnq0qWL7rrrLt18882V+owHH3xQq1ev1gsvvKBOnTrp1KlTOnXqVBX3FChdQECAevXqpQ0bNqhp06bq27evpMIZ27y8PL3zzjtKT0/Xtdde63rPunXrdPLkSX3wwQcexw8ePFji88v6j27Lli313Xff6brrrjPtLFBZ/V6xYoXy8vL00UcfecwWFv8T9IX89NNPHs8Nw9D+/fsvuNPXf//7XwUGBmrVqlUes6Rvvvlmuc9722236aWXXlJmZqaWLFmi5s2bq0+fPiXa9enTR3369NHTTz+tRYsW6Y477tDixYs1YcKEcp/rYmp6jBw9elQ5OTkes7M//vijJLmWL1RFnyryPZV1jvr165e6WcehQ4eqpR/A5a5Or5kdOnSo/v73v3vMWrnLy8vTn//8ZzVu3FghISHq3bu31q1b53p9z549mjt3rj788EONGDFCLVq0UI8ePTRw4MAaugKgMLh+/fXXWrt2rSvMRkZGqn379nr22WddbZycM13uM1v5+fl65ZVXSnx2SEhIqcsObrvtNh05ckSvvfZaidfOnj3rWsN7MdVRmqu8nKGneKgo7eeTkZFRoZDwn//8R1lZWa7n77//vlJTUzV06NAy3+Pr6yuLxeIxO5ecnFyhHaRuv/125eXlaeHChfrss8902223ebx++vTpEjOaXbt2lSSPP1NXxfdSVWOkvAoKCjR//nzX8/z8fM2fP1+NGjVSjx49qqxPFfmeQkJCSg2tLVu2VEZGhr7//nvXMedfB8urKsYLcLmo0zOzFzNx4kTt3r1bixcvVlxcnJYtW6YhQ4Zo586dat26tVasWKErrrhCH3/8sYYMGSLDMDRgwAA999xzJW5IAapL37599fTTT+vw4cMeofXaa6/V/Pnz1bx5czVp0sR1/KqrrlL9+vU1btw4PfDAA7JYLHrrrbdK/bNtjx49tGTJEk2aNElXXnmlQkNDNXz4cP3ud7/Te++9p3vvvVdr167V1VdfLbvdrr179+q9997TqlWr1LNnz4v2vaKluTZs2KBz586VON65c+cLznqWxhlwHn/8cf3mN7+Rv7+/hg8frkGDBikgIEDDhw/XPffco+zsbL322muKiopSampquT67QYMGuuaaa3TnnXcqPT1dc+bMUatWrXT33XeX+Z5hw4bpxRdf1JAhQzRmzBgdO3ZML7/8slq1auURei6ke/fuatWqlR5//HHl5eV5LDGQpIULF+qVV17RTTfdpJYtWyorK0uvvfaawsPDdf3117vaVfR7KU1VjZHyiouL07PPPqvk5GS1adNGS5Ys0Y4dO/Tqq6/K39+/yvpUke+pR48e+t///qcXX3xRcXFxatGihXr37q3f/OY3euyxx3TTTTfpgQceUG5urubOnas2bdqU++atqhgvwGXDa3UUahlJxrJly1zPDx06ZPj6+hpHjhzxaHfdddcZkydPNgyjsJSR1Wo1evfubaxfv95Yu3at0bVrV+NXv/pVTXYddVxmZqbh6+trhIWFGQUFBa7jb7/9tiHJ+N3vflfiPV9++aXRp08fIygoyIiLizMeffRRY9WqVYYkY+3ata522dnZxpgxY4x69eoZkjzKCeXn5xvPPvus0aFDB8NqtRr169c3evToYUybNs3IyMhwtZNk3H///aX2vapKc02dOvWi52vWrFmJMknTp083GjdubPj4+HiUe/roo4+Mzp07G4GBgUbz5s2NZ5991vj3v/9dakmo0kpzvfvuu8bkyZONqKgoIygoyBg2bJhx6NAhj3OXVp7pjTfeMFq3bm1YrVajXbt2xptvvllquaYLefzxxw1JRqtWrUq8tn37dmP06NFG06ZNDavVakRFRRk33HCDsXXr1hI/q/J8L+5KK+N2KWPk4MGDhiTj+eef9zju/BkvXbrUdaxfv35Ghw4djK1btxqJiYlGYGCg0axZM+Nf//pXiX5Wxbgt7/e0d+9e49prrzWCgoIMSR7jb/Xq1UbHjh2NgIAAo23btsbbb79dZmmuS+0HcLmzGEYlVtFfhiwWi8cNYJ988oluuOGGEnfH5uXl6eabb9aSJUv0hz/8Qa+99pr27dvnumt2+/bt6tGjh/bu3au2bdvW9GUA8KJ169bpV7/6lZYuXXrZbLtrBv3799eJEyf0ww8/eLsrALyAZQZlyM7Olq+vr7Zt21biblrnHb+xsbHy8/NzBVlJat++vSQpJSWFMAsAAFDNCLNl6Natm+x2u6tuZ2muvvpqFRQU6MCBA64C7c67Z5s1a1ZjfQUAAKir6nSYzc7O1v79+13PDx48qB07dqhBgwZq06aN7rjjDo0dO1azZs1St27ddPz4ca1Zs0adO3fWsGHDNGDAAHXv3l133XWX5syZ49q3feDAgR6ztQAAAKgedXrNrHN9W3Hjxo3TggULZLPZ9Pe//13/+c9/dOTIEUVGRqpPnz6aNm2aOnXqJKmwtuH//d//afXq1QoJCdHQoUM1a9YsqhkAAADUAK+G2blz52ru3Lmu8i8dOnTQlClTyqzFuGDBAt15550ex6xWa6mlegAAAHD58+oygyZNmmjmzJlq3bq1DMPQwoULdeONN+rbb79Vhw4dSn1PeHi49u3b53pu1t2HAAAAcOm8GmaHDx/u8fzpp5/W3Llz9dVXX5UZZi0Wi2JiYmqiewAAAKjlas0NYHa7XUuXLlVOTo4SExPLbJedna1mzZrJ4XCoe/fueuaZZ8oMvk55eXkeWzU6HA6dOnVKDRs2ZGYXAACgFjIMQ1lZWYqLi5OPj88FG3rV999/b4SEhBi+vr5GRESE8cknn5TZdtOmTcbChQuNb7/91li3bp1xww03GOHh4cbhw4cveA7njig8ePDgwYMHDx48zPW4WM7zejWD/Px8paSkKCMjQ++//75ef/11ffHFF0pISLjoe202m9q3b6/Ro0dr+vTpZbYrPjObkZGhpk2b6uDBgwoLC6uS6zALm82mtWvX6le/+pVrv3LUXYwHuGM8oDjGBNzV9HjIyspSixYtdObMGUVERJTZzuvLDAICAtSqVStJUo8ePfTNN9/opZde0vz58y/6Xn9/f3Xr1s2jVmxprFarrFZrieMNGjRQeHh45TpuUjabTcHBwWrYsCG/mMB4gAfGA4pjTMBdTY8H5zkutiT0AgsQvMPhcHjMol6I3W7Xzp07FRsbW829AgAAQG3k1ZnZyZMna+jQoWratKmysrK0aNEirVu3TqtWrZIkjR07Vo0bN9aMGTMkSU899ZT69OmjVq1a6cyZM3r++ed16NAhTZgwwZuXAQAAAC/xapg9duyYxo4dq9TUVEVERKhz585atWqVBg4cKElKSUnxuHvt9OnTuvvuu5WWlqb69eurR48e2rRpU7nW1wIAAODy49Uw+8Ybb1zw9XXr1nk8nz17tmbPnl2NPQIAAICZ1Lo1swAAAEB5EWYBAABgWoRZAAAAmBZhFgAAAKZFmAUAAIBpEWYBAABgWoRZAAAAmBZhFgAAAKZFmAUAAIBpEWYBAABgWoRZAAAAmBZhFgAAAKbl5+0OAAAAoPYyDEO/nD6r71JOKTnL270piTALAAAASYXBNeVUrnYeydAPRzL1w5EM/XA0Q2dybZKk3o18dJ+X+1gcYRYAAKAOcjgMHTyZUxhYneH1aIayzhWUaOvva1Gb6FA19D1T8x29CMIsAADAZc7uMPTz8WyPGdddRzOUk28v0TbAz0ftY8LUoXGEOhU9WkeHysdwaOXKlV7o/YURZgEAAC4jBXaHfjqWfX7G9Wimdh/N1FlbyeAa6O+j9rHh6tQ4Qh3jItSxKLj6+5asEWCzOWqi+xVGmAUAADCp/AKHfkzPcq1t3XkkU3tTM5VXUDJ4Bgf4qkNcuDrEFc62dmwcoZaNQuRXSnA1E8IsAACACZyz2fVjelbRUoHC5QL70rKUby8ZXEOtfuoQF+4KrR0bR6hFZIh8fSxe6Hn1IswCAADUMudsdu1OzdSuIxmuda4/pmepwGGUaBse6KeORWtbnetcmzUIls9lGFxLQ5gFAADwopy8Au1JzfS4OWv/8WzZSwmu9YP9XTOtznWu8Q2CZLHUjeBaGsIsAABADck6Z9Ouo5keN2cdOJ4to2RuVWRowPkZ17gIdWoSobiIwDodXEtDmAUAAKgGGbk27TpatEygKMAePJFTatvocKurmoAzwEaHWwmu5UCYBQAAuETHs/L0w9EM7SpaKrArNUOHT50ttW1cRKBHaO3QOFxRYYE13OPLB2EWAACgnAzD0NGMc4WbDhzJKFwycDRD6Zl5pbZvUj/Io6JAx7hwNQy11nCvL2+EWQAAgFI4HIYOncp11XDdXbRU4HSurURbi0W6IjJEHRtHqENcuDrGFa5zjQj290LP6xbCLAAAqPMK7A4dOJ7jCq67inbNys4rKNHWz8ei1tFh6hgXXhhcG0eofWy4QqzEKm/gpw4AAOqUvAK7fkzLLgqthWtc95Sxa1aAX+F2rx2Lds7q2DhcbaLDFOjv64WeozSEWQAAcNnKzS+s4frDkUxXcC1r84GQAF91iItQQtFsa8fG4WrZKFT+Jt/u9XJHmAUAAJeFjLOFpbCca1svVMO1XrB/0brWcHUoujGrecOQOrNr1uWEMAsAAEznRHZeYUWBo+dnXFNO5ZbaNirM6roxy7lUoHG9ur1r1uWEMAsAAGotwzCU6iyF5RZc0zLPldq+Sf0g14yrM8BGhVPD9XJGmAUAALWCw2Eo5VSuq3arM8Ceyskv0dZikVpEhhTOtLoF13rBAV7oObyJMAsAAGpcgd2hn0/kuGZafzhSuNY1q5RSWL4+FrWOCnUtEXCWwgqlFBZEmAUAANUsr8Cun9KzzwfXoxnak5qpc7YySmHFhCnBGVzjItQ2hlJYKBthFgAAVJmz+XbtScvUriPng+uP6Vmy2UuWFAgO8HXdlOVc49oqilJYqBjCLAAAqJSMXJt2pRYuD9hVVA7rwPFslVLCVRFB/urY2DO4Nm8YIl9KYeESEWYBAMAFGYahtIxz2nX0fEWBXUcz9cvps6W2jwy1qlPj82WwOsRFqEl9SmGhehBmAQCAi8NhKPlkjnYdzdTOX05r/W4fTft+nU7l2Ept37hekGupQKcmhWtcKYWFmkSYBQCgjsovcOjH9KyiZQKFs617UjOVk293a+UjySYfi9SyUajHGtcESmGhFiDMAgBQB2TnFWhPauGNWbuK1rj+dKz0G7Osfj5qFxuu9jGhsp84pNsGJqpjkwYKCqCiAGofwiwAAJeZE9l5Hmtbdx/NVPLJHBml3JgVHuinhLjC5QEdita3XhEZIj9fH9lsNq1cmayu8fXkT2ks1FKEWQAATMowDP1y+qzbjVmFATY9M6/U9jHhgUXLBMKVULRUgBuzYHaEWQAATKDA7tCB4zkeFQV2H81U5rmSO2ZZLFKLhiFKKLa+NTLU6oWeA9WLMAsAQC1zNt+uvWmZrtnW3UcztDctS3kFJXfM8ve1qE10mMeNWe3Y6hV1CCMdAAAvysi1lajfWtbGAyEBvq7Z1oSi5QKto8IU4MeOWai7CLMAANQAwzCUlnlOu45kegTXI2fK2nggwLWu1Tnr2qxBsHzYMQvwQJgFAKCKORyGDhZtPOBc27rraKZO5eSX2j6+QZA6xBYF16KKAlFhVm7MAsqBMAsAwCXIK7Drp/Rsj4oCe1Izleux8UAhXx+LWhVtPOC+XCAiyN8LPQcuD4RZAADKKeucTXtSszyC6/4yNh4I9PdRu5hwjxuz2saEKZB6rUCVIswCAFCKY1nnXMsDnNu9Jp/MLbVtRJC/x9rWDnHhalG08QCA6kWYBQDUaXaHoeSTOdp9NFO7U8+H1xPZpW88EBsR6LHpQIe4cDWux8YDgLd4NczOnTtXc+fOVXJysiSpQ4cOmjJlioYOHVrme5YuXaq//e1vSk5OVuvWrfXss8/q+uuvr6EeAwDM7Gy+XfvSs4qCa+FSgb2pWTprK7m+1WKRrogM8QitCbHhasjGA0Ct4tUw26RJE82cOVOtW7eWYRhauHChbrzxRn377bfq0KFDifabNm3S6NGjNWPGDN1www1atGiRRo4cqe3bt6tjx45euAIAQG11MjtPu1MzPWZcfy6jfqtzfWtCUWB1rm8NDuAPmEBt59V/S4cPH+7x/Omnn9bcuXP11VdflRpmX3rpJQ0ZMkSPPPKIJGn69OlKSkrSv/71L82bN69G+gwAqF0cDkMpp3JdwXXX0QztTs1UembpywQahgQUhlZnNYHYwvWtvtRvBUyp1vxfTrvdrqVLlyonJ0eJiYmlttm8ebMmTZrkcWzw4MFavnz5BT87Ly9PeXnnf6llZmZKkmw2m2w226V13GSc11vXrhulYzzAnRnGQ57Nrp+O5WhPWqb2pGZpd2qW9qZlKaeUMliS1LxhsNrHhKl9bJgSYsPUPjZcjUIDSqxvddgL5Cj9I+o0M4wJ1JyaHg/lPY/Xw+zOnTuVmJioc+fOKTQ0VMuWLVNCQkKpbdPS0hQdHe1xLDo6WmlpaRc8x4wZMzRt2rQSx1evXq3g4ODKd97EkpKSvN0F1CKMB7irLeMhxyYdybXoSI50JMeiX3IsSj8rOVRyBtXPYig2WGoSYqhxiKEmIYXPA30zJWVKOVLOfmnr/pq/jstBbRkTqB1qajzk5pZePaQ4r4fZtm3baseOHcrIyND777+vcePG6Ysvvigz0FbG5MmTPWZ0MzMzFR8fr0GDBik8PLzKzmMGNptNSUlJGjhwoPz9KdJd1zEe4M5b48EwDP1y5qz2pGa5Zlv3pGUpNeNcqe3rB/u7Zlvbx4YrISZMLSKDKYNVDfgdAXc1PR6cf0m/GK+H2YCAALVq1UqS1KNHD33zzTd66aWXNH/+/BJtY2JilJ6e7nEsPT1dMTExFzyH1WqV1Vry7lN/f/86+y9nXb52lMR4gLvqHA/5BQ79dCzL46asPamZyjpXUGr7pg2CXTdkOde5xoQHUgarhvE7Au5qajyU9xxeD7PFORwOj/Wt7hITE7VmzRo99NBDrmNJSUllrrEFAHhPxlmb9hSrJlDWbln+vha1iQ5zC64RahcbpvBAAhSAC/NqmJ08ebKGDh2qpk2bKisrS4sWLdK6deu0atUqSdLYsWPVuHFjzZgxQ5L04IMPql+/fpo1a5aGDRumxYsXa+vWrXr11Ve9eRkAUKcZhqGjGYW7ZbnXb/3l9NlS24cH+nlUEkiIC1fLRqEK8GOZAICK82qYPXbsmMaOHavU1FRFRESoc+fOWrVqlQYOHChJSklJkY/P+V9uV111lRYtWqQnnnhCf/3rX9W6dWstX76cGrMAUENsdocOHM92C66FjzO5pd913LheUFFwDXcFV3bLAlCVvBpm33jjjQu+vm7duhLHRo0apVGjRlVTjwAATlnnbNqbluURXPelZym/wFGirZ+PRa2iQj1nXGPDFRHMMgEA1avWrZkFANQswzCUnpmn7w+f0upfLPp08Xfak5alQydLL4sTavVzzbI6d8xqHR0qq59vDfccAAizAFCnFNgdOngix2Ob191HM3UyJ7+oha+k81VjYiMCPasJxEaoSf0g+bBbFoBagjALAJepzHM27U3N0p7UwvJXu1MztS8tS3mlLBPw9bHoishghTuyNLBnO3VqUl/tY8PVICTACz0HgPIjzAKAyRmGoV9On3XVbN2Tmqk9aZk6fKr0agLBAb5qH+t5U1ab6DD5yqGVK1fq+qubU1MUgGkQZgHARM7Z7NqXluWaad2Tmqm9qVnKyit904G4iMDCXbLiwtU+tvDRrEFwqcsEbLaSM7YAUNsRZgGgFjIMQ8ez8rTLOdOamqXdRzN08ESOHCX3HFCAr49aR4e6AmtCbLjax4apXjDLBABc3gizAOBlztqtzt2y9hStcz1/U5anhiEBbjOtYWofW7jpgL8vmw4AqHsIswBQg87k5hctD8hyhdf9x7KVby/5J34fi3RFo1BXaHXWbm0UZmXTAQAoQpgFgGrgcBg6dCq3aKb1/ONoxrlS24dZ/TxmWtvHhqttTJgC/andCgAXQpgFgEuUk1egvWklS2Dl5ttLbR/fIEjtY87flJUQG64m9dniFQAqgzALAOVkGIZSM86dn21NK1wukHwyR0YpN2VZ/XzULub8TGtCXOFsa3ggZa8AoKoQZgGgFHkFdv2Unu1RAmtPapYyztpKbR8VZvUogZUQG6bmDUPkx01ZAFCtCLMA6rwT2Xlu61qztPtopg4cz1ZBKTWw/HwsahXlflNWhNrHhqlhqNULPQcAEGYB1BkFdoeST+YU7ZR1fo3rsay8UttHBPkX1Ws9f2NW6+hQWf24KQsAagvCLIDLUuY5m/amlrwpK6+gZAksi0Vq3jDEVf7KucY1NiKQm7IAoJYjzAIwNcMw9Mvps0WzredvzDp86myp7YMDfD1uymofG652MWEKsfLrEADMiN/eAEzjnM2ufUUlsJw3Ze1NzVJWXkGp7eMiAj1uymofG65mDYLl48NsKwBcLgizAGodwzB0PCtPu9xuytqTmqmfj2erlHuyFODro9bRoedLYBWtca0XHFDznQcA1CjCLACvstkdOnA827W1qzO4nszJL7V9w5AAt5nWwuUCLRuFyp8SWABQJxFmAdSYM7n5RcsDslzhdf+xbOXbS96U5WORrmgU6jHTmhAbrkZhVm7KAgC4EGYBVDmHw9ChU7lus62Fj6MZ50ptH2b185hpTYgLV5voMAX6UwILAHBhhFkAlyQnr0B700qWwMrNt5faPr5BkNrHuO+UFa4m9YOYbQUAVAphFkC5GIah1Ixz52da0wqXCySfzJFRyk1ZVj8fjxJYCXHhahsTpvBA/5rvPADgskWYBVBCXoFdP6Vne5TA2pOapYyztlLbR4VZPUpgJcSGqXnDEPlxUxYAoJoRZoE6Lssmbdx/Uj8dz9Ge1CztPpqpA8ezVVBKDSw/H4taRYW61rcmxEaofWyYGoZavdBzAAAIs0CdYXcYOngiW7uLAqtzjeuxLD9p67YS7SOC/N22di1cLtA6OlRWP27KAgDUHoRZ4DKUec6mvaklb8rKKyhZAssiQ80ahighLtwtvIYrNiKQm7IAALUeYRYwMcMw9Mvps9rlNtO6Jy1Th0+dLbV9cICvx01ZbaKClbxjk24afo38/bkxCwBgPoRZwCTO2ezaV1QCy3lT1t7ULGXlFZTaPi4i0OOmrPax4WrWIFg+PudnW202m1J31tQVAABQ9QizQC1jGIaOZ+Vpl1sVgT2pmfr5eLZKuSdLAb4+ah0der4EVtEa13rBATXfeQAAahhhFvAim92hA8ez3XbKKgyuJ3PyS23fMCTAbaa1cLlAy0ah8qcEFgCgjiLMAjXkTG5+0fKALFd43X8sW/n2kjdl+VikKxqFesy0JsSGq1GYlZuyAABwQ5gFqpjDYSjlVK5rXauzDNbRjHOltg+z+nnMtCbEhatNdJgC/SmBBQDAxRBmgUtwNt+uvUXbuu5OzdCe1CztTc1UTr691PbxDYLUPsZ9p6xwNakfxGwrAACVRJgFysEwDB3LytPuo4WVBJyzrsknckq9Kcvq56O2MWEedVvbxYYpPJDyVwAAVCXCLFCM86as87tkZWl3aqZOlXFTVmSotWimtTC8JsSGq0VkiPy4KQsAgGpHmEWdlpFrO7+2teh/f0ov/aYsXx+LrogM8ajb2j42TFFhgV7oOQAAkAizqCMcDkOHT+e6ZludVQWOnCl9pyz3m7Kc4ZWbsgAAqH0Is7jsnM23a196ltsygcJHWTdlNakf5FrbmhDHTVkAAJgJYRamVXynLGd4PVjGTVkBfj5qGx3mWttaeFNWuCKCuCkLAACzIszCdAzD0F+X7dTqXell7pQVGRrgKn3lXCZwBTdlAQBw2SHMwnTSM/P07pbDks7vlJXgdkNWQlw4N2UBAFBHEGZhOraiSgNWPx99N3UQN2UBAFCH8TdXmI7DKFwQ6+djIcgCAFDHEWZhOvaiu7t8qDYAAECdR5iF6TgrFfj4EGYBAKjrCLMwHecyA7IsAAAgzMJ0zodZ0iwAAHUdYRam4ygsZsAyAwAAQJiF+bDMAAAAOBFmYTrOMOvLMgMAAOo8wixMx1may0KYBQCgzvNqmJ0xY4auvPJKhYWFKSoqSiNHjtS+ffsu+J4FCxbIYrF4PAID2bq0LnGW5vJlnQEAAHWeV8PsF198ofvvv19fffWVkpKSZLPZNGjQIOXk5FzwfeHh4UpNTXU9Dh06VEM9Rm3AmlkAAODk582Tf/bZZx7PFyxYoKioKG3btk3XXnttme+zWCyKiYmp7u6hlnI4dwAjzQIAUOd5NcwWl5GRIUlq0KDBBdtlZ2erWbNmcjgc6t69u5555hl16NChzPZ5eXnKy8tzPc/MzJQk2Ww22Wy2Kui5eTiv18zXnW8rkCRZZO7rqA0uh/GAqsN4QHGMCbir6fFQ3vNYDKPob7Ze5nA4NGLECJ05c0YbN24ss93mzZv1008/qXPnzsrIyNALL7yg9evXa9euXWrSpEmp73nyySc1bdq0EscXLVqk4ODgKrsG1Ix9GRa9sttXMUGGJne1e7s7AACgGuTm5mrMmDHKyMhQeHh4me1qTZj94x//qE8//VQbN24sM5SWxmazqX379ho9erSmT59eapvSZmbj4+N14sSJC/5wLkc2m01JSUkaOHCg/P39vd2dStm4/6TuXLhN7aJDtWLiVd7ujqldDuMBVYfxgOIYE3BX0+MhMzNTkZGRFw2ztWKZwcSJE/Xxxx9r/fr1FQqykuTv769u3bpp//79ZbaxWq2yWq2lvreu/stp5mu3+BTet+jj42Paa6htzDweUPUYDyiOMQF3NTUeynsOr1YzMAxDEydO1LJly/T555+rRYsWFf4Mu92unTt3KjY2thp6iNrIoDQXAAAo4tWZ2fvvv1+LFi3Shx9+qLCwMKWlpUmSIiIiFBQUJEkaO3asGjdurBkzZkiSnnrqKfXp00etWrXSmTNn9Pzzz+vQoUOaMGGC164DNcu5aQJZFgAAeDXMzp07V5LUv39/j+Nvvvmmxo8fL0lKSUmRj8/5CeTTp0/r7rvvVlpamurXr68ePXpo06ZNSkhIqKluw8tcdWZJswAA1HleDbPlufds3bp1Hs9nz56t2bNnV1OPYAbnN00gzAIAUNd5dc0sUBmu7WwJswAA1HmEWZiOc80sWRYAABBmYTosMwAAAE6EWZgOpbkAAIATYRamwzIDAADgRJiF6TiXGTAzCwAACLMwHdbMAgAAJ8IsTMdZmoswCwAACLMwHbazBQAAToRZmI7BmlkAAFCEMAvTOT8zS5gFAKCuI8zCdJxrZsmyAACAMAvToTQXAABwIszCdCjNBQAAnAizMB1KcwEAACfCLEyH0lwAAMCJMAvToTQXAABwIszCdOyOwv+1sMwAAIA6jzAL0zlfzcDLHQEAAF5HHIDpUM0AAAA4EWZhOoRZAADgRJiF6VCaCwAAOBFmYToOSnMBAIAihFmYDtvZAgAAJ8IsTIfSXAAAwIkwC9OhNBcAAHAiDsB0qGYAAACcCLMwHcIsAABwIszCdCjNBQAAnAizMB1KcwEAACfCLEzHtcyANAsAQJ1HmIXpOEtzscwAAAAQZmE6BqW5AABAEeIATMdONQMAAFCEMAvToZoBAABwIszCdKhmAAAAnAizMJ3z29mSZgEAqOsIszAdZ5i1sMwAAIA6jzAL06E0FwAAcCLMwnQozQUAAJyIAzAdO8sMAABAEcIsTMdZmsuXMAsAQJ1HmIXpuEpzMXoBAKjziAMwHQc7gAEAgCKEWZiO3UGYBQAAhQizMB3DuWaWTRMAAKjzCLMwnfPLDLzcEQAA4HWEWZgOpbkAAIATYRamQ2kuAADgRJiF6VCaCwAAOBEHYDqU5gIAAE6VCrMHDx7Uf/7zH02fPl2TJ0/Wiy++qLVr1+rcuXMV+pwZM2boyiuvVFhYmKKiojRy5Ejt27fvou9bunSp2rVrp8DAQHXq1EkrV66szGXApCjNBQAAnCoUZt955x316tVLLVu21GOPPably5drw4YNev311zVkyBBFR0frvvvu06FDh8r1eV988YXuv/9+ffXVV0pKSpLNZtOgQYOUk5NT5ns2bdqk0aNH6/e//72+/fZbjRw5UiNHjtQPP/xQkUuBiVGaCwAAOPmVt2G3bt0UEBCg8ePH67///a/i4+M9Xs/Ly9PmzZu1ePFi9ezZU6+88opGjRp1wc/87LPPPJ4vWLBAUVFR2rZtm6699tpS3/PSSy9pyJAheuSRRyRJ06dPV1JSkv71r39p3rx55b0cmNj5agZe7ggAAPC6cofZmTNnavDgwWW+brVa1b9/f/Xv319PP/20kpOTK9yZjIwMSVKDBg3KbLN582ZNmjTJ49jgwYO1fPnyCp8P5uRcM0s1AwAAUO4we6EgW1zDhg3VsGHDCnXE4XDooYce0tVXX62OHTuW2S4tLU3R0dEex6Kjo5WWllbme/Ly8pSXl+d6npmZKUmy2Wyy2WwV6qfZOa/XzNftrGbgcNhNfR21weUwHlB1GA8ojjEBdzU9Hsp7nnKHWXfOMFicxWKR1WpVQEBAhT/z/vvv1w8//KCNGzdWpksXNGPGDE2bNq3E8dWrVys4OLjKz2cGSUlJ3u5CpWVl+0qy6OuvNuvYLm/35vJg5vGAqsd4QHGMCbirqfGQm5tbrnaVCrP16tW74O5LTZo00fjx4zV16lT5lKMY6MSJE/Xxxx9r/fr1atKkyQXbxsTEKD093eNYenq6YmJiynzP5MmTPZYmZGZmKj4+XoMGDVJ4ePhF+3c5sdlsSkpK0sCBA+Xv7+/t7lTK83vWS3nndPVVV6lrfD1vd8fULofxgKrDeEBxjAm4q+nxUNbkaXGVCrMLFizQ448/rvHjx6tXr16SpC1btmjhwoV64okndPz4cb3wwguyWq3661//WubnGIah//u//9OyZcu0bt06tWjR4qLnTkxM1Jo1a/TQQw+5jiUlJSkxMbHM91itVlmt1hLH/f396+y/nGa+ducOYAEmvobaxszjAVWP8YDiGBNwV1PjobznqFSYXbhwoWbNmqXbbrvNdWz48OHq1KmT5s+frzVr1qhp06Z6+umnLxhm77//fi1atEgffvihwsLCXOteIyIiFBQUJEkaO3asGjdurBkzZkiSHnzwQfXr10+zZs3SsGHDtHjxYm3dulWvvvpqZS4FJuSgNBcAAChSqU0TNm3apG7dupU43q1bN23evFmSdM011yglJeWCnzN37lxlZGSof//+io2NdT2WLFniapOSkqLU1FTX86uuukqLFi3Sq6++qi5duuj999/X8uXLL3jTGC4vlOYCAABOlZqZjY+P1xtvvKGZM2d6HH/jjTdc9WdPnjyp+vXrX/BzDGf1+wtYt25diWOjRo26aA1bXL6c44aZWQAAUKkw+8ILL2jUqFH69NNPdeWVV0qStm7dqr179+r999+XJH3zzTe6/fbbq66nQBG2swUAAE6VCrMjRozQvn37NH/+fO3bt0+SNHToUC1fvlzNmzeXJP3xj3+ssk4C7pxrZgmzAACgUmHWZrOpefPmrpuy3J04cUKRkZGX3DGgLM4dwFhlAAAAKnUD2G9+85tS17ump6erf//+l9on4IIcLDMAAABFKhVmU1JSNGHCBI9jqamp6t+/v9q1a1clHQPKQmkuAADgVKkwu3LlSm3atMm1q9bRo0fVv39/derUSe+9916VdhAojtJcAADAqVJrZhs1aqTVq1frmmuukSR9/PHH6t69u955551ybV8LXApKcwEAAKdKhVmpsNZsUlKS+vbtq4EDB+qtt96Shaky1ABKcwEAAKdyh9n69euXGlZzc3O1YsUKNWzY0HXs1KlTVdM7oBSU5gIAAE7lDrNz5sypxm4A5eOsZCBRmgsAAFQgzI4bN06ff/65+vXrJ19f3+rsE1Amh1tJONbMAgCACt2tNWHCBDVq1EhjxozRkiVLlJmZWV39AkrlNjHLGm0AAFCxMPvzzz9r3bp1SkhI0KxZsxQdHa2BAwfqn//8p1JSUqqrj4CL+8wsE7MAAKDCdbQ6d+6sJ554Qlu2bNGBAwd0yy236NNPP1Xbtm3VtWtXTZkyRVu3bq2OvgIsMwAAAB4uqShsXFyc7r33Xq1cuVInTpzQE088oeTkZA0ZMkTPPPNMVfURcLF73ABGmAUAoK6rdJ3Z4kJCQnTrrbfq1ltvld1upzwXqoX7mlnCLAAAqFCY/cc//nHxD/TzU2xsrK6++upKdwooC6W5AACAuwqF2dmzZ1+0jcPh0MmTJ+VwOPT222/r5ptvrnTngOJYMwsAANxVKMwePHiwXO0cDodmzpypxx9/nDCLKmV3C7OU5gIAAJd0A1iZH+rjo3HjxunEiRPV8fGow5xZlllZAAAgVSDMLl68uNwfevjwYSUnJ+v48eOV6hRQFucyA7IsAACQKhBm586dq/bt2+u5557Tnj17SryekZGhlStXasyYMerevbtOnjxZpR0FpPOluVhiAAAApAqsmf3iiy/00Ucf6Z///KcmT56skJAQRUdHKzAwUKdPn1ZaWpoiIyM1fvx4/fDDD4qOjq7OfqOOci0zIMwCAABV8AawESNGaMSIETpx4oQ2btyoQ4cO6ezZs4qMjFS3bt3UrVs3+fhUyzJcQNL5mVmWGQAAAKmSmyZERkZq5MiRVdwV4OJca2ZJswAAQNVUzQCoLudvACPMAgAAwixMxkFpLgAA4IYwC1OhNBcAAHBHmIWpUJoLAAC4I8zCVCjNBQAA3FWqmoEk/fLLL/roo4+UkpKi/Px8j9defPHFS+4YUBpKcwEAAHeVCrNr1qzRiBEjdMUVV2jv3r3q2LGjkpOTZRiGunfvXtV9BFwozQUAANxVapnB5MmT9ec//1k7d+5UYGCg/vvf/+rw4cPq16+fRo0aVdV9BFwozQUAANxVKszu2bNHY8eOlST5+fnp7NmzCg0N1VNPPaVnn322SjsIuKM0FwAAcFepMBsSEuJaJxsbG6sDBw64Xjtx4kTV9AwoxflqBl7uCAAAqBUqtWa2T58+2rhxo9q3b6/rr79eDz/8sHbu3KkPPvhAffr0qeo+Ai7OZQZUMwAAAFIlw+yLL76o7OxsSdK0adOUnZ2tJUuWqHXr1lQyQLVyluZizSwAAJDKGWa/++47de7c2VWo/oorrnC9FhISonnz5lVP74BiWGYAAADclWvN7P/+9z/ddNNNOnfuXHX3B7gg1zIDbgADAAAq58zspEmTdPLkSQ0YMEAbN25U/fr1L7id6KlTp6qsg4A7SnMBAAB35QqzFotFzzzzjD788ENJ0uzZsy8YZoHq4nAU/i+bJgAAAKmCN4DdeOONkqTx48dXR1+Ai7IbbGcLAADOq1Q1A0my2+1atmyZ9uzZI0lKSEjQjTfeKD+/Sn8kcFEGpbkAAICbSiXPXbt2acSIEUpLS1Pbtm0lSc8++6waNWqkFStWqGPHjlXaScDJ7lxmQJgFAACq5A5gEyZMUIcOHfTLL79o+/bt2r59uw4fPqzOnTvrD3/4Q1X3EXBx3QBWqZELAAAuN5Wamd2xY4e2bt2q+vXru47Vr19fTz/9tK688soq6xxQHNUMAACAu0rNb7Vp00bp6ekljh87dkytWrW65E4BZSHMAgAAd5UKszNmzNADDzyg999/X7/88ot++eUXvf/++3rooYf07LPPKjMz0/UAqhKluQAAgLtKLTO44YYbJEm33Xabq96s8y7z4cOHu55bLBbZ7faq6CcgidJcAADAU6XC7Nq1a6u6H0C5UJoLAAC4q1SY7devX1X3AygXZ2kudqADAABSBcLs999/X+4P7dy5c6U6A1yM8wYwX0pzAQAAVSDMdu3aVRaLxfVn3rJUdJ3s+vXr9fzzz2vbtm1KTU3VsmXLNHLkyDLbr1u3Tr/61a9KHE9NTVVMTEy5zwtzopoBAABwV+4we/DgwWrpQE5Ojrp06aK77rpLN998c7nft2/fPoWHh7ueR0VFVUf3UMs4HM5NEwizAACgAmG2WbNm1dKBoUOHaujQoRV+X1RUlOrVq1f1HUKtVpRlmZkFAACSKnkDmNPu3buVkpKi/Px8j+MjRoy4pE6VR9euXZWXl6eOHTvqySef1NVXX13t54T3OSjNBQAA3FQqzP7888+66aabtHPnTo91tM47zKuztmxsbKzmzZunnj17Ki8vT6+//rr69++vr7/+Wt27dy/1PXl5ecrLy3M9d27mYLPZZLPZqq2vtZHzes163baCwrFlMQzTXkNtYvbxgKrFeEBxjAm4q+nxUN7zWIyL3dFViuHDh8vX11evv/66WrRooS1btujkyZN6+OGH9cILL6hv374V7rBUGIYvdgNYafr166emTZvqrbfeKvX1J598UtOmTStxfNGiRQoODq5MV+El/zti0YoUX/Vq5NAdrRze7g4AAKgmubm5GjNmjDIyMjzukyquUjOzmzdv1ueff67IyEj5+PjIx8dH11xzjWub22+//bbSHa+MXr16aePGjWW+PnnyZE2aNMn1PDMzU/Hx8Ro0aNAFfziXI5vNpqSkJA0cOFD+/v7e7k6FpXzxs5SyX03j43X99R283R3TM/t4QNViPKA4xgTc1fR4cP4l/WIqFWbtdrvCwsIkSZGRkTp69Kjatm2rZs2aad++fZX5yEuyY8cOxcbGlvm61WqV1Wotcdzf37/O/stp2mu3FBaY9fP1MWf/aynTjgdUC8YDimNMwF1NjYfynqNSYbZjx4767rvv1KJFC/Xu3VvPPfecAgIC9Oqrr+qKK66o0GdlZ2dr//79rucHDx7Ujh071KBBAzVt2lSTJ0/WkSNH9J///EeSNGfOHLVo0UIdOnTQuXPn9Prrr+vzzz/X6tWrK3MpMBlXNQPuAAMAAKpkmH3iiSeUk5MjSXrqqad0ww03qG/fvmrYsKEWL15coc/aunWrxyYIzuUA48aN04IFC5SamqqUlBTX6/n5+Xr44Yd15MgRBQcHq3Pnzvrf//5X6kYKuPzYqWYAAADcVCrMDh482PXPrVq10t69e3Xq1CnVr1/fVdGgvPr373/BXcUWLFjg8fzRRx/Vo48+WqFz4PLhHCu+1JkFAACSKrXD/V133aWsrCyPYw0aNFBubq7uuuuuKukYUBpHsTJwAACgbqtUmF24cKHOnj1b4vjZs2dda1uB6mAvqsbFDmAAAECq4DKDzMxMGYYhwzCUlZWlwMBA12t2u10rV65UVFRUlXcScHItM6jU/w0DAACXmwqF2Xr16slischisahNmzYlXrdYLKVuTgBUFbvDeQMYM7MAAKCCYXbt2rUyDEO//vWv9d///lcNGjRwvRYQEKBmzZopLi6uyjsJOFGaCwAAuKtQmO3Xr5+kwlqw8fHx8vHhb72oWQ5KcwEAADeVKs3VrFkznTlzRlu2bNGxY8fkcDg8Xh87dmyVdA4ozkFpLgAA4KZSYXbFihW64447lJ2drfDwcI8ySRaLhTCLauNcM0tpLgAAIFWyNNfDDz+su+66S9nZ2Tpz5oxOnz7tepw6daqq+wi4ONfM+rLOAAAAqJJh9siRI3rggQcUHBxc1f0BLshgzSwAAHBTqTA7ePBgbd26tar7AlwUywwAAIC7Sq2ZHTZsmB555BHt3r1bnTp1kr+/v8frI0aMqJLOAcWxzAAAALirVJi9++67JUlPPfVUidcsFovsdvul9QooA6W5AACAu0qF2eKluICacj7MkmYBAEAl18wC3sJ2tgAAwF2Fwuz111+vjIwM1/OZM2fqzJkzrucnT55UQkJClXUOKM5gzSwAAHBToTC7atUq5eXluZ4/88wzHnVlCwoKtG/fvqrrHVDM+ZlZL3cEAADUChUKs84an2U9B6qba80saRYAAIg1szAZZ2ku1swCAACpgmHWYrGUKFZP8XrUJEpzAQAAdxUqzWUYhsaPHy+r1SpJOnfunO69916FhIRIksd6WqA6UJoLAAC4q1CYHTdunMfz3/72tyXajB079tJ6BFwApbkAAIC7CoXZN998s7r6AZQLpbkAAIA7bgCDqThnZpmYBQAAEmEWJuNcM8vMLAAAkAizMBluAAMAAO4IszAV6swCAAB3hFmYCnVmAQCAO8IsTMVBaS4AAOCGMAtTcVCaCwAAuCHMwlQozQUAANwRZmEqlOYCAADuCLMwFUpzAQAAd4RZmAqluQAAgDvCLEyF0lwAAMAdYRam4izNxZpZAAAgEWZhMs5lBhaWGQAAABFmYTJ2B8sMAADAeYRZmIpBaS4AAOCGMAtTsVOaCwAAuCHMwlQozQUAANwRZmEqzmoGPoxcAAAgwixMxrWdLTOzAABAhFmYDKW5AACAO8IsTIVNEwAAgDvCLEyF7WwBAIA7wixMhdJcAADAHWEWpuIqzcXULAAAEGEWJuNgO1sAAOCGMAtToTQXAABwR5iFaRiGQWkuAADggTAL0yialJVEaS4AAFDI62F2/fr1Gj58uOLi4mSxWLR8+fKLvmfdunXq3r27rFarWrVqpQULFlR7P+F9Drc0S5YFAABSLQizOTk56tKli15++eVytT948KCGDRumX/3qV9qxY4ceeughTZgwQatWrarmnsLb7O5hljQLAAAk+Xm7A0OHDtXQoUPL3X7evHlq0aKFZs2aJUlq3769Nm7cqNmzZ2vw4MHV1U3UAu7LDKgzCwAApFowM1tRmzdv1oABAzyODR48WJs3b/ZSj1BT7A6WGQAAAE9en5mtqLS0NEVHR3sci46OVmZmps6ePaugoKAS78nLy1NeXp7reWZmpiTJZrPJZrNVb4drGef1mvG68/ILXP/sKCiQzWJcoDXKw8zjAVWP8YDiGBNwV9PjobznMV2YrYwZM2Zo2rRpJY6vXr1awcHBXuiR9yUlJXm7CxWWWyA5h+yqVavkZ7q/K9ReZhwPqD6MBxTHmIC7mhoPubm55WpnujAbExOj9PR0j2Pp6ekKDw8vdVZWkiZPnqxJkya5nmdmZio+Pl6DBg1SeHh4tfa3trHZbEpKStLAgQPl7+/v7e5UyOncfOmbdZKkYdcPpTxXFTDzeEDVYzygOMYE3NX0eHD+Jf1iTBdmExMTtXLlSo9jSUlJSkxMLPM9VqtVVqu1xHF/f/86+y+nGa/dx9fh+mdrgD8bJ1QhM44HVB/GA4pjTMBdTY2H8p7D63+ozc7O1o4dO7Rjxw5JhaW3duzYoZSUFEmFs6pjx451tb/33nv1888/69FHH9XevXv1yiuv6L333tOf/vQnb3QfNchZZ9ZiYQcwAABQyOthduvWrerWrZu6desmSZo0aZK6deumKVOmSJJSU1NdwVaSWrRooU8++URJSUnq0qWLZs2apddff52yXHWAszQXZbkAAICT15cZ9O/fX4ZR9l3ppe3u1b9/f3377bfV2CvURs7SXL6EWQAAUMTrM7NAebkvMwAAAJAIszARR9H9XywzAAAAToRZmIZzZpaSXAAAwIkwC9Ows8wAAAAUQ5iFaRjMzAIAgGIIszANO2tmAQBAMYRZmIZzzSxhFgAAOBFmYRrnw6yXOwIAAGoNwixMw1maizWzAADAiTAL02CZAQAAKI4wC9OgNBcAACiOMAvToDQXAAAojjAL06A0FwAAKI4wC9OgmgEAACiOMAvTcDi4AQwAAHgizMI0irIsa2YBAIALYRam4XBVMyDMAgCAQoRZmIbdVc3Ayx0BAAC1BrEApmGwaQIAACiGMAvTcJbmYpkBAABwIszCNJxrZn3JsgAAoAhhFqZBaS4AAFAcYRam4SzN5UNpLgAAUIQwC9OwswMYAAAohjAL0zBcpblIswAAoBBhFqbhoDQXAAAohjAL03CW5iLMAgAAJ8IsTMPBmlkAAFAMYRamQWkuAABQHGEWpkFpLgAAUBxhFqZBaS4AAFAcYRamQWkuAABQHGEWpuFcM2thzSwAAChCmIVp2IvWzPoSZgEAQBHCLEzDYM0sAAAohjAL07A7S3ORZgEAQBHCLEzDVZqLZQYAAKAIYRamwQ5gAACgOMIsTMNZzYDSXAAAwIkwC9NwbppAaS4AAOBEmIVpOCjNBQAAiiHMwjQozQUAAIojzMI0KM0FAACKI8zCNCjNBQAAiiPMwjScpbmoZgAAAJwIszANZ2kuJmYBAIATYRamYXfdAEaaBQAAhQizMA2D0lwAAKAYwixMw1XNgCwLAACKEGZhGs4bwCjNBQAAnAizMA1KcwEAgOIIszANZzUDSnMBAACnWhFmX375ZTVv3lyBgYHq3bu3tmzZUmbbBQsWyGKxeDwCAwNrsLfwFucyAyZmAQCAk9fD7JIlSzRp0iRNnTpV27dvV5cuXTR48GAdO3aszPeEh4crNTXV9Th06FAN9hje4izNRTUDAADg5PUw++KLL+ruu+/WnXfeqYSEBM2bN0/BwcH697//XeZ7LBaLYmJiXI/o6Oga7DG8xWDNLAAAKMarYTY/P1/btm3TgAEDXMd8fHw0YMAAbd68ucz3ZWdnq1mzZoqPj9eNN96oXbt21UR34WV2dgADAADF+Hnz5CdOnJDdbi8xsxodHa29e/eW+p62bdvq3//+tzp37qyMjAy98MILuuqqq7Rr1y41adKk1Pfk5eUpLy/P9TwzM1OSZLPZZLPZquhqzMF5vWa8brvdUfgPhsOU/a+NzDweUPUYDyiOMQF3NT0eynser4bZykhMTFRiYqLr+VVXXaX27dtr/vz5mj59eqnvmTFjhqZNm1bi+OrVqxUcHFxtfa3NkpKSvN2FCjty1EeSj/bs3q2Vp5mNr0pmHA+oPowHFMeYgLuaGg+5ubnlaufVMBsZGSlfX1+lp6d7HE9PT1dMTEy5PsPf31/dunXT/v37y2wzefJkTZo0yfU8MzNT8fHxGjRokMLDwyvXeZOy2WxKSkrSwIED5e/v7+3uVMgnGTukU8fUqVNHXd8r3tvduSyYeTyg6jEeUBxjAu5qejw4/5J+MV4NswEBAerRo4fWrFmjkSNHSpIcDofWrFmjiRMnlusz7Ha7du7cqeuvv77MNlarVVartcRxf3//OvsvpzmvvXCxrL+frwn7XruZczygujAeUBxjAu5qajyU9xxeX2YwadIkjRs3Tj179lSvXr00Z84c5eTk6M4775QkjR07Vo0bN9aMGTMkSU899ZT69OmjVq1a6cyZM3r++ed16NAhTZgwwZuXgRrgoDQXAAAoxuth9vbbb9fx48c1ZcoUpaWlqWvXrvrss89cN4WlpKTIx+d80YXTp0/r7rvvVlpamurXr68ePXpo06ZNSkhI8NYloIawnS0AACjO62FWkiZOnFjmsoJ169Z5PJ89e7Zmz55dA71CbeMszeXDdrYAAKCI1zdNAMrLucyALAsAAJwIszCN82GWNAsAAAoRZmEajqI9E1hmAAAAnAizMA07ywwAAEAxhFmYhkFpLgAAUAxhFqbhLM1lIcwCAIAihFmYhrM0ly/rDAAAQBHCLEzDYM0sAAAohjAL03DdAEaaBQAARQizMA1XaS7WzAIAgCKEWZgGO4ABAIDiCLMwDQeluQAAQDGEWZiGs5oBpbkAAIATYRamUTQxS2kuAADgQpiFabBmFgAAFEeYhWlQmgsAABRHmIVpUJoLAAAUR5iFaVDNAAAAFEeYhWk4wyxZFgAAOBFmYRp2lhkAAIBiCLMwDcO5zIAbwAAAQBHCLEzDTmkuAABQDGEWpuFwUJoLAAB48vN2B4CL+Sk9S+9uOazsvAJJrJkFAADnEWZRK52z2bVyZ6re3ZKib5JPu463iQ5V43pBXuwZAACoTQizqFV+TM/Soq9T9MH2X5R5rnAm1tfHol+3i9KYXk11bZtG3AAGAABcCLPwurP5dn1SNAu77dD5WdjG9YL0myvjNapnvGIiAr3YQwAAUFsRZuE1e9MytXjL4RKzsAPaR2l0r6bq25pZWAAAcGGEWdSos/l2ffz9Ub27JUXbU864jjepH6TRvZpqVI8migpnFhYAAJQPYRY1Yk9qpt7dkqJl3x5RVtEsrJ+PRQPaR2t076bq2yqSklsAAKDCCLOoNrn5Bfr4+1Qt+jpFOw6fcR2PbxCk31zJLCwAALh0hFlUud1HC2dhl397RFl552dhB3WI1uheTXV1S2ZhAQBA1SDMokrk5BXo4++PatGWw/rObRa2WcNg/ebKprq1RxM1CrN6r4MAAOCyRJjFJfnhSIbe3ZKiD3ccde3Q5e9r0aAOMRrTq6kSr2jILCwAAKg2hFlUWHZegVZ8V1iR4PtfMlzHmzcM1uheTXVLjyaKDGUWFgAAVD/CLMrthyMZWrQlRR9+e0Q5+XZJhbOwQzrGanSvePVpwSwsAACoWYRZXFB2XoE+2lE4C7vzyPlZ2BaRIRrdK163dG+ihszCAgAALyHMolTf/3LGtRY2t2gWNsDXR0M6xmh0r6bqc0UDWSzMwgIAAO8izMIl65xNHxWthf3hSKbr+BWNQjSmV1Pd3L2JGoQEeLGHAAAAngizdZxhGNp5JEOLvk7RR9+5zcL6+Whox8KKBL1aMAsLAABqJ8JsHZV1rkArtxXOwu46en4WtmWjkMKKBN2bqD6zsAAAoJYjzNYhhmHo+18ytPiAjyZv+8JjFvb6orWwzMICAAAzIczWAVnnbPpwx1Et+jpFu1MzJflIsqtloxCN6d1MN3drzCwsAAAwJcLsZco5C+tcC3vWdn4WtnO9Ak26sbcSWzViFhYAAJgaYfYyk1k0C/uuaxa2UKuoUI3u1VTDO0Vp87r/6crm9QmyAADA9AizlwHDMPTdLxl6t5RZ2GGdYjW6V1NXeLXZbF7uLQAAQNUhzJrYhWZhC+vCNla9YNbCAgCAyxdh1mScs7CLvj6kFd+leszC3tApVqN7N1XPZiwhAAAAdQNh1iQyz9n04bdHtGjLYe1hFhYAAEASYbZWMwxDOw6f0btbUpiFBQAAKAVhthZyzsK+83WK9qZluY63jgrVmN5NdVM3ZmEBAAAkwmyt4ZyFXfR1ij7+/vwsrNXPR8M6x2pMr6bqwSwsAACABx9vd0CSXn75ZTVv3lyBgYHq3bu3tmzZcsH2S5cuVbt27RQYGKhOnTpp5cqVNdTTqpdx1qb/bE7W0Jc26KZXNmnptl901mZX66hQTR2eoK//ep1evK2rejZnm1kAAIDivD4zu2TJEk2aNEnz5s1T7969NWfOHA0ePFj79u1TVFRUifabNm3S6NGjNWPGDN1www1atGiRRo4cqe3bt6tjx45euIKKMwxD3x4+o3e/TtGK74/qnM0hiVlYAACAivJ6mH3xxRd19913684775QkzZs3T5988on+/e9/6y9/+UuJ9i+99JKGDBmiRx55RJI0ffp0JSUl6V//+pfmzZtXo32vqIyzNn2444gWFVsL2ya6sCLBTd2aKCLY34s9BAAAMBevhtn8/Hxt27ZNkydPdh3z8fHRgAEDtHnz5lLfs3nzZk2aNMnj2ODBg7V8+fLq7GqlOWdhC9fCes7C3tA5TmN6x6t7U2ZhAQAAKsOrYfbEiROy2+2Kjo72OB4dHa29e/eW+p60tLRS26elpZV5nry8POXl5bmeZ2YW1mm12WzVvr3rtylndNtr59cAt44K0W+ujNeNXWIVEVQ4C1tQUFCtfXDnvF62tYXEeIAnxgOKY0zAXU2Ph/Kex+vLDGrCjBkzNG3atBLHV69ereDg4Go9t2FIjYN91TjE0FXRDjUPzZDlVIa+XPtDtZ73YpKSkrx6ftQujAe4YzygOMYE3NXUeMjNzS1XO6+G2cjISPn6+io9Pd3jeHp6umJiYkp9T0xMTIXaS9LkyZM9liZkZmYqPj5egwYNUnh4+CVcQfkMGWrI16d2LCOw2WxKSkrSwIED5e/P+ty6jvEAd4wHFMeYgLuaHg/Ov6RfjFfDbEBAgHr06KE1a9Zo5MiRkiSHw6E1a9Zo4sSJpb4nMTFRa9as0UMPPeQ6lpSUpMTExDLPY7VaZbVaSxz39/evkS+jNv7rX1PXDnNgPMAd4wHFMSbgrsbyUznP4fVlBpMmTdK4cePUs2dP9erVS3PmzFFOTo6rusHYsWPVuHFjzZgxQ5L04IMPql+/fpo1a5aGDRumxYsXa+vWrXr11Ve9eRkAAADwAq+H2dtvv13Hjx/XlClTlJaWpq5du+qzzz5z3eSVkpIiH5/zeztcddVVWrRokZ544gn99a9/VevWrbV8+XLT1JgFAABA1fF6mJWkiRMnlrmsYN26dSWOjRo1SqNGjarmXgEAAKC2qxXb2QIAAACVQZgFAACAaRFmAQAAYFqEWQAAAJgWYRYAAACmRZgFAACAaRFmAQAAYFqEWQAAAJgWYRYAAACmRZgFAACAaRFmAQAAYFqEWQAAAJgWYRYAAACmRZgFAACAafl5uwPeYBiGJCkzM9PLPal5NptNubm5yszMlL+/v7e7Ay9jPMAd4wHFMSbgrqbHgzOnOXNbWepkmM3KypIkxcfHe7knAAAAuJCsrCxFRESU+brFuFjcvQw5HA4dPXpUYWFhslgs3u5OjcrMzFR8fLwOHz6s8PBwb3cHXsZ4gDvGA4pjTMBdTY8HwzCUlZWluLg4+fiUvTK2Ts7M+vj4qEmTJt7uhleFh4fziwkujAe4YzygOMYE3NXkeLjQjKwTN4ABAADAtAizAAAAMC3CbB1jtVo1depUWa1Wb3cFtQDjAe4YDyiOMQF3tXU81MkbwAAAAHB5YGYWAAAApkWYBQAAgGkRZgEAAGBahFkAAACYFmH2MjB37lx17tzZVcQ4MTFRn376qev1c+fO6f7771fDhg0VGhqqW265Renp6R6fkZKSomHDhik4OFhRUVF65JFHVFBQUNOXgmowc+ZMWSwWPfTQQ65jjIm648knn5TFYvF4tGvXzvU6Y6HuOXLkiH7729+qYcOGCgoKUqdOnbR161bX64ZhaMqUKYqNjVVQUJAGDBign376yeMzTp06pTvuuEPh4eGqV6+efv/73ys7O7umLwVVoHnz5iV+R1gsFt1///2SzPE7gjB7GWjSpIlmzpypbdu2aevWrfr1r3+tG2+8Ubt27ZIk/elPf9KKFSu0dOlSffHFFzp69Khuvvlm1/vtdruGDRum/Px8bdq0SQsXLtSCBQs0ZcoUb10Sqsg333yj+fPnq3Pnzh7HGRN1S4cOHZSamup6bNy40fUaY6FuOX36tK6++mr5+/vr008/1e7duzVr1izVr1/f1ea5557TP/7xD82bN09ff/21QkJCNHjwYJ07d87V5o477tCuXbuUlJSkjz/+WOvXr9cf/vAHb1wSLtE333zj8fshKSlJkjRq1ChJJvkdYeCyVL9+feP11183zpw5Y/j7+xtLly51vbZnzx5DkrF582bDMAxj5cqVho+Pj5GWluZqM3fuXCM8PNzIy8ur8b6jamRlZRmtW7c2kpKSjH79+hkPPvigYRgGY6KOmTp1qtGlS5dSX2Ms1D2PPfaYcc0115T5usPhMGJiYoznn3/edezMmTOG1Wo13n33XcMwDGP37t2GJOObb75xtfn0008Ni8ViHDlypPo6jxrx4IMPGi1btjQcDodpfkcwM3uZsdvtWrx4sXJycpSYmKht27bJZrNpwIABrjbt2rVT06ZNtXnzZknS5s2b1alTJ0VHR7vaDB48WJmZma7ZXZjP/fffr2HDhnl895IYE3XQTz/9pLi4OF1xxRW64447lJKSIomxUBd99NFH6tmzp0aNGqWoqCh169ZNr732muv1gwcPKi0tzWNMREREqHfv3h5jol69eurZs6erzYABA+Tj46Ovv/665i4GVS4/P19vv/227rrrLlksFtP8jiDMXiZ27typ0NBQWa1W3XvvvVq2bJkSEhKUlpamgIAA1atXz6N9dHS00tLSJElpaWkeg9D5uvM1mM/ixYu1fft2zZgxo8RrjIm6pXfv3lqwYIE+++wzzZ07VwcPHlTfvn2VlZXFWKiDfv75Z82dO1etW7fWqlWr9Mc//lEPPPCAFi5cKOn8d1rad+4+JqKiojxe9/PzU4MGDRgTJrd8+XKdOXNG48ePl2Se/1741chZUO3atm2rHTt2KCMjQ++//77GjRunL774wtvdghccPnxYDz74oJKSkhQYGOjt7sDLhg4d6vrnzp07q3fv3mrWrJnee+89BQUFebFn8AaHw6GePXvqmWeekSR169ZNP/zwg+bNm6dx48Z5uXfwtjfeeENDhw5VXFyct7tSIczMXiYCAgLUqlUr9ejRQzNmzFCXLl300ksvKSYmRvn5+Tpz5oxH+/T0dMXExEiSYmJiStyZ6HzubAPz2LZtm44dO6bu3bvLz89Pfn5++uKLL/SPf/xDfn5+io6OZkzUYfXq1VObNm20f/9+fj/UQbGxsUpISPA41r59e9fSE+d3Wtp37j4mjh075vF6QUGBTp06xZgwsUOHDul///ufJkyY4Dpmlt8RhNnLlMPhUF5ennr06CF/f3+tWbPG9dq+ffuUkpKixMRESVJiYqJ27tzp8cspKSlJ4eHhJX7pofa77rrrtHPnTu3YscP16Nmzp+644w7XPzMm6q7s7GwdOHBAsbGx/H6og66++mrt27fP49iPP/6oZs2aSZJatGihmJgYjzGRmZmpr7/+2mNMnDlzRtu2bXO1+fzzz+VwONS7d+8auApUhzfffFNRUVEaNmyY65hpfkfUyG1mqFZ/+ctfjC+++MI4ePCg8f333xt/+ctfDIvFYqxevdowDMO49957jaZNmxqff/65sXXrViMxMdFITEx0vb+goMDo2LGjMWjQIGPHjh3GZ599ZjRq1MiYPHmyty4JVcy9moFhMCbqkocffthYt26dcfDgQePLL780BgwYYERGRhrHjh0zDIOxUNds2bLF8PPzM55++mnjp59+Mt555x0jODjYePvtt11tZs6cadSrV8/48MMPje+//9648cYbjRYtWhhnz551tRkyZIjRrVs34+uvvzY2btxotG7d2hg9erQ3LglVwG63G02bNjUee+yxEq+Z4XcEYfYycNdddxnNmjUzAgICjEaNGhnXXXedK8gahmGcPXvWuO+++4z69esbwcHBxk033WSkpqZ6fEZycrIxdOhQIygoyIiMjDQefvhhw2az1fSloJoUD7OMibrj9ttvN2JjY42AgACjcePGxu23327s37/f9Tpjoe5ZsWKF0bFjR8NqtRrt2rUzXn31VY/XHQ6H8be//c2Ijo42rFarcd111xn79u3zaHPy5Elj9OjRRmhoqBEeHm7ceeedRlZWVk1eBqrQqlWrDEklvmfDMMfvCIthGEbNzAEDAAAAVYs1swAAADAtwiwAAABMizALAAAA0yLMAgAAwLQIswAAADAtwiwAAABMizALAAAA0yLMAgCq1b59+xQTE6OsrKxyv+ezzz5T165d5XA4qrFnAC4HhFkAdYLFYrng48knn/R2F6tc8+bNNWfOHG93Q5MnT9b//d//KSwsTJK0bt06WSwWnTlzxtXm6NGj6tSpk6699lplZGRoyJAh8vf31zvvvOOlXgMwC8IsgDohNTXV9ZgzZ47Cw8M9jv35z3/2dhfLxTAMFRQU1Og58/PzK/3elJQUffzxxxo/fnyZbQ4cOKBrrrlGzZo106pVqxQRESFJGj9+vP7xj39U+twA6gbCLIA6ISYmxvWIiIiQxWLxOLZ48WK1b99egYGBateunV555RXXe5OTk2WxWPTee++pb9++CgoK0pVXXqkff/xR33zzjXr27KnQ0FANHTpUx48fd71v/PjxGjlypKZNm6ZGjRopPDxc9957r0c4dDgcmjFjhlq0aKGgoCB16dJF77//vut15yzmp59+qh49eshqtWrjxo06cOCAbrzxRkVHRys0NFRXXnml/ve//7ne179/fx06dEh/+tOfXLPPkvTkk0+qa9euHj+bOXPmqHnz5iX6/fTTTysuLk5t27aVJL311lvq2bOnwsLCFBMTozFjxujYsWMX/Lm/99576tKlixo3blzq699//72uueYaJSYmavny5QoKCnK9Nnz4cG3dulUHDhy44DkA1G2EWQB13jvvvKMpU6bo6aef1p49e/TMM8/ob3/7mxYuXOjRburUqXriiSe0fft2+fn5acyYMXr00Uf10ksvacOGDdq/f7+mTJni8Z41a9Zoz549Wrdund5991198MEHmjZtmuv1GTNm6D//+Y/mzZunXbt26U9/+pN++9vf6osvvvD4nL/85S+aOXOm9uzZo86dOys7O1vXX3+91qxZo2+//VZDhgzR8OHDlZKSIkn64IMP1KRJEz311FOu2eeKWLNmjfbt26ekpCR9/PHHkiSbzabp06fru+++0/Lly5WcnHzBGVdJ2rBhg3r27Fnqa5s2bVK/fv10yy236O2335afn5/H602bNlV0dLQ2bNhQob4DqGMMAKhj3nzzTSMiIsL1vGXLlsaiRYs82kyfPt1ITEw0DMMwDh48aEgyXn/9ddfr7777riHJWLNmjevYjBkzjLZt27qejxs3zmjQoIGRk5PjOjZ37lwjNDTUsNvtxrlz54zg4GBj06ZNHuf+/e9/b4wePdowDMNYu3atIclYvnz5Ra+rQ4cOxj//+U/X82bNmhmzZ8/2aDN16lSjS5cuHsdmz55tNGvWzKPf0dHRRl5e3gXP98033xiSjKysrDLbdOnSxXjqqac8jjmvKSAgwPjd7353wXN069bNePLJJy/YBkDd5nfBpAsAl7mcnBwdOHBAv//973X33Xe7jhcUFLjWbjp17tzZ9c/R0dGSpE6dOnkcK/5n9y5duig4ONj1PDExUdnZ2Tp8+LCys7OVm5urgQMHerwnPz9f3bp18zhWfHYzOztbTz75pD755BOlpqaqoKBAZ8+edc3MXqpOnTopICDA49i2bdv05JNP6rvvvtPp06ddlQZSUlKUkJBQ6uecPXtWgYGBpb524403atmyZdqwYYP69u1bapugoCDl5uZewpUAuNwRZgHUadnZ2ZKk1157Tb179/Z4zdfX1+O5v7+/65+da1CLH6tIKSnnuT/55JMSa0qtVqvH85CQEI/nf/7zn5WUlKQXXnhBrVq1UlBQkG699daL3qzl4+MjwzA8jtlsthLtip8vJydHgwcP1uDBg/XOO++oUaNGSklJ0eDBgy94zsjISJ0+fbrU1+bPn69HH31UQ4cO1cqVK3XttdeWaHPq1Ck1atTogtcEoG4jzAKo06KjoxUXF6eff/5Zd9xxR5V//nfffaezZ8+6bmz66quvFBoaqvj4eDVo0EBWq1UpKSnq169fhT73yy+/1Pjx43XTTTdJKgzGycnJHm0CAgJkt9s9jjVq1EhpaWkyDMMVyHfs2HHR8+3du1cnT57UzJkzFR8fL0naunXrRd/XrVs37d69u9TXLBaLXn31Vfn4+Oj666/XJ5984vFzOHfunA4cOFBilhoA3BFmAdR506ZN0wMPPKCIiAgNGTJEeXl52rp1q06fPq1JkyZd0mfn5+fr97//vZ544gklJydr6tSpmjhxonx8fBQWFqY///nP+tOf/iSHw6FrrrlGGRkZ+vLLLxUeHq5x48aV+bmtW7fWBx98oOHDh8tisehvf/tbiVnh5s2ba/369frNb34jq9WqyMhI9e/fX8ePH9dzzz2nW2+9VZ999pk+/fRThYeHX/A6mjZtqoCAAP3zn//Uvffeqx9++EHTp0+/6PUPHjxYEyZMkN1uLzHTLRUG2nnz5snX19cVaPv37y+pMPhbrVYlJiZe9DwA6i6qGQCo8yZMmKDXX39db775pjp16qR+/fppwYIFatGixSV/9nXXXafWrVvr2muv1e23364RI0Z4bNAwffp0/e1vf9OMGTPUvn17DRkyRJ988slFz/3iiy+qfv36uuqqqzR8+HANHjxY3bt392jz1FNPKTk5WS1btnT9qb59+/Z65ZVX9PLLL6tLly7asmVLuWrsNmrUSAsWLNDSpUuVkJCgmTNn6oUXXrjo+4YOHSo/Pz+PsmHFWSwWvfzyy7rzzjs1bNgwrV27VpL07rvv6o477vBYcwwAxVmM4ounAABVYvz48Tpz5oyWL1/u7a541csvv6yPPvpIq1atKvd7Tpw4obZt22rr1q1V8n8qAFy+WGYAAKhW99xzj86cOaOsrCzXlrYXk5ycrFdeeYUgC+CimJkFgGrCzCwAVD/CLAAAAEyLG8AAAABgWoRZAAAAmBZhFgAAAKZFmAUAAIBpEWYBAABgWoRZAAAAmBZhFgAAAKZFmAUAAIBpEWYBAABgWv8PgfYcx2lCNzoAAAAASUVORK5CYII=\n"
                },
                "metadata": {}
              }
            ]
          }
        },
        "38e3bcbfc47f4a719587e3c108708b05": {
          "model_module": "@jupyter-widgets/base",
          "model_name": "LayoutModel",
          "model_module_version": "1.2.0",
          "state": {
            "_model_module": "@jupyter-widgets/base",
            "_model_module_version": "1.2.0",
            "_model_name": "LayoutModel",
            "_view_count": null,
            "_view_module": "@jupyter-widgets/base",
            "_view_module_version": "1.2.0",
            "_view_name": "LayoutView",
            "align_content": null,
            "align_items": null,
            "align_self": null,
            "border": null,
            "bottom": null,
            "display": null,
            "flex": null,
            "flex_flow": null,
            "grid_area": null,
            "grid_auto_columns": null,
            "grid_auto_flow": null,
            "grid_auto_rows": null,
            "grid_column": null,
            "grid_gap": null,
            "grid_row": null,
            "grid_template_areas": null,
            "grid_template_columns": null,
            "grid_template_rows": null,
            "height": null,
            "justify_content": null,
            "justify_items": null,
            "left": null,
            "margin": null,
            "max_height": null,
            "max_width": null,
            "min_height": null,
            "min_width": null,
            "object_fit": null,
            "object_position": null,
            "order": null,
            "overflow": null,
            "overflow_x": null,
            "overflow_y": null,
            "padding": null,
            "right": null,
            "top": null,
            "visibility": null,
            "width": null
          }
        },
        "24f35db7bcaf40fd98aae8ce56b19ed5": {
          "model_module": "@jupyter-widgets/base",
          "model_name": "LayoutModel",
          "model_module_version": "1.2.0",
          "state": {
            "_model_module": "@jupyter-widgets/base",
            "_model_module_version": "1.2.0",
            "_model_name": "LayoutModel",
            "_view_count": null,
            "_view_module": "@jupyter-widgets/base",
            "_view_module_version": "1.2.0",
            "_view_name": "LayoutView",
            "align_content": null,
            "align_items": null,
            "align_self": null,
            "border": null,
            "bottom": null,
            "display": null,
            "flex": null,
            "flex_flow": null,
            "grid_area": null,
            "grid_auto_columns": null,
            "grid_auto_flow": null,
            "grid_auto_rows": null,
            "grid_column": null,
            "grid_gap": null,
            "grid_row": null,
            "grid_template_areas": null,
            "grid_template_columns": null,
            "grid_template_rows": null,
            "height": null,
            "justify_content": null,
            "justify_items": null,
            "left": null,
            "margin": null,
            "max_height": null,
            "max_width": null,
            "min_height": null,
            "min_width": null,
            "object_fit": null,
            "object_position": null,
            "order": null,
            "overflow": null,
            "overflow_x": null,
            "overflow_y": null,
            "padding": null,
            "right": null,
            "top": null,
            "visibility": null,
            "width": null
          }
        },
        "9bbb0bc323e24f248422f91a9fe7f476": {
          "model_module": "@jupyter-widgets/controls",
          "model_name": "SliderStyleModel",
          "model_module_version": "1.5.0",
          "state": {
            "_model_module": "@jupyter-widgets/controls",
            "_model_module_version": "1.5.0",
            "_model_name": "SliderStyleModel",
            "_view_count": null,
            "_view_module": "@jupyter-widgets/base",
            "_view_module_version": "1.2.0",
            "_view_name": "StyleView",
            "description_width": "",
            "handle_color": null
          }
        },
        "74b8164151f6480da627d09e34223f5c": {
          "model_module": "@jupyter-widgets/base",
          "model_name": "LayoutModel",
          "model_module_version": "1.2.0",
          "state": {
            "_model_module": "@jupyter-widgets/base",
            "_model_module_version": "1.2.0",
            "_model_name": "LayoutModel",
            "_view_count": null,
            "_view_module": "@jupyter-widgets/base",
            "_view_module_version": "1.2.0",
            "_view_name": "LayoutView",
            "align_content": null,
            "align_items": null,
            "align_self": null,
            "border": null,
            "bottom": null,
            "display": null,
            "flex": null,
            "flex_flow": null,
            "grid_area": null,
            "grid_auto_columns": null,
            "grid_auto_flow": null,
            "grid_auto_rows": null,
            "grid_column": null,
            "grid_gap": null,
            "grid_row": null,
            "grid_template_areas": null,
            "grid_template_columns": null,
            "grid_template_rows": null,
            "height": null,
            "justify_content": null,
            "justify_items": null,
            "left": null,
            "margin": null,
            "max_height": null,
            "max_width": null,
            "min_height": null,
            "min_width": null,
            "object_fit": null,
            "object_position": null,
            "order": null,
            "overflow": null,
            "overflow_x": null,
            "overflow_y": null,
            "padding": null,
            "right": null,
            "top": null,
            "visibility": null,
            "width": null
          }
        },
        "c051aaee4d06416f99bf136438ea4725": {
          "model_module": "@jupyter-widgets/controls",
          "model_name": "VBoxModel",
          "model_module_version": "1.5.0",
          "state": {
            "_dom_classes": [
              "widget-interact"
            ],
            "_model_module": "@jupyter-widgets/controls",
            "_model_module_version": "1.5.0",
            "_model_name": "VBoxModel",
            "_view_count": null,
            "_view_module": "@jupyter-widgets/controls",
            "_view_module_version": "1.5.0",
            "_view_name": "VBoxView",
            "box_style": "",
            "children": [
              "IPY_MODEL_14e7a96d2cb14644bcdf03bccbdced0d",
              "IPY_MODEL_1fb13c56847d4befabe85c11872ab1ac"
            ],
            "layout": "IPY_MODEL_12fdf147d465442dbdf96f395bc5d11d"
          }
        },
        "14e7a96d2cb14644bcdf03bccbdced0d": {
          "model_module": "@jupyter-widgets/controls",
          "model_name": "FloatSliderModel",
          "model_module_version": "1.5.0",
          "state": {
            "_dom_classes": [],
            "_model_module": "@jupyter-widgets/controls",
            "_model_module_version": "1.5.0",
            "_model_name": "FloatSliderModel",
            "_view_count": null,
            "_view_module": "@jupyter-widgets/controls",
            "_view_module_version": "1.5.0",
            "_view_name": "FloatSliderView",
            "continuous_update": true,
            "description": "Presión (Pa)",
            "description_tooltip": null,
            "disabled": false,
            "layout": "IPY_MODEL_308bcae2661b4173971dc6ad8a16932b",
            "max": 200000,
            "min": 1000,
            "orientation": "horizontal",
            "readout": true,
            "readout_format": ".2f",
            "step": 1000,
            "style": "IPY_MODEL_b92d2603c3bd490687787401cb2c33cc",
            "value": 167000
          }
        },
        "1fb13c56847d4befabe85c11872ab1ac": {
          "model_module": "@jupyter-widgets/output",
          "model_name": "OutputModel",
          "model_module_version": "1.0.0",
          "state": {
            "_dom_classes": [],
            "_model_module": "@jupyter-widgets/output",
            "_model_module_version": "1.0.0",
            "_model_name": "OutputModel",
            "_view_count": null,
            "_view_module": "@jupyter-widgets/output",
            "_view_module_version": "1.0.0",
            "_view_name": "OutputView",
            "layout": "IPY_MODEL_bc594ba5d2a8482db428410e32671176",
            "msg_id": "",
            "outputs": [
              {
                "output_type": "display_data",
                "data": {
                  "text/plain": "<Figure size 800x600 with 1 Axes>",
                  "image/png": "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\n"
                },
                "metadata": {}
              }
            ]
          }
        },
        "12fdf147d465442dbdf96f395bc5d11d": {
          "model_module": "@jupyter-widgets/base",
          "model_name": "LayoutModel",
          "model_module_version": "1.2.0",
          "state": {
            "_model_module": "@jupyter-widgets/base",
            "_model_module_version": "1.2.0",
            "_model_name": "LayoutModel",
            "_view_count": null,
            "_view_module": "@jupyter-widgets/base",
            "_view_module_version": "1.2.0",
            "_view_name": "LayoutView",
            "align_content": null,
            "align_items": null,
            "align_self": null,
            "border": null,
            "bottom": null,
            "display": null,
            "flex": null,
            "flex_flow": null,
            "grid_area": null,
            "grid_auto_columns": null,
            "grid_auto_flow": null,
            "grid_auto_rows": null,
            "grid_column": null,
            "grid_gap": null,
            "grid_row": null,
            "grid_template_areas": null,
            "grid_template_columns": null,
            "grid_template_rows": null,
            "height": null,
            "justify_content": null,
            "justify_items": null,
            "left": null,
            "margin": null,
            "max_height": null,
            "max_width": null,
            "min_height": null,
            "min_width": null,
            "object_fit": null,
            "object_position": null,
            "order": null,
            "overflow": null,
            "overflow_x": null,
            "overflow_y": null,
            "padding": null,
            "right": null,
            "top": null,
            "visibility": null,
            "width": null
          }
        },
        "308bcae2661b4173971dc6ad8a16932b": {
          "model_module": "@jupyter-widgets/base",
          "model_name": "LayoutModel",
          "model_module_version": "1.2.0",
          "state": {
            "_model_module": "@jupyter-widgets/base",
            "_model_module_version": "1.2.0",
            "_model_name": "LayoutModel",
            "_view_count": null,
            "_view_module": "@jupyter-widgets/base",
            "_view_module_version": "1.2.0",
            "_view_name": "LayoutView",
            "align_content": null,
            "align_items": null,
            "align_self": null,
            "border": null,
            "bottom": null,
            "display": null,
            "flex": null,
            "flex_flow": null,
            "grid_area": null,
            "grid_auto_columns": null,
            "grid_auto_flow": null,
            "grid_auto_rows": null,
            "grid_column": null,
            "grid_gap": null,
            "grid_row": null,
            "grid_template_areas": null,
            "grid_template_columns": null,
            "grid_template_rows": null,
            "height": null,
            "justify_content": null,
            "justify_items": null,
            "left": null,
            "margin": null,
            "max_height": null,
            "max_width": null,
            "min_height": null,
            "min_width": null,
            "object_fit": null,
            "object_position": null,
            "order": null,
            "overflow": null,
            "overflow_x": null,
            "overflow_y": null,
            "padding": null,
            "right": null,
            "top": null,
            "visibility": null,
            "width": null
          }
        },
        "b92d2603c3bd490687787401cb2c33cc": {
          "model_module": "@jupyter-widgets/controls",
          "model_name": "SliderStyleModel",
          "model_module_version": "1.5.0",
          "state": {
            "_model_module": "@jupyter-widgets/controls",
            "_model_module_version": "1.5.0",
            "_model_name": "SliderStyleModel",
            "_view_count": null,
            "_view_module": "@jupyter-widgets/base",
            "_view_module_version": "1.2.0",
            "_view_name": "StyleView",
            "description_width": "",
            "handle_color": null
          }
        },
        "bc594ba5d2a8482db428410e32671176": {
          "model_module": "@jupyter-widgets/base",
          "model_name": "LayoutModel",
          "model_module_version": "1.2.0",
          "state": {
            "_model_module": "@jupyter-widgets/base",
            "_model_module_version": "1.2.0",
            "_model_name": "LayoutModel",
            "_view_count": null,
            "_view_module": "@jupyter-widgets/base",
            "_view_module_version": "1.2.0",
            "_view_name": "LayoutView",
            "align_content": null,
            "align_items": null,
            "align_self": null,
            "border": null,
            "bottom": null,
            "display": null,
            "flex": null,
            "flex_flow": null,
            "grid_area": null,
            "grid_auto_columns": null,
            "grid_auto_flow": null,
            "grid_auto_rows": null,
            "grid_column": null,
            "grid_gap": null,
            "grid_row": null,
            "grid_template_areas": null,
            "grid_template_columns": null,
            "grid_template_rows": null,
            "height": null,
            "justify_content": null,
            "justify_items": null,
            "left": null,
            "margin": null,
            "max_height": null,
            "max_width": null,
            "min_height": null,
            "min_width": null,
            "object_fit": null,
            "object_position": null,
            "order": null,
            "overflow": null,
            "overflow_x": null,
            "overflow_y": null,
            "padding": null,
            "right": null,
            "top": null,
            "visibility": null,
            "width": null
          }
        }
      }
    }
  },
  "nbformat": 4,
  "nbformat_minor": 5
}