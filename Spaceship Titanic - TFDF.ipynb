{
 "cells":[
  {
   "cell_type":"markdown",
   "source":[
    "# Spaceship Titanic\n",
    "**Predict which passengers are transported to an alternate dimension**\n",
    "- **ML model created by Marlon Viasus**\n",
    "- TensorFlow Decision Forest\n",
    "- Data obtained from: https:\/\/www.kaggle.com\/competitions\/spaceship-titanic\/data"
   ],
   "attachments":{
    
   },
   "metadata":{
    "datalore":{
     "node_id":"JlfTh5Ks5i39yRx8pdJn9z",
     "type":"MD",
     "hide_input_from_viewers":false,
     "hide_output_from_viewers":false,
     "report_properties":{
      "rowId":"swAxJgQ6SEIulygVMujBjt",
      "relativeY":0
     }
    }
   }
  },
  {
   "cell_type":"markdown",
   "source":[
    "**Importamos todas las librerias necesarias y revisamos la version de TensorFlow y TFDF**"
   ],
   "attachments":{
    
   },
   "metadata":{
    "datalore":{
     "node_id":"vvVTTce1sCD3oo6sOI7vPL",
     "type":"MD",
     "hide_input_from_viewers":false,
     "hide_output_from_viewers":false,
     "report_properties":{
      "rowId":"zfXaq5sVgDdmrxXGY1A95g",
      "relativeY":0
     }
    }
   }
  },
  {
   "cell_type":"code",
   "source":[
    "import tensorflow as tf\n",
    "import tensorflow_decision_forests as tfdf\n",
    "import pandas as pd\n",
    "import numpy as np\n",
    "import seaborn as sns\n",
    "import matplotlib.pyplot as plt\n",
    "\n",
    "print(\"TensorFlow v\" + tf.__version__)\n",
    "print(\"TensorFlow Decision Forests v\" + tfdf.__version__)"
   ],
   "execution_count":null,
   "outputs":[
    {
     "name":"stdout",
     "text":[
      "TensorFlow v2.13.1\n",
      "TensorFlow Decision Forests v1.5.0\n"
     ],
     "output_type":"stream"
    }
   ],
   "metadata":{
    "datalore":{
     "node_id":"HeDFbUkoV4VhnQP1tmKu8g",
     "type":"CODE",
     "hide_input_from_viewers":false,
     "hide_output_from_viewers":false,
     "report_properties":{
      "rowId":"9og3atBYnNP3jD2guZnXgn",
      "relativeY":0
     }
    }
   }
  },
  {
   "cell_type":"markdown",
   "source":[
    "**Importando el dataset y revisando la cantidad de filas y columnas**"
   ],
   "attachments":{
    
   },
   "metadata":{
    "datalore":{
     "node_id":"SGp90BGSfWxqDtGkxBnWL6",
     "type":"MD",
     "hide_input_from_viewers":false,
     "hide_output_from_viewers":false,
     "report_properties":{
      "rowId":"NcCzl0PKAy5H2wllaarZQf",
      "relativeY":0
     }
    }
   }
  },
  {
   "cell_type":"code",
   "source":[
    "import pandas as pd\n",
    "train_data = pd.read_csv('\/data\/workspace_files\/Spaceship Titanic\/train.csv')\n",
    "print(\"Full train dataset shape is {}\".format(train_data.shape))"
   ],
   "execution_count":null,
   "outputs":[
    {
     "name":"stdout",
     "text":[
      "Full train dataset shape is (8693, 14)\n"
     ],
     "output_type":"stream"
    }
   ],
   "metadata":{
    "datalore":{
     "node_id":"h4ojVnI375qmlWNPBr6ddn",
     "type":"CODE",
     "hide_input_from_viewers":false,
     "hide_output_from_viewers":false,
     "report_properties":{
      "rowId":"wn0TiHGAF36Y2Aj902slYK",
      "relativeY":0
     }
    }
   }
  },
  {
   "cell_type":"code",
   "source":[
    "train_data"
   ],
   "execution_count":null,
   "outputs":[
    {
     "data":{
      "text\/html":[
       "<div>\n",
       "<style scoped>\n",
       "    .dataframe tbody tr th:only-of-type {\n",
       "        vertical-align: middle;\n",
       "    }\n",
       "\n",
       "    .dataframe tbody tr th {\n",
       "        vertical-align: top;\n",
       "    }\n",
       "\n",
       "    .dataframe thead th {\n",
       "        text-align: right;\n",
       "    }\n",
       "<\/style>\n",
       "<table border=\"1\" class=\"dataframe\">\n",
       "  <thead>\n",
       "    <tr style=\"text-align: right;\">\n",
       "      <th><\/th>\n",
       "      <th>PassengerId<\/th>\n",
       "      <th>HomePlanet<\/th>\n",
       "      <th>CryoSleep<\/th>\n",
       "      <th>Cabin<\/th>\n",
       "      <th>Destination<\/th>\n",
       "      <th>Age<\/th>\n",
       "      <th>VIP<\/th>\n",
       "      <th>RoomService<\/th>\n",
       "      <th>FoodCourt<\/th>\n",
       "      <th>ShoppingMall<\/th>\n",
       "      <th>Spa<\/th>\n",
       "      <th>VRDeck<\/th>\n",
       "      <th>Name<\/th>\n",
       "      <th>Transported<\/th>\n",
       "    <\/tr>\n",
       "  <\/thead>\n",
       "  <tbody>\n",
       "    <tr>\n",
       "      <th>0<\/th>\n",
       "      <td>0001_01<\/td>\n",
       "      <td>Europa<\/td>\n",
       "      <td>False<\/td>\n",
       "      <td>B\/0\/P<\/td>\n",
       "      <td>TRAPPIST-1e<\/td>\n",
       "      <td>39.0<\/td>\n",
       "      <td>False<\/td>\n",
       "      <td>0.0<\/td>\n",
       "      <td>0.0<\/td>\n",
       "      <td>0.0<\/td>\n",
       "      <td>0.0<\/td>\n",
       "      <td>0.0<\/td>\n",
       "      <td>Maham Ofracculy<\/td>\n",
       "      <td>False<\/td>\n",
       "    <\/tr>\n",
       "    <tr>\n",
       "      <th>1<\/th>\n",
       "      <td>0002_01<\/td>\n",
       "      <td>Earth<\/td>\n",
       "      <td>False<\/td>\n",
       "      <td>F\/0\/S<\/td>\n",
       "      <td>TRAPPIST-1e<\/td>\n",
       "      <td>24.0<\/td>\n",
       "      <td>False<\/td>\n",
       "      <td>109.0<\/td>\n",
       "      <td>9.0<\/td>\n",
       "      <td>25.0<\/td>\n",
       "      <td>549.0<\/td>\n",
       "      <td>44.0<\/td>\n",
       "      <td>Juanna Vines<\/td>\n",
       "      <td>True<\/td>\n",
       "    <\/tr>\n",
       "    <tr>\n",
       "      <th>2<\/th>\n",
       "      <td>0003_01<\/td>\n",
       "      <td>Europa<\/td>\n",
       "      <td>False<\/td>\n",
       "      <td>A\/0\/S<\/td>\n",
       "      <td>TRAPPIST-1e<\/td>\n",
       "      <td>58.0<\/td>\n",
       "      <td>True<\/td>\n",
       "      <td>43.0<\/td>\n",
       "      <td>3576.0<\/td>\n",
       "      <td>0.0<\/td>\n",
       "      <td>6715.0<\/td>\n",
       "      <td>49.0<\/td>\n",
       "      <td>Altark Susent<\/td>\n",
       "      <td>False<\/td>\n",
       "    <\/tr>\n",
       "    <tr>\n",
       "      <th>3<\/th>\n",
       "      <td>0003_02<\/td>\n",
       "      <td>Europa<\/td>\n",
       "      <td>False<\/td>\n",
       "      <td>A\/0\/S<\/td>\n",
       "      <td>TRAPPIST-1e<\/td>\n",
       "      <td>33.0<\/td>\n",
       "      <td>False<\/td>\n",
       "      <td>0.0<\/td>\n",
       "      <td>1283.0<\/td>\n",
       "      <td>371.0<\/td>\n",
       "      <td>3329.0<\/td>\n",
       "      <td>193.0<\/td>\n",
       "      <td>Solam Susent<\/td>\n",
       "      <td>False<\/td>\n",
       "    <\/tr>\n",
       "    <tr>\n",
       "      <th>4<\/th>\n",
       "      <td>0004_01<\/td>\n",
       "      <td>Earth<\/td>\n",
       "      <td>False<\/td>\n",
       "      <td>F\/1\/S<\/td>\n",
       "      <td>TRAPPIST-1e<\/td>\n",
       "      <td>16.0<\/td>\n",
       "      <td>False<\/td>\n",
       "      <td>303.0<\/td>\n",
       "      <td>70.0<\/td>\n",
       "      <td>151.0<\/td>\n",
       "      <td>565.0<\/td>\n",
       "      <td>2.0<\/td>\n",
       "      <td>Willy Santantines<\/td>\n",
       "      <td>True<\/td>\n",
       "    <\/tr>\n",
       "    <tr>\n",
       "      <th>...<\/th>\n",
       "      <td>...<\/td>\n",
       "      <td>...<\/td>\n",
       "      <td>...<\/td>\n",
       "      <td>...<\/td>\n",
       "      <td>...<\/td>\n",
       "      <td>...<\/td>\n",
       "      <td>...<\/td>\n",
       "      <td>...<\/td>\n",
       "      <td>...<\/td>\n",
       "      <td>...<\/td>\n",
       "      <td>...<\/td>\n",
       "      <td>...<\/td>\n",
       "      <td>...<\/td>\n",
       "      <td>...<\/td>\n",
       "    <\/tr>\n",
       "    <tr>\n",
       "      <th>8688<\/th>\n",
       "      <td>9276_01<\/td>\n",
       "      <td>Europa<\/td>\n",
       "      <td>False<\/td>\n",
       "      <td>A\/98\/P<\/td>\n",
       "      <td>55 Cancri e<\/td>\n",
       "      <td>41.0<\/td>\n",
       "      <td>True<\/td>\n",
       "      <td>0.0<\/td>\n",
       "      <td>6819.0<\/td>\n",
       "      <td>0.0<\/td>\n",
       "      <td>1643.0<\/td>\n",
       "      <td>74.0<\/td>\n",
       "      <td>Gravior Noxnuther<\/td>\n",
       "      <td>False<\/td>\n",
       "    <\/tr>\n",
       "    <tr>\n",
       "      <th>8689<\/th>\n",
       "      <td>9278_01<\/td>\n",
       "      <td>Earth<\/td>\n",
       "      <td>True<\/td>\n",
       "      <td>G\/1499\/S<\/td>\n",
       "      <td>PSO J318.5-22<\/td>\n",
       "      <td>18.0<\/td>\n",
       "      <td>False<\/td>\n",
       "      <td>0.0<\/td>\n",
       "      <td>0.0<\/td>\n",
       "      <td>0.0<\/td>\n",
       "      <td>0.0<\/td>\n",
       "      <td>0.0<\/td>\n",
       "      <td>Kurta Mondalley<\/td>\n",
       "      <td>False<\/td>\n",
       "    <\/tr>\n",
       "    <tr>\n",
       "      <th>8690<\/th>\n",
       "      <td>9279_01<\/td>\n",
       "      <td>Earth<\/td>\n",
       "      <td>False<\/td>\n",
       "      <td>G\/1500\/S<\/td>\n",
       "      <td>TRAPPIST-1e<\/td>\n",
       "      <td>26.0<\/td>\n",
       "      <td>False<\/td>\n",
       "      <td>0.0<\/td>\n",
       "      <td>0.0<\/td>\n",
       "      <td>1872.0<\/td>\n",
       "      <td>1.0<\/td>\n",
       "      <td>0.0<\/td>\n",
       "      <td>Fayey Connon<\/td>\n",
       "      <td>True<\/td>\n",
       "    <\/tr>\n",
       "    <tr>\n",
       "      <th>8691<\/th>\n",
       "      <td>9280_01<\/td>\n",
       "      <td>Europa<\/td>\n",
       "      <td>False<\/td>\n",
       "      <td>E\/608\/S<\/td>\n",
       "      <td>55 Cancri e<\/td>\n",
       "      <td>32.0<\/td>\n",
       "      <td>False<\/td>\n",
       "      <td>0.0<\/td>\n",
       "      <td>1049.0<\/td>\n",
       "      <td>0.0<\/td>\n",
       "      <td>353.0<\/td>\n",
       "      <td>3235.0<\/td>\n",
       "      <td>Celeon Hontichre<\/td>\n",
       "      <td>False<\/td>\n",
       "    <\/tr>\n",
       "    <tr>\n",
       "      <th>8692<\/th>\n",
       "      <td>9280_02<\/td>\n",
       "      <td>Europa<\/td>\n",
       "      <td>False<\/td>\n",
       "      <td>E\/608\/S<\/td>\n",
       "      <td>TRAPPIST-1e<\/td>\n",
       "      <td>44.0<\/td>\n",
       "      <td>False<\/td>\n",
       "      <td>126.0<\/td>\n",
       "      <td>4688.0<\/td>\n",
       "      <td>0.0<\/td>\n",
       "      <td>0.0<\/td>\n",
       "      <td>12.0<\/td>\n",
       "      <td>Propsh Hontichre<\/td>\n",
       "      <td>True<\/td>\n",
       "    <\/tr>\n",
       "  <\/tbody>\n",
       "<\/table>\n",
       "<p>8693 rows × 14 columns<\/p>\n",
       "<\/div>"
      ]
     },
     "metadata":{
      
     },
     "output_type":"display_data"
    }
   ],
   "metadata":{
    "datalore":{
     "node_id":"G2en7qzZhoZL89NSoPJdHP",
     "type":"CODE",
     "hide_input_from_viewers":false,
     "hide_output_from_viewers":false,
     "report_properties":{
      "rowId":"K9LTn0jNQnU3OSYCC0OUF1",
      "relativeY":0
     }
    }
   }
  },
  {
   "cell_type":"markdown",
   "source":[
    "# Train data EDA"
   ],
   "attachments":{
    
   },
   "metadata":{
    "datalore":{
     "node_id":"XBlGZsvqsf5nZuUXuvtIEs",
     "type":"MD",
     "hide_input_from_viewers":false,
     "hide_output_from_viewers":false,
     "report_properties":{
      "rowId":"w0wUtpsjGBEVn5cvXng6Id",
      "relativeY":0
     }
    }
   }
  },
  {
   "cell_type":"markdown",
   "source":[
    "Eliminamos las columnas 'PassengerId' y 'Name' debido a que no aportan informacion relevante para el entrenamiento del modelo"
   ],
   "attachments":{
    
   },
   "metadata":{
    "datalore":{
     "node_id":"34h5XyF0hDbGbpWsWxyHx2",
     "type":"MD",
     "hide_input_from_viewers":false,
     "hide_output_from_viewers":false,
     "report_properties":{
      "rowId":"3PhMs8bJd168EZXPlrdHOk",
      "relativeY":0
     }
    }
   }
  },
  {
   "cell_type":"code",
   "source":[
    "train_data = train_data.drop(['PassengerId', 'Name'], axis=1)\n",
    "train_data"
   ],
   "execution_count":null,
   "outputs":[
    {
     "data":{
      "text\/html":[
       "<div>\n",
       "<style scoped>\n",
       "    .dataframe tbody tr th:only-of-type {\n",
       "        vertical-align: middle;\n",
       "    }\n",
       "\n",
       "    .dataframe tbody tr th {\n",
       "        vertical-align: top;\n",
       "    }\n",
       "\n",
       "    .dataframe thead th {\n",
       "        text-align: right;\n",
       "    }\n",
       "<\/style>\n",
       "<table border=\"1\" class=\"dataframe\">\n",
       "  <thead>\n",
       "    <tr style=\"text-align: right;\">\n",
       "      <th><\/th>\n",
       "      <th>HomePlanet<\/th>\n",
       "      <th>CryoSleep<\/th>\n",
       "      <th>Cabin<\/th>\n",
       "      <th>Destination<\/th>\n",
       "      <th>Age<\/th>\n",
       "      <th>VIP<\/th>\n",
       "      <th>RoomService<\/th>\n",
       "      <th>FoodCourt<\/th>\n",
       "      <th>ShoppingMall<\/th>\n",
       "      <th>Spa<\/th>\n",
       "      <th>VRDeck<\/th>\n",
       "      <th>Transported<\/th>\n",
       "    <\/tr>\n",
       "  <\/thead>\n",
       "  <tbody>\n",
       "    <tr>\n",
       "      <th>0<\/th>\n",
       "      <td>Europa<\/td>\n",
       "      <td>False<\/td>\n",
       "      <td>B\/0\/P<\/td>\n",
       "      <td>TRAPPIST-1e<\/td>\n",
       "      <td>39.0<\/td>\n",
       "      <td>False<\/td>\n",
       "      <td>0.0<\/td>\n",
       "      <td>0.0<\/td>\n",
       "      <td>0.0<\/td>\n",
       "      <td>0.0<\/td>\n",
       "      <td>0.0<\/td>\n",
       "      <td>False<\/td>\n",
       "    <\/tr>\n",
       "    <tr>\n",
       "      <th>1<\/th>\n",
       "      <td>Earth<\/td>\n",
       "      <td>False<\/td>\n",
       "      <td>F\/0\/S<\/td>\n",
       "      <td>TRAPPIST-1e<\/td>\n",
       "      <td>24.0<\/td>\n",
       "      <td>False<\/td>\n",
       "      <td>109.0<\/td>\n",
       "      <td>9.0<\/td>\n",
       "      <td>25.0<\/td>\n",
       "      <td>549.0<\/td>\n",
       "      <td>44.0<\/td>\n",
       "      <td>True<\/td>\n",
       "    <\/tr>\n",
       "    <tr>\n",
       "      <th>2<\/th>\n",
       "      <td>Europa<\/td>\n",
       "      <td>False<\/td>\n",
       "      <td>A\/0\/S<\/td>\n",
       "      <td>TRAPPIST-1e<\/td>\n",
       "      <td>58.0<\/td>\n",
       "      <td>True<\/td>\n",
       "      <td>43.0<\/td>\n",
       "      <td>3576.0<\/td>\n",
       "      <td>0.0<\/td>\n",
       "      <td>6715.0<\/td>\n",
       "      <td>49.0<\/td>\n",
       "      <td>False<\/td>\n",
       "    <\/tr>\n",
       "    <tr>\n",
       "      <th>3<\/th>\n",
       "      <td>Europa<\/td>\n",
       "      <td>False<\/td>\n",
       "      <td>A\/0\/S<\/td>\n",
       "      <td>TRAPPIST-1e<\/td>\n",
       "      <td>33.0<\/td>\n",
       "      <td>False<\/td>\n",
       "      <td>0.0<\/td>\n",
       "      <td>1283.0<\/td>\n",
       "      <td>371.0<\/td>\n",
       "      <td>3329.0<\/td>\n",
       "      <td>193.0<\/td>\n",
       "      <td>False<\/td>\n",
       "    <\/tr>\n",
       "    <tr>\n",
       "      <th>4<\/th>\n",
       "      <td>Earth<\/td>\n",
       "      <td>False<\/td>\n",
       "      <td>F\/1\/S<\/td>\n",
       "      <td>TRAPPIST-1e<\/td>\n",
       "      <td>16.0<\/td>\n",
       "      <td>False<\/td>\n",
       "      <td>303.0<\/td>\n",
       "      <td>70.0<\/td>\n",
       "      <td>151.0<\/td>\n",
       "      <td>565.0<\/td>\n",
       "      <td>2.0<\/td>\n",
       "      <td>True<\/td>\n",
       "    <\/tr>\n",
       "    <tr>\n",
       "      <th>...<\/th>\n",
       "      <td>...<\/td>\n",
       "      <td>...<\/td>\n",
       "      <td>...<\/td>\n",
       "      <td>...<\/td>\n",
       "      <td>...<\/td>\n",
       "      <td>...<\/td>\n",
       "      <td>...<\/td>\n",
       "      <td>...<\/td>\n",
       "      <td>...<\/td>\n",
       "      <td>...<\/td>\n",
       "      <td>...<\/td>\n",
       "      <td>...<\/td>\n",
       "    <\/tr>\n",
       "    <tr>\n",
       "      <th>8688<\/th>\n",
       "      <td>Europa<\/td>\n",
       "      <td>False<\/td>\n",
       "      <td>A\/98\/P<\/td>\n",
       "      <td>55 Cancri e<\/td>\n",
       "      <td>41.0<\/td>\n",
       "      <td>True<\/td>\n",
       "      <td>0.0<\/td>\n",
       "      <td>6819.0<\/td>\n",
       "      <td>0.0<\/td>\n",
       "      <td>1643.0<\/td>\n",
       "      <td>74.0<\/td>\n",
       "      <td>False<\/td>\n",
       "    <\/tr>\n",
       "    <tr>\n",
       "      <th>8689<\/th>\n",
       "      <td>Earth<\/td>\n",
       "      <td>True<\/td>\n",
       "      <td>G\/1499\/S<\/td>\n",
       "      <td>PSO J318.5-22<\/td>\n",
       "      <td>18.0<\/td>\n",
       "      <td>False<\/td>\n",
       "      <td>0.0<\/td>\n",
       "      <td>0.0<\/td>\n",
       "      <td>0.0<\/td>\n",
       "      <td>0.0<\/td>\n",
       "      <td>0.0<\/td>\n",
       "      <td>False<\/td>\n",
       "    <\/tr>\n",
       "    <tr>\n",
       "      <th>8690<\/th>\n",
       "      <td>Earth<\/td>\n",
       "      <td>False<\/td>\n",
       "      <td>G\/1500\/S<\/td>\n",
       "      <td>TRAPPIST-1e<\/td>\n",
       "      <td>26.0<\/td>\n",
       "      <td>False<\/td>\n",
       "      <td>0.0<\/td>\n",
       "      <td>0.0<\/td>\n",
       "      <td>1872.0<\/td>\n",
       "      <td>1.0<\/td>\n",
       "      <td>0.0<\/td>\n",
       "      <td>True<\/td>\n",
       "    <\/tr>\n",
       "    <tr>\n",
       "      <th>8691<\/th>\n",
       "      <td>Europa<\/td>\n",
       "      <td>False<\/td>\n",
       "      <td>E\/608\/S<\/td>\n",
       "      <td>55 Cancri e<\/td>\n",
       "      <td>32.0<\/td>\n",
       "      <td>False<\/td>\n",
       "      <td>0.0<\/td>\n",
       "      <td>1049.0<\/td>\n",
       "      <td>0.0<\/td>\n",
       "      <td>353.0<\/td>\n",
       "      <td>3235.0<\/td>\n",
       "      <td>False<\/td>\n",
       "    <\/tr>\n",
       "    <tr>\n",
       "      <th>8692<\/th>\n",
       "      <td>Europa<\/td>\n",
       "      <td>False<\/td>\n",
       "      <td>E\/608\/S<\/td>\n",
       "      <td>TRAPPIST-1e<\/td>\n",
       "      <td>44.0<\/td>\n",
       "      <td>False<\/td>\n",
       "      <td>126.0<\/td>\n",
       "      <td>4688.0<\/td>\n",
       "      <td>0.0<\/td>\n",
       "      <td>0.0<\/td>\n",
       "      <td>12.0<\/td>\n",
       "      <td>True<\/td>\n",
       "    <\/tr>\n",
       "  <\/tbody>\n",
       "<\/table>\n",
       "<p>8693 rows × 12 columns<\/p>\n",
       "<\/div>"
      ]
     },
     "metadata":{
      
     },
     "output_type":"display_data"
    }
   ],
   "metadata":{
    "datalore":{
     "node_id":"8cyNtPXSHSzdiFdq4gfpwp",
     "type":"CODE",
     "hide_input_from_viewers":false,
     "hide_output_from_viewers":false,
     "report_properties":{
      "rowId":"DiihRsEXmkUNsFrca7OxgM",
      "relativeY":0
     }
    }
   }
  },
  {
   "cell_type":"markdown",
   "source":[
    "Revisamos la cantidad de datos faltantes que  tiene cada columna"
   ],
   "attachments":{
    
   },
   "metadata":{
    "datalore":{
     "node_id":"2nmpwUfVakUSnksdZb4fvX",
     "type":"MD",
     "hide_input_from_viewers":false,
     "hide_output_from_viewers":false,
     "report_properties":{
      "rowId":"KQKje5KW81EbALYIcmcHfP",
      "relativeY":0
     }
    }
   }
  },
  {
   "cell_type":"code",
   "source":[
    "train_data.isnull().sum().sort_values(ascending=False)"
   ],
   "execution_count":null,
   "outputs":[
    {
     "data":{
      "text\/html":[
       "<pre>CryoSleep       217\n",
       "ShoppingMall    208\n",
       "VIP             203\n",
       "HomePlanet      201\n",
       "Cabin           199\n",
       "VRDeck          188\n",
       "FoodCourt       183\n",
       "Spa             183\n",
       "Destination     182\n",
       "RoomService     181\n",
       "Age             179\n",
       "Transported       0\n",
       "dtype: int64<\/pre>"
      ]
     },
     "metadata":{
      
     },
     "output_type":"display_data"
    }
   ],
   "metadata":{
    "datalore":{
     "node_id":"SkEyt4bEQ7piZun3fBWNcX",
     "type":"CODE",
     "hide_input_from_viewers":false,
     "hide_output_from_viewers":false,
     "report_properties":{
      "rowId":"snZjaOGhymlIqmmF7URqlH",
      "relativeY":0
     }
    }
   }
  },
  {
   "cell_type":"markdown",
   "source":[
    "**Debido a que TF-DF no soporta boolean convertimos las columnas que tengan boolean en int**"
   ],
   "attachments":{
    
   },
   "metadata":{
    "datalore":{
     "node_id":"YnPvo1fzdchBRtZjHzfofd",
     "type":"MD",
     "hide_input_from_viewers":false,
     "hide_output_from_viewers":false,
     "report_properties":{
      "rowId":"KZt7E8TeJDXeGAhzHg94zs",
      "relativeY":0
     }
    }
   }
  },
  {
   "cell_type":"markdown",
   "source":[
    "Rellenaremos los datos Na con cero"
   ],
   "attachments":{
    
   },
   "metadata":{
    "datalore":{
     "node_id":"CdUZTUCy2nIH5Am1as41yn",
     "type":"MD",
     "hide_input_from_viewers":false,
     "hide_output_from_viewers":false,
     "report_properties":{
      "rowId":"MjkM7IFfBxvCBzgGirGAHd",
      "relativeY":0
     }
    }
   }
  },
  {
   "cell_type":"code",
   "source":[
    "train_data[['VIP', 'CryoSleep', 'FoodCourt', 'ShoppingMall', 'Spa', 'VRDeck']] = train_data[['VIP', 'CryoSleep', 'FoodCourt', 'ShoppingMall', 'Spa', 'VRDeck']].fillna(value=0)\n",
    "train_data.isnull().sum().sort_values(ascending=False)"
   ],
   "execution_count":null,
   "outputs":[
    {
     "data":{
      "text\/html":[
       "<pre>HomePlanet      201\n",
       "Cabin           199\n",
       "Destination     182\n",
       "RoomService     181\n",
       "Age             179\n",
       "CryoSleep         0\n",
       "VIP               0\n",
       "FoodCourt         0\n",
       "ShoppingMall      0\n",
       "Spa               0\n",
       "VRDeck            0\n",
       "Transported       0\n",
       "dtype: int64<\/pre>"
      ]
     },
     "metadata":{
      
     },
     "output_type":"display_data"
    }
   ],
   "metadata":{
    "datalore":{
     "node_id":"OaKOhMIMzbN5EPyL7hlhMv",
     "type":"CODE",
     "hide_input_from_viewers":false,
     "hide_output_from_viewers":false,
     "report_properties":{
      "rowId":"yuVF9aNNYb61EQxbb3rcSG",
      "relativeY":0
     }
    }
   }
  },
  {
   "cell_type":"code",
   "source":[
    "label = \"Transported\"\n",
    "train_data[label] = train_data[label].astype(int)"
   ],
   "execution_count":null,
   "outputs":[
    
   ],
   "metadata":{
    "datalore":{
     "node_id":"gSWcXSHYYddpax8Z6p7HkH",
     "type":"CODE",
     "hide_input_from_viewers":false,
     "hide_output_from_viewers":false,
     "report_properties":{
      "rowId":"I7XVjFPPYsf5yEQWtuKX7f",
      "relativeY":0
     }
    }
   }
  },
  {
   "cell_type":"code",
   "source":[
    "train_data['VIP'] = train_data['VIP'].astype(int)\n",
    "train_data['CryoSleep'] = train_data['CryoSleep'].astype(int)"
   ],
   "execution_count":null,
   "outputs":[
    
   ],
   "metadata":{
    "datalore":{
     "node_id":"7j9pZGhhdM2nm3ipmHC3hL",
     "type":"CODE",
     "hide_input_from_viewers":false,
     "hide_output_from_viewers":false,
     "report_properties":{
      "rowId":"UIYmxbdbjfqYiHyi6SqAzW",
      "relativeY":0
     }
    }
   }
  },
  {
   "cell_type":"markdown",
   "source":[
    "Dividimos los datos de la columna 'Cabin' en un split de 3"
   ],
   "attachments":{
    
   },
   "metadata":{
    "datalore":{
     "node_id":"JSElpatWhSafovoIEy2ZsC",
     "type":"MD",
     "hide_input_from_viewers":false,
     "hide_output_from_viewers":false,
     "report_properties":{
      "rowId":"riLAcIM2ehT7IZCXYecG6H",
      "relativeY":0
     }
    }
   }
  },
  {
   "cell_type":"code",
   "source":[
    "train_data[[\"Deck\", \"Cabin_num\", \"Side\"]] = train_data[\"Cabin\"].str.split(\"\/\", expand=True)"
   ],
   "execution_count":null,
   "outputs":[
    
   ],
   "metadata":{
    "datalore":{
     "node_id":"YynCxmNDDxuioYe5JWadQb",
     "type":"CODE",
     "hide_input_from_viewers":false,
     "hide_output_from_viewers":false,
     "report_properties":{
      "rowId":"ZESsdhu1jtuf5dZG9UYMfx",
      "relativeY":0
     }
    }
   }
  },
  {
   "cell_type":"markdown",
   "source":[
    "Ahora hacemos un drop de la columna 'Cabin' debido que ya no es necesaria"
   ],
   "attachments":{
    
   },
   "metadata":{
    "datalore":{
     "node_id":"B7Iy3JokInVp1uFQcAnAhl",
     "type":"MD",
     "hide_input_from_viewers":false,
     "hide_output_from_viewers":false,
     "report_properties":{
      "rowId":"O2VecFv7S64GFJ8yGMovU0",
      "relativeY":0
     }
    }
   }
  },
  {
   "cell_type":"code",
   "source":[
    "dataset_df = train_data.drop('Cabin', axis=1,inplace=True)\n",
    "train_data"
   ],
   "execution_count":null,
   "outputs":[
    {
     "data":{
      "text\/html":[
       "<div>\n",
       "<style scoped>\n",
       "    .dataframe tbody tr th:only-of-type {\n",
       "        vertical-align: middle;\n",
       "    }\n",
       "\n",
       "    .dataframe tbody tr th {\n",
       "        vertical-align: top;\n",
       "    }\n",
       "\n",
       "    .dataframe thead th {\n",
       "        text-align: right;\n",
       "    }\n",
       "<\/style>\n",
       "<table border=\"1\" class=\"dataframe\">\n",
       "  <thead>\n",
       "    <tr style=\"text-align: right;\">\n",
       "      <th><\/th>\n",
       "      <th>HomePlanet<\/th>\n",
       "      <th>CryoSleep<\/th>\n",
       "      <th>Destination<\/th>\n",
       "      <th>Age<\/th>\n",
       "      <th>VIP<\/th>\n",
       "      <th>RoomService<\/th>\n",
       "      <th>FoodCourt<\/th>\n",
       "      <th>ShoppingMall<\/th>\n",
       "      <th>Spa<\/th>\n",
       "      <th>VRDeck<\/th>\n",
       "      <th>Transported<\/th>\n",
       "      <th>Deck<\/th>\n",
       "      <th>Cabin_num<\/th>\n",
       "      <th>Side<\/th>\n",
       "    <\/tr>\n",
       "  <\/thead>\n",
       "  <tbody>\n",
       "    <tr>\n",
       "      <th>0<\/th>\n",
       "      <td>Europa<\/td>\n",
       "      <td>0<\/td>\n",
       "      <td>TRAPPIST-1e<\/td>\n",
       "      <td>39.0<\/td>\n",
       "      <td>0<\/td>\n",
       "      <td>0.0<\/td>\n",
       "      <td>0.0<\/td>\n",
       "      <td>0.0<\/td>\n",
       "      <td>0.0<\/td>\n",
       "      <td>0.0<\/td>\n",
       "      <td>0<\/td>\n",
       "      <td>B<\/td>\n",
       "      <td>0<\/td>\n",
       "      <td>P<\/td>\n",
       "    <\/tr>\n",
       "    <tr>\n",
       "      <th>1<\/th>\n",
       "      <td>Earth<\/td>\n",
       "      <td>0<\/td>\n",
       "      <td>TRAPPIST-1e<\/td>\n",
       "      <td>24.0<\/td>\n",
       "      <td>0<\/td>\n",
       "      <td>109.0<\/td>\n",
       "      <td>9.0<\/td>\n",
       "      <td>25.0<\/td>\n",
       "      <td>549.0<\/td>\n",
       "      <td>44.0<\/td>\n",
       "      <td>1<\/td>\n",
       "      <td>F<\/td>\n",
       "      <td>0<\/td>\n",
       "      <td>S<\/td>\n",
       "    <\/tr>\n",
       "    <tr>\n",
       "      <th>2<\/th>\n",
       "      <td>Europa<\/td>\n",
       "      <td>0<\/td>\n",
       "      <td>TRAPPIST-1e<\/td>\n",
       "      <td>58.0<\/td>\n",
       "      <td>1<\/td>\n",
       "      <td>43.0<\/td>\n",
       "      <td>3576.0<\/td>\n",
       "      <td>0.0<\/td>\n",
       "      <td>6715.0<\/td>\n",
       "      <td>49.0<\/td>\n",
       "      <td>0<\/td>\n",
       "      <td>A<\/td>\n",
       "      <td>0<\/td>\n",
       "      <td>S<\/td>\n",
       "    <\/tr>\n",
       "    <tr>\n",
       "      <th>3<\/th>\n",
       "      <td>Europa<\/td>\n",
       "      <td>0<\/td>\n",
       "      <td>TRAPPIST-1e<\/td>\n",
       "      <td>33.0<\/td>\n",
       "      <td>0<\/td>\n",
       "      <td>0.0<\/td>\n",
       "      <td>1283.0<\/td>\n",
       "      <td>371.0<\/td>\n",
       "      <td>3329.0<\/td>\n",
       "      <td>193.0<\/td>\n",
       "      <td>0<\/td>\n",
       "      <td>A<\/td>\n",
       "      <td>0<\/td>\n",
       "      <td>S<\/td>\n",
       "    <\/tr>\n",
       "    <tr>\n",
       "      <th>4<\/th>\n",
       "      <td>Earth<\/td>\n",
       "      <td>0<\/td>\n",
       "      <td>TRAPPIST-1e<\/td>\n",
       "      <td>16.0<\/td>\n",
       "      <td>0<\/td>\n",
       "      <td>303.0<\/td>\n",
       "      <td>70.0<\/td>\n",
       "      <td>151.0<\/td>\n",
       "      <td>565.0<\/td>\n",
       "      <td>2.0<\/td>\n",
       "      <td>1<\/td>\n",
       "      <td>F<\/td>\n",
       "      <td>1<\/td>\n",
       "      <td>S<\/td>\n",
       "    <\/tr>\n",
       "    <tr>\n",
       "      <th>...<\/th>\n",
       "      <td>...<\/td>\n",
       "      <td>...<\/td>\n",
       "      <td>...<\/td>\n",
       "      <td>...<\/td>\n",
       "      <td>...<\/td>\n",
       "      <td>...<\/td>\n",
       "      <td>...<\/td>\n",
       "      <td>...<\/td>\n",
       "      <td>...<\/td>\n",
       "      <td>...<\/td>\n",
       "      <td>...<\/td>\n",
       "      <td>...<\/td>\n",
       "      <td>...<\/td>\n",
       "      <td>...<\/td>\n",
       "    <\/tr>\n",
       "    <tr>\n",
       "      <th>8688<\/th>\n",
       "      <td>Europa<\/td>\n",
       "      <td>0<\/td>\n",
       "      <td>55 Cancri e<\/td>\n",
       "      <td>41.0<\/td>\n",
       "      <td>1<\/td>\n",
       "      <td>0.0<\/td>\n",
       "      <td>6819.0<\/td>\n",
       "      <td>0.0<\/td>\n",
       "      <td>1643.0<\/td>\n",
       "      <td>74.0<\/td>\n",
       "      <td>0<\/td>\n",
       "      <td>A<\/td>\n",
       "      <td>98<\/td>\n",
       "      <td>P<\/td>\n",
       "    <\/tr>\n",
       "    <tr>\n",
       "      <th>8689<\/th>\n",
       "      <td>Earth<\/td>\n",
       "      <td>1<\/td>\n",
       "      <td>PSO J318.5-22<\/td>\n",
       "      <td>18.0<\/td>\n",
       "      <td>0<\/td>\n",
       "      <td>0.0<\/td>\n",
       "      <td>0.0<\/td>\n",
       "      <td>0.0<\/td>\n",
       "      <td>0.0<\/td>\n",
       "      <td>0.0<\/td>\n",
       "      <td>0<\/td>\n",
       "      <td>G<\/td>\n",
       "      <td>1499<\/td>\n",
       "      <td>S<\/td>\n",
       "    <\/tr>\n",
       "    <tr>\n",
       "      <th>8690<\/th>\n",
       "      <td>Earth<\/td>\n",
       "      <td>0<\/td>\n",
       "      <td>TRAPPIST-1e<\/td>\n",
       "      <td>26.0<\/td>\n",
       "      <td>0<\/td>\n",
       "      <td>0.0<\/td>\n",
       "      <td>0.0<\/td>\n",
       "      <td>1872.0<\/td>\n",
       "      <td>1.0<\/td>\n",
       "      <td>0.0<\/td>\n",
       "      <td>1<\/td>\n",
       "      <td>G<\/td>\n",
       "      <td>1500<\/td>\n",
       "      <td>S<\/td>\n",
       "    <\/tr>\n",
       "    <tr>\n",
       "      <th>8691<\/th>\n",
       "      <td>Europa<\/td>\n",
       "      <td>0<\/td>\n",
       "      <td>55 Cancri e<\/td>\n",
       "      <td>32.0<\/td>\n",
       "      <td>0<\/td>\n",
       "      <td>0.0<\/td>\n",
       "      <td>1049.0<\/td>\n",
       "      <td>0.0<\/td>\n",
       "      <td>353.0<\/td>\n",
       "      <td>3235.0<\/td>\n",
       "      <td>0<\/td>\n",
       "      <td>E<\/td>\n",
       "      <td>608<\/td>\n",
       "      <td>S<\/td>\n",
       "    <\/tr>\n",
       "    <tr>\n",
       "      <th>8692<\/th>\n",
       "      <td>Europa<\/td>\n",
       "      <td>0<\/td>\n",
       "      <td>TRAPPIST-1e<\/td>\n",
       "      <td>44.0<\/td>\n",
       "      <td>0<\/td>\n",
       "      <td>126.0<\/td>\n",
       "      <td>4688.0<\/td>\n",
       "      <td>0.0<\/td>\n",
       "      <td>0.0<\/td>\n",
       "      <td>12.0<\/td>\n",
       "      <td>1<\/td>\n",
       "      <td>E<\/td>\n",
       "      <td>608<\/td>\n",
       "      <td>S<\/td>\n",
       "    <\/tr>\n",
       "  <\/tbody>\n",
       "<\/table>\n",
       "<p>8693 rows × 14 columns<\/p>\n",
       "<\/div>"
      ]
     },
     "metadata":{
      
     },
     "output_type":"display_data"
    }
   ],
   "metadata":{
    "datalore":{
     "node_id":"qEGxK3HABlrpN8mmdFEg0d",
     "type":"CODE",
     "hide_input_from_viewers":false,
     "hide_output_from_viewers":false,
     "report_properties":{
      "rowId":"YAWQDuUN4FVvjnw0Qrs3HB",
      "relativeY":0
     }
    }
   }
  },
  {
   "cell_type":"markdown",
   "source":[
    "**Ahora hacemos un split de los datos de entrenamiento y los de validacion (20%)**"
   ],
   "attachments":{
    
   },
   "metadata":{
    "datalore":{
     "node_id":"qyvGaM4kzRRai0Af9xxVls",
     "type":"MD",
     "hide_input_from_viewers":false,
     "hide_output_from_viewers":false,
     "report_properties":{
      "rowId":"qU1yQKzHYQJe0wmUBqUuIR",
      "relativeY":0
     }
    }
   }
  },
  {
   "cell_type":"code",
   "source":[
    "def split_dataset(dataset, test_ratio=0.20):\n",
    "  test_indices = np.random.rand(len(dataset)) < test_ratio\n",
    "  return dataset[~test_indices], dataset[test_indices]\n",
    "\n",
    "train_ds_pd, valid_ds_pd = split_dataset(train_data)\n",
    "print(\"{} examples in training, {} examples in testing.\".format(\n",
    "    len(train_ds_pd), len(valid_ds_pd)))"
   ],
   "execution_count":null,
   "outputs":[
    {
     "name":"stdout",
     "text":[
      "6948 examples in training, 1745 examples in testing.\n"
     ],
     "output_type":"stream"
    }
   ],
   "metadata":{
    "datalore":{
     "node_id":"hCYJ6YV7Fnq4BcsN4kWjnX",
     "type":"CODE",
     "hide_input_from_viewers":false,
     "hide_output_from_viewers":false,
     "report_properties":{
      "rowId":"LDutQJxAUJFLnLIhNO6Fa7",
      "relativeY":0
     }
    }
   }
  },
  {
   "cell_type":"markdown",
   "source":[
    "**Convertimos el train_data de pd.DataFrame a tf.data.Dataset**"
   ],
   "attachments":{
    
   },
   "metadata":{
    "datalore":{
     "node_id":"KCWIyxQpSoAKaRHquF2ExS",
     "type":"MD",
     "hide_input_from_viewers":false,
     "hide_output_from_viewers":false,
     "report_properties":{
      "rowId":"fIfIzG6ShPozE0XVyRlkAc",
      "relativeY":0
     }
    }
   }
  },
  {
   "cell_type":"code",
   "source":[
    "import tensorflow_decision_forests as tfdf\n",
    "train_ds = tfdf.keras.pd_dataframe_to_tf_dataset(train_ds_pd, label=label)\n",
    "valid_ds = tfdf.keras.pd_dataframe_to_tf_dataset(valid_ds_pd, label=label)"
   ],
   "execution_count":null,
   "outputs":[
    
   ],
   "metadata":{
    "datalore":{
     "node_id":"2yIsGFE8ezhY9L1ocHAKOr",
     "type":"CODE",
     "hide_input_from_viewers":false,
     "hide_output_from_viewers":false,
     "report_properties":{
      "rowId":"ZZmmvcjoOvINfbSlXPFAdF",
      "relativeY":0
     }
    }
   }
  },
  {
   "cell_type":"markdown",
   "source":[
    "**Eligiendo el modelo**"
   ],
   "attachments":{
    
   },
   "metadata":{
    "datalore":{
     "node_id":"ng1Lu0nxQJlpZapyJam5Sk",
     "type":"MD",
     "hide_input_from_viewers":false,
     "hide_output_from_viewers":false,
     "report_properties":{
      "rowId":"zY80l5POwmDVNMXPQ4ohVq",
      "relativeY":0
     }
    }
   }
  },
  {
   "cell_type":"code",
   "source":[
    "tfdf.keras.get_all_models()"
   ],
   "execution_count":null,
   "outputs":[
    {
     "data":{
      "text\/plain":[
       "[tensorflow_decision_forests.keras.RandomForestModel,\n",
       " tensorflow_decision_forests.keras.GradientBoostedTreesModel,\n",
       " tensorflow_decision_forests.keras.CartModel,\n",
       " tensorflow_decision_forests.keras.DistributedGradientBoostedTreesModel]"
      ]
     },
     "metadata":{
      
     },
     "output_type":"display_data"
    }
   ],
   "metadata":{
    "datalore":{
     "node_id":"qnaRYGvupbMWBw80D0WarV",
     "type":"CODE",
     "hide_input_from_viewers":false,
     "hide_output_from_viewers":false,
     "report_properties":{
      "rowId":"ICW7U1FhixFaRb1tkG4FUZ",
      "relativeY":0
     }
    }
   }
  },
  {
   "cell_type":"markdown",
   "source":[
    "# TFDF con RandomForestModel"
   ],
   "attachments":{
    
   },
   "metadata":{
    "datalore":{
     "node_id":"4BHvcC8ezSBoxFO8VW6XdT",
     "type":"MD",
     "hide_input_from_viewers":false,
     "hide_output_from_viewers":false,
     "report_properties":{
      "rowId":"DrDknwFUC3nrcHklzM2cvj",
      "relativeY":0
     }
    }
   }
  },
  {
   "cell_type":"markdown",
   "source":[
    "Segun el contenido de nuestro dataset, considero que TFDF con RandomForestModel es el mejor para entrenar el modelo"
   ],
   "attachments":{
    
   },
   "metadata":{
    "datalore":{
     "node_id":"WuPAqhi1dV4wp2xYMeE6TZ",
     "type":"MD",
     "hide_input_from_viewers":false,
     "hide_output_from_viewers":false,
     "report_properties":{
      "rowId":"DvAQgLHehTSH2ntCXJRo1o",
      "relativeY":0
     }
    }
   }
  },
  {
   "cell_type":"markdown",
   "source":[
    "**Creacion del modelo**"
   ],
   "attachments":{
    
   },
   "metadata":{
    "datalore":{
     "node_id":"NXpUk6Z9Uu48sXbtS4wrUR",
     "type":"MD",
     "hide_input_from_viewers":false,
     "hide_output_from_viewers":false,
     "report_properties":{
      "rowId":"nWyZXgENJG7YplCUjGI95U",
      "relativeY":0
     }
    }
   }
  },
  {
   "cell_type":"code",
   "source":[
    "rf = tfdf.keras.RandomForestModel(hyperparameter_template=\"benchmark_rank1\")"
   ],
   "execution_count":null,
   "outputs":[
    {
     "name":"stdout",
     "text":[
      "Resolve hyper-parameter template \"benchmark_rank1\" to \"benchmark_rank1@v1\" -> {'winner_take_all': True, 'categorical_algorithm': 'RANDOM', 'split_axis': 'SPARSE_OBLIQUE', 'sparse_oblique_normalization': 'MIN_MAX', 'sparse_oblique_num_projections_exponent': 1.0}.\n",
      "Use \/tmp\/tmpjai4td03 as temporary training directory\n"
     ],
     "output_type":"stream"
    }
   ],
   "metadata":{
    "datalore":{
     "node_id":"HoM2qhFyVPBfnCriy7XxVV",
     "type":"CODE",
     "hide_input_from_viewers":false,
     "hide_output_from_viewers":false,
     "report_properties":{
      "rowId":"K20RzQuYxIvLtpwTViDTjb",
      "relativeY":0
     }
    }
   }
  },
  {
   "cell_type":"markdown",
   "source":[
    "Definimos el 'accuracy' como medida para evaluar el modelo"
   ],
   "attachments":{
    
   },
   "metadata":{
    "datalore":{
     "node_id":"FiFEqAqzgEnb0UTW3ieMBw",
     "type":"MD",
     "hide_input_from_viewers":false,
     "hide_output_from_viewers":false,
     "report_properties":{
      "rowId":"69Gc6s1peDD0zAOiqwOsv1",
      "relativeY":0
     }
    }
   }
  },
  {
   "cell_type":"code",
   "source":[
    "rf = tfdf.keras.RandomForestModel()\n",
    "rf.compile(metrics=[\"accuracy\"])"
   ],
   "execution_count":null,
   "outputs":[
    {
     "name":"stdout",
     "text":[
      "Use \/tmp\/tmp69hp0k0u as temporary training directory\n"
     ],
     "output_type":"stream"
    }
   ],
   "metadata":{
    "datalore":{
     "node_id":"scwL7fUZqSy1Uq1t1Fcohf",
     "type":"CODE",
     "hide_input_from_viewers":false,
     "hide_output_from_viewers":false,
     "report_properties":{
      "rowId":"6ZkfgHlNkngSdRf0ZpDUKY",
      "relativeY":0
     }
    }
   }
  },
  {
   "cell_type":"markdown",
   "source":[
    "Entrenamos nuestro modelo con nuestro dataset de train"
   ],
   "attachments":{
    
   },
   "metadata":{
    "datalore":{
     "node_id":"xB2YKeaPgsIjIyNQaHmjax",
     "type":"MD",
     "hide_input_from_viewers":false,
     "hide_output_from_viewers":false,
     "report_properties":{
      "rowId":"V0JG5OEA4HRIvhQWl6Pyiy",
      "relativeY":0
     }
    }
   }
  },
  {
   "cell_type":"code",
   "source":[
    "rf.fit(x=train_ds)"
   ],
   "execution_count":null,
   "outputs":[
    {
     "name":"stdout",
     "text":[
      "Reading training dataset...\n",
      "Training dataset read in 0:00:00.531419. Found 6948 examples.\n",
      "Training model...\n",
      "Model trained in 0:01:14.012061\n",
      "Compiling model...\n",
      "Model compiled.\n"
     ],
     "output_type":"stream"
    },
    {
     "data":{
      "text\/plain":[
       "<keras.src.callbacks.History at 0x7f9b39bba5b0>"
      ]
     },
     "metadata":{
      
     },
     "output_type":"display_data"
    }
   ],
   "metadata":{
    "datalore":{
     "node_id":"ZmmaEC5TnAv2Vn3lN2dyOF",
     "type":"CODE",
     "hide_input_from_viewers":false,
     "hide_output_from_viewers":false,
     "report_properties":{
      "rowId":"5QXincPw11OgUEQ3U2bhar",
      "relativeY":0
     }
    }
   }
  },
  {
   "cell_type":"markdown",
   "source":[
    "Obtenemos una referencia grafica superficial de nuesto arbol de decisiones"
   ],
   "attachments":{
    
   },
   "metadata":{
    "datalore":{
     "node_id":"1pr1KJ2QFJrprCKmytp8sM",
     "type":"MD",
     "hide_input_from_viewers":false,
     "hide_output_from_viewers":false,
     "report_properties":{
      "rowId":"QJGeaPO4rm4NjBZxJyNqNm",
      "relativeY":0
     }
    }
   }
  },
  {
   "cell_type":"code",
   "source":[
    "tfdf.model_plotter.plot_model_in_colab(rf, tree_idx=0, max_depth=3)"
   ],
   "execution_count":null,
   "outputs":[
    {
     "data":{
      "text\/html":[
       "\n",
       "<script src=\"https:\/\/d3js.org\/d3.v6.min.js\"><\/script>\n",
       "<div id=\"tree_plot_31ab0b92a880416facfbdb1dfa5d3826\"><\/div>\n",
       "<script>\n",
       "\/*\n",
       " * Copyright 2021 Google LLC.\n",
       " * Licensed under the Apache License, Version 2.0 (the \"License\");\n",
       " * you may not use this file except in compliance with the License.\n",
       " * You may obtain a copy of the License at\n",
       " *\n",
       " *     https:\/\/www.apache.org\/licenses\/LICENSE-2.0\n",
       " *\n",
       " * Unless required by applicable law or agreed to in writing, software\n",
       " * distributed under the License is distributed on an \"AS IS\" BASIS,\n",
       " * WITHOUT WARRANTIES OR CONDITIONS OF ANY KIND, either express or implied.\n",
       " * See the License for the specific language governing permissions and\n",
       " * limitations under the License.\n",
       " *\/\n",
       "\n",
       "\/**\n",
       " *  Plotting of decision trees generated by TF-DF.\n",
       " *\n",
       " *  A tree is a recursive structure of node objects.\n",
       " *  A node contains one or more of the following components:\n",
       " *\n",
       " *    - A value: Representing the output of the node. If the node is not a leaf,\n",
       " *      the value is only present for analysis i.e. it is not used for\n",
       " *      predictions.\n",
       " *\n",
       " *    - A condition : For non-leaf nodes, the condition (also known as split)\n",
       " *      defines a binary test to branch to the positive or negative child.\n",
       " *\n",
       " *    - An explanation: Generally a plot showing the relation between the label\n",
       " *      and the condition to give insights about the effect of the condition.\n",
       " *\n",
       " *    - Two children : For non-leaf nodes, the children nodes. The first\n",
       " *      children (i.e. \"node.children[0]\") is the negative children (drawn in\n",
       " *      red). The second children is the positive one (drawn in green).\n",
       " *\n",
       " *\/\n",
       "\n",
       "\/**\n",
       " * Plots a single decision tree into a DOM element.\n",
       " * @param {!options} options Dictionary of configurations.\n",
       " * @param {!tree} raw_tree Recursive tree structure.\n",
       " * @param {string} canvas_id Id of the output dom element.\n",
       " *\/\n",
       "function display_tree(options, raw_tree, canvas_id) {\n",
       "  console.log(options);\n",
       "\n",
       "  \/\/ Determine the node placement.\n",
       "  const tree_struct = d3.tree().nodeSize(\n",
       "      [options.node_y_offset, options.node_x_offset])(d3.hierarchy(raw_tree));\n",
       "\n",
       "  \/\/ Boundaries of the node placement.\n",
       "  let x_min = Infinity;\n",
       "  let x_max = -x_min;\n",
       "  let y_min = Infinity;\n",
       "  let y_max = -x_min;\n",
       "\n",
       "  tree_struct.each(d => {\n",
       "    if (d.x > x_max) x_max = d.x;\n",
       "    if (d.x < x_min) x_min = d.x;\n",
       "    if (d.y > y_max) y_max = d.y;\n",
       "    if (d.y < y_min) y_min = d.y;\n",
       "  });\n",
       "\n",
       "  \/\/ Size of the plot.\n",
       "  const width = y_max - y_min + options.node_x_size + options.margin * 2;\n",
       "  const height = x_max - x_min + options.node_y_size + options.margin * 2 +\n",
       "      options.node_y_offset - options.node_y_size;\n",
       "\n",
       "  const plot = d3.select(canvas_id);\n",
       "\n",
       "  \/\/ Tool tip\n",
       "  options.tooltip = plot.append('div')\n",
       "                        .attr('width', 100)\n",
       "                        .attr('height', 100)\n",
       "                        .style('padding', '4px')\n",
       "                        .style('background', '#fff')\n",
       "                        .style('box-shadow', '4px 4px 0px rgba(0,0,0,0.1)')\n",
       "                        .style('border', '1px solid black')\n",
       "                        .style('font-family', 'sans-serif')\n",
       "                        .style('font-size', options.font_size)\n",
       "                        .style('position', 'absolute')\n",
       "                        .style('z-index', '10')\n",
       "                        .attr('pointer-events', 'none')\n",
       "                        .style('display', 'none');\n",
       "\n",
       "  \/\/ Create canvas\n",
       "  const svg = plot.append('svg').attr('width', width).attr('height', height);\n",
       "  const graph =\n",
       "      svg.style('overflow', 'visible')\n",
       "          .append('g')\n",
       "          .attr('font-family', 'sans-serif')\n",
       "          .attr('font-size', options.font_size)\n",
       "          .attr(\n",
       "              'transform',\n",
       "              () => `translate(${options.margin},${\n",
       "                  - x_min + options.node_y_offset \/ 2 + options.margin})`);\n",
       "\n",
       "  \/\/ Plot bounding box.\n",
       "  if (options.show_plot_bounding_box) {\n",
       "    svg.append('rect')\n",
       "        .attr('width', width)\n",
       "        .attr('height', height)\n",
       "        .attr('fill', 'none')\n",
       "        .attr('stroke-width', 1.0)\n",
       "        .attr('stroke', 'black');\n",
       "  }\n",
       "\n",
       "  \/\/ Draw the edges.\n",
       "  display_edges(options, graph, tree_struct);\n",
       "\n",
       "  \/\/ Draw the nodes.\n",
       "  display_nodes(options, graph, tree_struct);\n",
       "}\n",
       "\n",
       "\/**\n",
       " * Draw the nodes of the tree.\n",
       " * @param {!options} options Dictionary of configurations.\n",
       " * @param {!graph} graph D3 search handle containing the graph.\n",
       " * @param {!tree_struct} tree_struct Structure of the tree (node placement,\n",
       " *     data, etc.).\n",
       " *\/\n",
       "function display_nodes(options, graph, tree_struct) {\n",
       "  const nodes = graph.append('g')\n",
       "                    .selectAll('g')\n",
       "                    .data(tree_struct.descendants())\n",
       "                    .join('g')\n",
       "                    .attr('transform', d => `translate(${d.y},${d.x})`);\n",
       "\n",
       "  nodes.append('rect')\n",
       "      .attr('x', 0.5)\n",
       "      .attr('y', 0.5)\n",
       "      .attr('width', options.node_x_size)\n",
       "      .attr('height', options.node_y_size)\n",
       "      .attr('stroke', 'lightgrey')\n",
       "      .attr('stroke-width', 1)\n",
       "      .attr('fill', 'white')\n",
       "      .attr('y', -options.node_y_size \/ 2);\n",
       "\n",
       "  \/\/ Brackets on the right of condition nodes without children.\n",
       "  non_leaf_node_without_children =\n",
       "      nodes.filter(node => node.data.condition != null && node.children == null)\n",
       "          .append('g')\n",
       "          .attr('transform', `translate(${options.node_x_size},0)`);\n",
       "\n",
       "  non_leaf_node_without_children.append('path')\n",
       "      .attr('d', 'M0,0 C 10,0 0,10 10,10')\n",
       "      .attr('fill', 'none')\n",
       "      .attr('stroke-width', 1.0)\n",
       "      .attr('stroke', '#F00');\n",
       "\n",
       "  non_leaf_node_without_children.append('path')\n",
       "      .attr('d', 'M0,0 C 10,0 0,-10 10,-10')\n",
       "      .attr('fill', 'none')\n",
       "      .attr('stroke-width', 1.0)\n",
       "      .attr('stroke', '#0F0');\n",
       "\n",
       "  const node_content = nodes.append('g').attr(\n",
       "      'transform',\n",
       "      `translate(0,${options.node_padding - options.node_y_size \/ 2})`);\n",
       "\n",
       "  node_content.append(node => create_node_element(options, node));\n",
       "}\n",
       "\n",
       "\/**\n",
       " * Creates the D3 content for a single node.\n",
       " * @param {!options} options Dictionary of configurations.\n",
       " * @param {!node} node Node to draw.\n",
       " * @return {!d3} D3 content.\n",
       " *\/\n",
       "function create_node_element(options, node) {\n",
       "  \/\/ Output accumulator.\n",
       "  let output = {\n",
       "    \/\/ Content to draw.\n",
       "    content: d3.create('svg:g'),\n",
       "    \/\/ Vertical offset to the next element to draw.\n",
       "    vertical_offset: 0\n",
       "  };\n",
       "\n",
       "  \/\/ Conditions.\n",
       "  if (node.data.condition != null) {\n",
       "    display_condition(options, node.data.condition, output);\n",
       "  }\n",
       "\n",
       "  \/\/ Values.\n",
       "  if (node.data.value != null) {\n",
       "    display_value(options, node.data.value, output);\n",
       "  }\n",
       "\n",
       "  \/\/ Explanations.\n",
       "  if (node.data.explanation != null) {\n",
       "    display_explanation(options, node.data.explanation, output);\n",
       "  }\n",
       "\n",
       "  return output.content.node();\n",
       "}\n",
       "\n",
       "\n",
       "\/**\n",
       " * Adds a single line of text inside of a node.\n",
       " * @param {!options} options Dictionary of configurations.\n",
       " * @param {string} text Text to display.\n",
       " * @param {!output} output Output display accumulator.\n",
       " *\/\n",
       "function display_node_text(options, text, output) {\n",
       "  output.content.append('text')\n",
       "      .attr('x', options.node_padding)\n",
       "      .attr('y', output.vertical_offset)\n",
       "      .attr('alignment-baseline', 'hanging')\n",
       "      .text(text);\n",
       "  output.vertical_offset += 10;\n",
       "}\n",
       "\n",
       "\/**\n",
       " * Adds a single line of text inside of a node with a tooltip.\n",
       " * @param {!options} options Dictionary of configurations.\n",
       " * @param {string} text Text to display.\n",
       " * @param {string} tooltip Text in the Tooltip.\n",
       " * @param {!output} output Output display accumulator.\n",
       " *\/\n",
       "function display_node_text_with_tooltip(options, text, tooltip, output) {\n",
       "  const item = output.content.append('text')\n",
       "                   .attr('x', options.node_padding)\n",
       "                   .attr('alignment-baseline', 'hanging')\n",
       "                   .text(text);\n",
       "\n",
       "  add_tooltip(options, item, () => tooltip);\n",
       "  output.vertical_offset += 10;\n",
       "}\n",
       "\n",
       "\/**\n",
       " * Adds a tooltip to a dom element.\n",
       " * @param {!options} options Dictionary of configurations.\n",
       " * @param {!dom} target Dom element to equip with a tooltip.\n",
       " * @param {!func} get_content Generates the html content of the tooltip.\n",
       " *\/\n",
       "function add_tooltip(options, target, get_content) {\n",
       "  function show(d) {\n",
       "    options.tooltip.style('display', 'block');\n",
       "    options.tooltip.html(get_content());\n",
       "  }\n",
       "\n",
       "  function hide(d) {\n",
       "    options.tooltip.style('display', 'none');\n",
       "  }\n",
       "\n",
       "  function move(d) {\n",
       "    options.tooltip.style('display', 'block');\n",
       "    options.tooltip.style('left', (d.pageX + 5) + 'px');\n",
       "    options.tooltip.style('top', d.pageY + 'px');\n",
       "  }\n",
       "\n",
       "  target.on('mouseover', show);\n",
       "  target.on('mouseout', hide);\n",
       "  target.on('mousemove', move);\n",
       "}\n",
       "\n",
       "\/**\n",
       " * Adds a condition inside of a node.\n",
       " * @param {!options} options Dictionary of configurations.\n",
       " * @param {!condition} condition Condition to display.\n",
       " * @param {!output} output Output display accumulator.\n",
       " *\/\n",
       "function display_condition(options, condition, output) {\n",
       "  threshold_format = d3.format('r');\n",
       "\n",
       "  if (condition.type === 'IS_MISSING') {\n",
       "    display_node_text(options, `${condition.attribute} is missing`, output);\n",
       "    return;\n",
       "  }\n",
       "\n",
       "  if (condition.type === 'IS_TRUE') {\n",
       "    display_node_text(options, `${condition.attribute} is true`, output);\n",
       "    return;\n",
       "  }\n",
       "\n",
       "  if (condition.type === 'NUMERICAL_IS_HIGHER_THAN') {\n",
       "    format = d3.format('r');\n",
       "    display_node_text(\n",
       "        options,\n",
       "        `${condition.attribute} >= ${threshold_format(condition.threshold)}`,\n",
       "        output);\n",
       "    return;\n",
       "  }\n",
       "\n",
       "  if (condition.type === 'CATEGORICAL_IS_IN') {\n",
       "    display_node_text_with_tooltip(\n",
       "        options, `${condition.attribute} in [...]`,\n",
       "        `${condition.attribute} in [${condition.mask}]`, output);\n",
       "    return;\n",
       "  }\n",
       "\n",
       "  if (condition.type === 'CATEGORICAL_SET_CONTAINS') {\n",
       "    display_node_text_with_tooltip(\n",
       "        options, `${condition.attribute} intersect [...]`,\n",
       "        `${condition.attribute} intersect [${condition.mask}]`, output);\n",
       "    return;\n",
       "  }\n",
       "\n",
       "  if (condition.type === 'NUMERICAL_SPARSE_OBLIQUE') {\n",
       "    display_node_text_with_tooltip(\n",
       "        options, `Sparse oblique split...`,\n",
       "        `[${condition.attributes}]*[${condition.weights}]>=${\n",
       "            threshold_format(condition.threshold)}`,\n",
       "        output);\n",
       "    return;\n",
       "  }\n",
       "\n",
       "  display_node_text(\n",
       "      options, `Non supported condition ${condition.type}`, output);\n",
       "}\n",
       "\n",
       "\/**\n",
       " * Adds a value inside of a node.\n",
       " * @param {!options} options Dictionary of configurations.\n",
       " * @param {!value} value Value to display.\n",
       " * @param {!output} output Output display accumulator.\n",
       " *\/\n",
       "function display_value(options, value, output) {\n",
       "  if (value.type === 'PROBABILITY') {\n",
       "    const left_margin = 0;\n",
       "    const right_margin = 50;\n",
       "    const plot_width = options.node_x_size - options.node_padding * 2 -\n",
       "        left_margin - right_margin;\n",
       "\n",
       "    let cusum = Array.from(d3.cumsum(value.distribution));\n",
       "    cusum.unshift(0);\n",
       "    const distribution_plot = output.content.append('g').attr(\n",
       "        'transform', `translate(0,${output.vertical_offset + 0.5})`);\n",
       "\n",
       "    distribution_plot.selectAll('rect')\n",
       "        .data(value.distribution)\n",
       "        .join('rect')\n",
       "        .attr('height', 10)\n",
       "        .attr(\n",
       "            'x',\n",
       "            (d, i) =>\n",
       "                (cusum[i] * plot_width + left_margin + options.node_padding))\n",
       "        .attr('width', (d, i) => d * plot_width)\n",
       "        .style('fill', (d, i) => d3.schemeSet1[i]);\n",
       "\n",
       "    const num_examples =\n",
       "        output.content.append('g')\n",
       "            .attr('transform', `translate(0,${output.vertical_offset})`)\n",
       "            .append('text')\n",
       "            .attr('x', options.node_x_size - options.node_padding)\n",
       "            .attr('alignment-baseline', 'hanging')\n",
       "            .attr('text-anchor', 'end')\n",
       "            .text(`(${value.num_examples})`);\n",
       "\n",
       "    const distribution_details = d3.create('ul');\n",
       "    distribution_details.selectAll('li')\n",
       "        .data(value.distribution)\n",
       "        .join('li')\n",
       "        .append('span')\n",
       "        .text(\n",
       "            (d, i) =>\n",
       "                'class ' + i + ': ' + d3.format('.3%')(value.distribution[i]));\n",
       "\n",
       "    add_tooltip(options, distribution_plot, () => distribution_details.html());\n",
       "    add_tooltip(options, num_examples, () => 'Number of examples');\n",
       "\n",
       "    output.vertical_offset += 10;\n",
       "    return;\n",
       "  }\n",
       "\n",
       "  if (value.type === 'REGRESSION') {\n",
       "    display_node_text(\n",
       "        options,\n",
       "        'value: ' + d3.format('r')(value.value) + ` (` +\n",
       "            d3.format('.6')(value.num_examples) + `)`,\n",
       "        output);\n",
       "    return;\n",
       "  }\n",
       "\n",
       "  if (value.type === 'UPLIFT') {\n",
       "    display_node_text(\n",
       "        options,\n",
       "        'effect: ' + d3.format('r')(value.treatment_effect) + ` (` +\n",
       "            d3.format('.6')(value.num_examples) + `)`,\n",
       "        output);\n",
       "    return;\n",
       "  }\n",
       "\n",
       "  display_node_text(options, `Non supported value ${value.type}`, output);\n",
       "}\n",
       "\n",
       "\/**\n",
       " * Adds an explanation inside of a node.\n",
       " * @param {!options} options Dictionary of configurations.\n",
       " * @param {!explanation} explanation Explanation to display.\n",
       " * @param {!output} output Output display accumulator.\n",
       " *\/\n",
       "function display_explanation(options, explanation, output) {\n",
       "  \/\/ Margin before the explanation.\n",
       "  output.vertical_offset += 10;\n",
       "\n",
       "  display_node_text(\n",
       "      options, `Non supported explanation ${explanation.type}`, output);\n",
       "}\n",
       "\n",
       "\n",
       "\/**\n",
       " * Draw the edges of the tree.\n",
       " * @param {!options} options Dictionary of configurations.\n",
       " * @param {!graph} graph D3 search handle containing the graph.\n",
       " * @param {!tree_struct} tree_struct Structure of the tree (node placement,\n",
       " *     data, etc.).\n",
       " *\/\n",
       "function display_edges(options, graph, tree_struct) {\n",
       "  \/\/ Draw an edge between a parent and a child node with a bezier.\n",
       "  function draw_single_edge(d) {\n",
       "    return 'M' + (d.source.y + options.node_x_size) + ',' + d.source.x + ' C' +\n",
       "        (d.source.y + options.node_x_size + options.edge_rounding) + ',' +\n",
       "        d.source.x + ' ' + (d.target.y - options.edge_rounding) + ',' +\n",
       "        d.target.x + ' ' + d.target.y + ',' + d.target.x;\n",
       "  }\n",
       "\n",
       "  graph.append('g')\n",
       "      .attr('fill', 'none')\n",
       "      .attr('stroke-width', 1.2)\n",
       "      .selectAll('path')\n",
       "      .data(tree_struct.links())\n",
       "      .join('path')\n",
       "      .attr('d', draw_single_edge)\n",
       "      .attr(\n",
       "          'stroke', d => (d.target === d.source.children[0]) ? '#0F0' : '#F00');\n",
       "}\n",
       "\n",
       "display_tree({\"margin\": 10, \"node_x_size\": 160, \"node_y_size\": 28, \"node_x_offset\": 180, \"node_y_offset\": 33, \"font_size\": 10, \"edge_rounding\": 20, \"node_padding\": 2, \"show_plot_bounding_box\": false}, {\"value\": {\"type\": \"PROBABILITY\", \"distribution\": [0.4961139896373057, 0.5038860103626943], \"num_examples\": 6948.0}, \"condition\": {\"type\": \"NUMERICAL_IS_HIGHER_THAN\", \"attribute\": \"ShoppingMall\", \"threshold\": 0.5}, \"children\": [{\"value\": {\"type\": \"PROBABILITY\", \"distribution\": [0.6669565217391304, 0.33304347826086955], \"num_examples\": 2300.0}, \"condition\": {\"type\": \"NUMERICAL_IS_HIGHER_THAN\", \"attribute\": \"RoomService\", \"threshold\": 441.5}, \"children\": [{\"value\": {\"type\": \"PROBABILITY\", \"distribution\": [0.8498498498498499, 0.15015015015015015], \"num_examples\": 666.0}, \"condition\": {\"type\": \"NUMERICAL_IS_HIGHER_THAN\", \"attribute\": \"FoodCourt\", \"threshold\": 1160.0}, \"children\": [{\"value\": {\"type\": \"PROBABILITY\", \"distribution\": [0.4666666666666667, 0.5333333333333333], \"num_examples\": 30.0}, \"condition\": {\"type\": \"NUMERICAL_IS_HIGHER_THAN\", \"attribute\": \"Spa\", \"threshold\": 174.5}}, {\"value\": {\"type\": \"PROBABILITY\", \"distribution\": [0.8679245283018868, 0.1320754716981132], \"num_examples\": 636.0}, \"condition\": {\"type\": \"CATEGORICAL_IS_IN\", \"attribute\": \"Cabin_num\", \"mask\": [\"<OOD>\", \"82\", \"186\", \"109\", \"187\", \"176\", \"158\", \"78\", \"238\", \"222\", \"95\", \"283\", \"163\", \"102\", \"54\", \"265\", \"260\", \"226\", \"189\", \"124\", \"90\", \"62\", \"6\", \"291\", \"266\", \"245\", \"127\", \"117\", \"99\", \"48\", \"24\", \"233\", \"215\", \"211\", \"206\", \"184\", \"134\", \"66\", \"383\", \"272\", \"263\", \"261\", \"159\", \"154\", \"1194\", \"1026\", \"532\", \"412\", \"309\", \"284\", \"228\", \"203\", \"180\", \"174\", \"165\", \"162\", \"153\", \"938\", \"93\", \"838\", \"814\", \"574\", \"522\", \"445\", \"391\", \"334\", \"327\", \"273\", \"257\", \"231\", \"1455\", \"1289\", \"893\", \"731\", \"577\", \"558\", \"488\", \"465\", \"421\", \"420\", \"419\", \"299\", \"296\", \"274\", \"1433\", \"1330\", \"1131\", \"112\", \"1118\", \"106\", \"1002\"]}}]}, {\"value\": {\"type\": \"PROBABILITY\", \"distribution\": [0.5924112607099143, 0.40758873929008566], \"num_examples\": 1634.0}, \"condition\": {\"type\": \"CATEGORICAL_IS_IN\", \"attribute\": \"Cabin_num\", \"mask\": [\"19\", \"75\", \"50\", \"144\", \"103\", \"227\", \"21\", \"201\", \"166\", \"80\", \"43\", \"225\", \"187\", \"175\", \"83\", \"53\", \"3\", \"281\", \"238\", \"222\", \"183\", \"16\", \"140\", \"121\", \"11\", \"0\", \"95\", \"9\", \"60\", \"59\", \"57\", \"208\", \"150\", \"118\", \"107\", \"8\", \"55\", \"54\", \"46\", \"253\", \"237\", \"190\", \"189\", \"142\", \"129\", \"122\", \"1046\", \"1\", \"42\", \"39\", \"306\", \"28\", \"266\", \"259\", \"245\", \"2\", \"185\", \"171\", \"117\", \"113\", \"10\", \"49\", \"323\", \"26\", \"218\", \"211\", \"184\", \"141\", \"135\", \"134\", \"45\", \"383\", \"36\", \"342\", \"329\", \"308\", \"287\", \"277\", \"251\", \"244\", \"232\", \"22\", \"195\", \"181\", \"161\", \"159\", \"87\", \"533\", \"450\", \"377\", \"301\", \"284\", \"168\", \"1278\", \"126\", \"110\", \"104\", \"93\", \"903\", \"73\", \"585\", \"564\", \"553\", \"541\", \"461\", \"439\", \"257\", \"252\", \"242\", \"236\", \"224\", \"177\", \"147\", \"1455\", \"1416\", \"1313\", \"108\", \"970\", \"937\", \"900\", \"880\", \"810\", \"799\", \"757\", \"731\", \"577\", \"548\", \"521\", \"513\", \"421\", \"419\", \"365\", \"357\", \"347\", \"337\", \"335\", \"321\", \"299\", \"271\", \"205\", \"1758\", \"1711\", \"1704\", \"1461\", \"1126\", \"112\", \"1098\"]}, \"children\": [{\"value\": {\"type\": \"PROBABILITY\", \"distribution\": [0.4811083123425693, 0.5188916876574308], \"num_examples\": 397.0}, \"condition\": {\"type\": \"NUMERICAL_IS_HIGHER_THAN\", \"attribute\": \"Spa\", \"threshold\": 599.0}}, {\"value\": {\"type\": \"PROBABILITY\", \"distribution\": [0.6281325788197252, 0.3718674211802749], \"num_examples\": 1237.0}, \"condition\": {\"type\": \"NUMERICAL_IS_HIGHER_THAN\", \"attribute\": \"Spa\", \"threshold\": 51.5}}]}]}, {\"value\": {\"type\": \"PROBABILITY\", \"distribution\": [0.41157487091222034, 0.5884251290877797], \"num_examples\": 4648.0}, \"condition\": {\"type\": \"NUMERICAL_IS_HIGHER_THAN\", \"attribute\": \"VRDeck\", \"threshold\": 0.5}, \"children\": [{\"value\": {\"type\": \"PROBABILITY\", \"distribution\": [0.7520391517128875, 0.24796084828711257], \"num_examples\": 1226.0}, \"condition\": {\"type\": \"NUMERICAL_IS_HIGHER_THAN\", \"attribute\": \"FoodCourt\", \"threshold\": 673.0}, \"children\": [{\"value\": {\"type\": \"PROBABILITY\", \"distribution\": [0.5273972602739726, 0.4726027397260274], \"num_examples\": 438.0}, \"condition\": {\"type\": \"NUMERICAL_IS_HIGHER_THAN\", \"attribute\": \"Spa\", \"threshold\": 2459.5}}, {\"value\": {\"type\": \"PROBABILITY\", \"distribution\": [0.8769035532994924, 0.12309644670050761], \"num_examples\": 788.0}, \"condition\": {\"type\": \"CATEGORICAL_IS_IN\", \"attribute\": \"Cabin_num\", \"mask\": [\"<OOD>\", \"82\", \"56\", \"19\", \"75\", \"13\", \"225\", \"96\", \"78\", \"68\", \"53\", \"44\", \"194\", \"183\", \"95\", \"9\", \"74\", \"57\", \"178\", \"107\", \"101\", \"46\", \"276\", \"199\", \"190\", \"156\", \"142\", \"98\", \"94\", \"291\", \"289\", \"28\", \"264\", \"259\", \"20\", \"2\", \"196\", \"192\", \"179\", \"100\", \"89\", \"48\", \"352\", \"285\", \"235\", \"155\", \"141\", \"105\", \"85\", \"79\", \"45\", \"30\", \"173\", \"159\", \"146\", \"943\", \"69\", \"570\", \"474\", \"330\", \"290\", \"239\", \"228\", \"210\", \"143\", \"1268\", \"126\", \"938\", \"84\", \"541\", \"4\", \"327\", \"275\", \"231\", \"1316\", \"893\", \"88\", \"762\", \"586\", \"580\", \"571\", \"548\", \"521\", \"507\", \"387\", \"355\", \"335\", \"302\", \"282\", \"280\", \"234\", \"205\", \"1711\", \"157\", \"128\", \"1233\"]}}]}, {\"value\": {\"type\": \"PROBABILITY\", \"distribution\": [0.28959672706019873, 0.7104032729398013], \"num_examples\": 3422.0}, \"condition\": {\"type\": \"CATEGORICAL_IS_IN\", \"attribute\": \"HomePlanet\", \"mask\": [\"Europa\", \"Mars\"]}, \"children\": [{\"value\": {\"type\": \"PROBABILITY\", \"distribution\": [0.09561231172233137, 0.9043876882776686], \"num_examples\": 1527.0}, \"condition\": {\"type\": \"CATEGORICAL_IS_IN\", \"attribute\": \"Deck\", \"mask\": [\"F\", \"B\", \"C\", \"D\", \"A\"]}}, {\"value\": {\"type\": \"PROBABILITY\", \"distribution\": [0.44591029023746703, 0.554089709762533], \"num_examples\": 1895.0}, \"condition\": {\"type\": \"NUMERICAL_IS_HIGHER_THAN\", \"attribute\": \"Spa\", \"threshold\": 11.5}}]}]}]}, \"#tree_plot_31ab0b92a880416facfbdb1dfa5d3826\")\n",
       "<\/script>\n"
      ]
     },
     "metadata":{
      
     },
     "output_type":"display_data"
    }
   ],
   "metadata":{
    "datalore":{
     "node_id":"kWHUjay6Vel3cWTL58edLP",
     "type":"CODE",
     "hide_input_from_viewers":false,
     "hide_output_from_viewers":false,
     "report_properties":{
      "rowId":"x6IdIQaIAFLwZ9ic67EZwi",
      "relativeY":0
     }
    }
   }
  },
  {
   "cell_type":"markdown",
   "source":[
    "Los registros de entrenamiento muestran la precisión evaluada en el conjunto de datos fuera de los datos de validacion (out of bag) en función del número de árboles del modelo, por lo que vamos a representarlo gráficamente"
   ],
   "attachments":{
    
   },
   "metadata":{
    "datalore":{
     "node_id":"mZJPZufuZTUWLXmTl5dqhm",
     "type":"MD",
     "hide_input_from_viewers":false,
     "hide_output_from_viewers":false,
     "report_properties":{
      "rowId":"tWvojbDia6UhjSFCXnnsJN",
      "relativeY":0
     }
    }
   }
  },
  {
   "cell_type":"code",
   "source":[
    "import matplotlib.pyplot as plt\n",
    "logs = rf.make_inspector().training_logs()\n",
    "plt.plot([log.num_trees for log in logs], [log.evaluation.accuracy for log in logs])\n",
    "plt.xlabel(\"Number of trees\")\n",
    "plt.ylabel(\"Accuracy (out-of-bag)\")\n",
    "plt.show()"
   ],
   "execution_count":null,
   "outputs":[
    {
     "data":{
      "image\/png":"[encoded data removed]"
     },
     "metadata":{
      "image\/png":{
       
      }
     },
     "output_type":"display_data"
    }
   ],
   "metadata":{
    "datalore":{
     "node_id":"x53ATR6gZ4QnlF92IKTdSp",
     "type":"CODE",
     "hide_input_from_viewers":false,
     "hide_output_from_viewers":false,
     "report_properties":{
      "rowId":"hNRg96rg7EBQV4OrSCpk8Y",
      "relativeY":0
     }
    }
   }
  },
  {
   "cell_type":"markdown",
   "source":[
    "Podemos ver mas informacion adicional acerca de las estadisticas del set out of bag (OOB)"
   ],
   "attachments":{
    
   },
   "metadata":{
    "datalore":{
     "node_id":"NzCoiRyyDk9CjlDGiSCyt5",
     "type":"MD",
     "hide_input_from_viewers":false,
     "hide_output_from_viewers":false,
     "report_properties":{
      "rowId":"FWnNOiuHt7f5lnimKZOv8e",
      "relativeY":0
     }
    }
   }
  },
  {
   "cell_type":"code",
   "source":[
    "inspector = rf.make_inspector()\n",
    "inspector.evaluation()"
   ],
   "execution_count":null,
   "outputs":[
    {
     "data":{
      "text\/plain":[
       "Evaluation(num_examples=6948, accuracy=0.7930339666090962, loss=0.5364584511634666, rmse=None, ndcg=None, aucs=None, auuc=None, qini=None)"
      ]
     },
     "metadata":{
      
     },
     "output_type":"display_data"
    }
   ],
   "metadata":{
    "datalore":{
     "node_id":"djkK2eiIKYx8RaLHvaKBcE",
     "type":"CODE",
     "hide_input_from_viewers":false,
     "hide_output_from_viewers":false,
     "report_properties":{
      "rowId":"5QTwnwgiwyyjRr4CNRnlOA",
      "relativeY":0
     }
    }
   }
  },
  {
   "cell_type":"markdown",
   "source":[
    "**Procedemos a evaluar el modelo con el set de validacion**"
   ],
   "attachments":{
    
   },
   "metadata":{
    "datalore":{
     "node_id":"n7RpLtxlJoGojsyXEKBDR0",
     "type":"MD",
     "hide_input_from_viewers":false,
     "hide_output_from_viewers":false,
     "report_properties":{
      "rowId":"A9lf9V7YV93ySW1bEXcehF",
      "relativeY":0
     }
    }
   }
  },
  {
   "cell_type":"code",
   "source":[
    "evaluation = rf.evaluate(x=valid_ds,return_dict=True)\n",
    "\n",
    "for name, value in evaluation.items():\n",
    "  print(f\"{name}: {value:.4f}\")"
   ],
   "execution_count":null,
   "outputs":[
    {
     "name":"stdout",
     "text":[
      "\r1\/2 [==============>...............] - ETA: 0s - loss: 0.0000e+00 - accuracy: 0.8130\b\b\b\b\b\b\b\b\b\b\b\b\b\b\b\b\b\b\b\b\b\b\b\b\b\b\b\b\b\b\b\b\b\b\b\b\b\b\b\b\b\b\b\b\b\b\b\b\b\b\b\b\b\b\b\b\b\b\b\b\b\b\b\b\b\b\b\b\b\b\b\b\b\b\b\b\b\b\b\b\b\b\b\b\r2\/2 [==============================] - ETA: 0s - loss: 0.0000e+00 - accuracy: 0.8103\b\b\b\b\b\b\b\b\b\b\b\b\b\b\b\b\b\b\b\b\b\b\b\b\b\b\b\b\b\b\b\b\b\b\b\b\b\b\b\b\b\b\b\b\b\b\b\b\b\b\b\b\b\b\b\b\b\b\b\b\b\b\b\b\b\b\b\b\b\b\b\b\b\b\b\b\b\b\b\b\b\b\b\b\r2\/2 [==============================] - 0s 57ms\/step - loss: 0.0000e+00 - accuracy: 0.8103\n",
      "loss: 0.0000\n",
      "accuracy: 0.8103\n"
     ],
     "output_type":"stream"
    }
   ],
   "metadata":{
    "datalore":{
     "node_id":"P1fAukpmfeU1hHCVzXn2eE",
     "type":"CODE",
     "hide_input_from_viewers":false,
     "hide_output_from_viewers":false,
     "report_properties":{
      "rowId":"u4FxHTdwTDrWSLUmfI3ygG",
      "relativeY":0
     }
    }
   }
  },
  {
   "cell_type":"markdown",
   "source":[
    "Vemos las variables importantes disponibles"
   ],
   "attachments":{
    
   },
   "metadata":{
    "datalore":{
     "node_id":"ncxEyu2VOGt2M66Zn3Ujsd",
     "type":"MD",
     "hide_input_from_viewers":false,
     "hide_output_from_viewers":false,
     "report_properties":{
      "rowId":"9DoWVn71xv0vhnpABGXm2C",
      "relativeY":0
     }
    }
   }
  },
  {
   "cell_type":"code",
   "source":[
    "print(f\"Available variable importances:\")\n",
    "for importance in inspector.variable_importances().keys():\n",
    "  print(\"\\t\", importance)"
   ],
   "execution_count":null,
   "outputs":[
    {
     "name":"stdout",
     "text":[
      "Available variable importances:\n",
      "\t INV_MEAN_MIN_DEPTH\n",
      "\t NUM_AS_ROOT\n",
      "\t SUM_SCORE\n",
      "\t NUM_NODES\n"
     ],
     "output_type":"stream"
    }
   ],
   "metadata":{
    "datalore":{
     "node_id":"OoohYifHyrgiScwvKjk3Sn",
     "type":"CODE",
     "hide_input_from_viewers":false,
     "hide_output_from_viewers":false,
     "report_properties":{
      "rowId":"flu698P373v2TJvHZgUwcU",
      "relativeY":0
     }
    }
   }
  },
  {
   "cell_type":"markdown",
   "source":[
    "Obtenemos las variables mas importantes para el modelo"
   ],
   "attachments":{
    
   },
   "metadata":{
    "datalore":{
     "node_id":"G0HyuqhkYf7AvilJKYccFL",
     "type":"MD",
     "hide_input_from_viewers":false,
     "hide_output_from_viewers":false,
     "report_properties":{
      "rowId":"01H6oIY806qGXAi4eK0mvD",
      "relativeY":0
     }
    }
   }
  },
  {
   "cell_type":"code",
   "source":[
    "inspector.variable_importances()[\"NUM_AS_ROOT\"]"
   ],
   "execution_count":null,
   "outputs":[
    {
     "data":{
      "text\/plain":[
       "[(\"CryoSleep\" (1; #2), 126.0),\n",
       " (\"RoomService\" (1; #7), 59.0),\n",
       " (\"Spa\" (1; #10), 54.0),\n",
       " (\"VRDeck\" (1; #12), 26.0),\n",
       " (\"ShoppingMall\" (1; #8), 24.0),\n",
       " (\"FoodCourt\" (1; #5), 11.0)]"
      ]
     },
     "metadata":{
      
     },
     "output_type":"display_data"
    }
   ],
   "metadata":{
    "datalore":{
     "node_id":"QSUsAmV9Sh9ZBnh8QJm3lT",
     "type":"CODE",
     "hide_input_from_viewers":false,
     "hide_output_from_viewers":false,
     "report_properties":{
      "rowId":"xCh5Dy7uks1Fk2q2IUY6qS",
      "relativeY":0
     }
    }
   }
  },
  {
   "cell_type":"markdown",
   "source":[
    "**Vemos que 'CryoSleep' es la variable mas importante para el arbol de decisiones**"
   ],
   "attachments":{
    
   },
   "metadata":{
    "datalore":{
     "node_id":"jtWSiNzIJ6rP7lV3ZI1edM",
     "type":"MD",
     "hide_input_from_viewers":false,
     "hide_output_from_viewers":false,
     "report_properties":{
      "rowId":"31VZaKOHL91mI12plV7Dh8",
      "relativeY":0
     }
    }
   }
  },
  {
   "cell_type":"markdown",
   "source":[
    "# Evaluando el modelo con el conjunto de datos test objetivo"
   ],
   "attachments":{
    
   },
   "metadata":{
    "datalore":{
     "node_id":"sGjI3yXsAtqgUJi5rPXPsq",
     "type":"MD",
     "hide_input_from_viewers":false,
     "hide_output_from_viewers":false,
     "report_properties":{
      "rowId":"NRIUsWaAhYnfRybynNG6c1",
      "relativeY":0
     }
    }
   }
  },
  {
   "cell_type":"code",
   "source":[
    "import pandas as pd\n",
    "\n",
    "# Importando test dataset\n",
    "test_df = pd.read_csv('\/data\/workspace_files\/Spaceship Titanic\/test.csv')\n",
    "submission_id = test_df.PassengerId\n",
    "\n",
    "# Reemplazando valores con cero\n",
    "test_df[['VIP', 'CryoSleep']] = test_df[['VIP', 'CryoSleep']].fillna(value=0)\n",
    "\n",
    "# Separando los valores de Cabin\n",
    "test_df[[\"Deck\", \"Cabin_num\", \"Side\"]] = test_df[\"Cabin\"].str.split(\"\/\", expand=True)\n",
    "test_df = test_df.drop('Cabin', axis=1)\n",
    "\n",
    "# Convirtiendo booleans en int\n",
    "test_df['VIP'] = test_df['VIP'].astype(int)\n",
    "test_df['CryoSleep'] = test_df['CryoSleep'].astype(int)\n",
    "\n",
    "# Convirtiendo pd dataframe a tf dataset\n",
    "test_ds = tfdf.keras.pd_dataframe_to_tf_dataset(test_df)\n",
    "\n",
    "# Obteniendo predicciones para testdata\n",
    "predictions = rf.predict(test_ds)\n",
    "n_predictions = (predictions > 0.5).astype(bool)\n",
    "output = pd.DataFrame({'PassengerId': submission_id,\n",
    "                       'Transported': n_predictions.squeeze()})\n",
    "\n",
    "output.head()"
   ],
   "execution_count":null,
   "outputs":[
    {
     "name":"stdout",
     "text":[
      "\r1\/5 [=====>........................] - ETA: 0s\b\b\b\b\b\b\b\b\b\b\b\b\b\b\b\b\b\b\b\b\b\b\b\b\b\b\b\b\b\b\b\b\b\b\b\b\b\b\b\b\b\b\b\b\b\b\r2\/5 [===========>..................] - ETA: 0s\b\b\b\b\b\b\b\b\b\b\b\b\b\b\b\b\b\b\b\b\b\b\b\b\b\b\b\b\b\b\b\b\b\b\b\b\b\b\b\b\b\b\b\b\b\b\r3\/5 [=================>............] - ETA: 0s\b\b\b\b\b\b\b\b\b\b\b\b\b\b\b\b\b\b\b\b\b\b\b\b\b\b\b\b\b\b\b\b\b\b\b\b\b\b\b\b\b\b\b\b\b\b\r4\/5 [=======================>......] - ETA: 0s\b\b\b\b\b\b\b\b\b\b\b\b\b\b\b\b\b\b\b\b\b\b\b\b\b\b\b\b\b\b\b\b\b\b\b\b\b\b\b\b\b\b\b\b\b\b\r5\/5 [==============================] - 0s 60ms\/step\n"
     ],
     "output_type":"stream"
    },
    {
     "data":{
      "text\/html":[
       "<div>\n",
       "<style scoped>\n",
       "    .dataframe tbody tr th:only-of-type {\n",
       "        vertical-align: middle;\n",
       "    }\n",
       "\n",
       "    .dataframe tbody tr th {\n",
       "        vertical-align: top;\n",
       "    }\n",
       "\n",
       "    .dataframe thead th {\n",
       "        text-align: right;\n",
       "    }\n",
       "<\/style>\n",
       "<table border=\"1\" class=\"dataframe\">\n",
       "  <thead>\n",
       "    <tr style=\"text-align: right;\">\n",
       "      <th><\/th>\n",
       "      <th>PassengerId<\/th>\n",
       "      <th>Transported<\/th>\n",
       "    <\/tr>\n",
       "  <\/thead>\n",
       "  <tbody>\n",
       "    <tr>\n",
       "      <th>0<\/th>\n",
       "      <td>0013_01<\/td>\n",
       "      <td>True<\/td>\n",
       "    <\/tr>\n",
       "    <tr>\n",
       "      <th>1<\/th>\n",
       "      <td>0018_01<\/td>\n",
       "      <td>False<\/td>\n",
       "    <\/tr>\n",
       "    <tr>\n",
       "      <th>2<\/th>\n",
       "      <td>0019_01<\/td>\n",
       "      <td>True<\/td>\n",
       "    <\/tr>\n",
       "    <tr>\n",
       "      <th>3<\/th>\n",
       "      <td>0021_01<\/td>\n",
       "      <td>True<\/td>\n",
       "    <\/tr>\n",
       "    <tr>\n",
       "      <th>4<\/th>\n",
       "      <td>0023_01<\/td>\n",
       "      <td>True<\/td>\n",
       "    <\/tr>\n",
       "  <\/tbody>\n",
       "<\/table>\n",
       "<\/div>"
      ]
     },
     "metadata":{
      
     },
     "output_type":"display_data"
    }
   ],
   "metadata":{
    "datalore":{
     "node_id":"KNqVeZMEmCSmbUfTCxdSzY",
     "type":"CODE",
     "hide_input_from_viewers":false,
     "hide_output_from_viewers":false,
     "report_properties":{
      "rowId":"7b1ChB3e9pbPKLK13XWnlf",
      "relativeY":0
     }
    }
   }
  }
 ],
 "metadata":{
  "kernelspec":{
   "display_name":"Python",
   "language":"python",
   "name":"python"
  },
  "datalore":{
   "computation_mode":"REACTIVE",
   "package_manager":"pip",
   "base_environment":"default",
   "packages":[
    
   ],
   "report_row_ids":[
    "swAxJgQ6SEIulygVMujBjt",
    "zfXaq5sVgDdmrxXGY1A95g",
    "9og3atBYnNP3jD2guZnXgn",
    "NcCzl0PKAy5H2wllaarZQf",
    "wn0TiHGAF36Y2Aj902slYK",
    "K9LTn0jNQnU3OSYCC0OUF1",
    "w0wUtpsjGBEVn5cvXng6Id",
    "3PhMs8bJd168EZXPlrdHOk",
    "DiihRsEXmkUNsFrca7OxgM",
    "KQKje5KW81EbALYIcmcHfP",
    "snZjaOGhymlIqmmF7URqlH",
    "KZt7E8TeJDXeGAhzHg94zs",
    "MjkM7IFfBxvCBzgGirGAHd",
    "yuVF9aNNYb61EQxbb3rcSG",
    "I7XVjFPPYsf5yEQWtuKX7f",
    "UIYmxbdbjfqYiHyi6SqAzW",
    "riLAcIM2ehT7IZCXYecG6H",
    "ZESsdhu1jtuf5dZG9UYMfx",
    "O2VecFv7S64GFJ8yGMovU0",
    "YAWQDuUN4FVvjnw0Qrs3HB",
    "qU1yQKzHYQJe0wmUBqUuIR",
    "LDutQJxAUJFLnLIhNO6Fa7",
    "fIfIzG6ShPozE0XVyRlkAc",
    "ZZmmvcjoOvINfbSlXPFAdF",
    "zY80l5POwmDVNMXPQ4ohVq",
    "ICW7U1FhixFaRb1tkG4FUZ",
    "DrDknwFUC3nrcHklzM2cvj",
    "DvAQgLHehTSH2ntCXJRo1o",
    "nWyZXgENJG7YplCUjGI95U",
    "K20RzQuYxIvLtpwTViDTjb",
    "69Gc6s1peDD0zAOiqwOsv1",
    "6ZkfgHlNkngSdRf0ZpDUKY",
    "V0JG5OEA4HRIvhQWl6Pyiy",
    "5QXincPw11OgUEQ3U2bhar",
    "QJGeaPO4rm4NjBZxJyNqNm",
    "x6IdIQaIAFLwZ9ic67EZwi",
    "tWvojbDia6UhjSFCXnnsJN",
    "hNRg96rg7EBQV4OrSCpk8Y",
    "FWnNOiuHt7f5lnimKZOv8e",
    "5QTwnwgiwyyjRr4CNRnlOA",
    "A9lf9V7YV93ySW1bEXcehF",
    "u4FxHTdwTDrWSLUmfI3ygG",
    "9DoWVn71xv0vhnpABGXm2C",
    "flu698P373v2TJvHZgUwcU",
    "01H6oIY806qGXAi4eK0mvD",
    "xCh5Dy7uks1Fk2q2IUY6qS",
    "31VZaKOHL91mI12plV7Dh8",
    "NRIUsWaAhYnfRybynNG6c1",
    "7b1ChB3e9pbPKLK13XWnlf"
   ],
   "version":3
  }
 },
 "nbformat":4,
 "nbformat_minor":4
}